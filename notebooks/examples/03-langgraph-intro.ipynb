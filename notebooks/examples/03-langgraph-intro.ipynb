{
 "cells": [
  {
   "cell_type": "code",
   "execution_count": 1,
   "metadata": {},
   "outputs": [],
   "source": [
    "%load_ext autoreload\n",
    "%autoreload 2"
   ]
  },
  {
   "cell_type": "code",
   "execution_count": 2,
   "metadata": {},
   "outputs": [],
   "source": [
    "from dotenv import load_dotenv\n",
    "\n",
    "if not load_dotenv():\n",
    "    raise FileNotFoundError(\"No .env file found\")"
   ]
  },
  {
   "cell_type": "code",
   "execution_count": 3,
   "metadata": {},
   "outputs": [],
   "source": [
    "from llm_agents_introduction.alpha_vantage import AlphaVantageService\n",
    "from llm_agents_introduction.tools.market_data_tools import create_market_data_tools\n",
    "\n",
    "# create basic set of stock data tools\n",
    "alpha_vantage = AlphaVantageService.create()\n",
    "# slightly more advanced set of stock data tools\n",
    "tools = create_market_data_tools(alpha_vantage)"
   ]
  },
  {
   "cell_type": "code",
   "execution_count": 4,
   "metadata": {},
   "outputs": [],
   "source": [
    "from datetime import date\n",
    "from langchain_openai import ChatOpenAI\n",
    "from langchain_core.prompts import MessagesPlaceholder\n",
    "from langchain_core.prompts.chat import ChatPromptTemplate\n",
    "\n",
    "# define assistant chain\n",
    "model = ChatOpenAI(\n",
    "    model=\"gpt-4o\",\n",
    "    temperature=0,\n",
    ").bind_tools(tools)\n",
    "\n",
    "system_prompt = \"\"\"\n",
    "You are an assistant who answers questions about the stock market.\n",
    "\n",
    "The current date is: {current_date}\n",
    "\"\"\".strip()\n",
    "\n",
    "agent_prompt = ChatPromptTemplate.from_messages(\n",
    "    [\n",
    "        (\"system\", system_prompt),\n",
    "        MessagesPlaceholder(\"messages\"),\n",
    "    ]\n",
    ")\n",
    "\n",
    "agent_chain = (\n",
    "    agent_prompt.partial(current_date=date.today().isoformat()) \n",
    "    | model\n",
    ")"
   ]
  },
  {
   "cell_type": "markdown",
   "metadata": {},
   "source": [
    "LangGraph provides \"prebuilts\" to make these typical simple agents much easier to build than I am demonstrating. This is intended to highlight the foundational components of LangGraph in a simple usecase."
   ]
  },
  {
   "cell_type": "code",
   "execution_count": 9,
   "metadata": {},
   "outputs": [],
   "source": [
    "from typing import Annotated, TypedDict\n",
    "from langgraph.graph import END, StateGraph\n",
    "from langgraph.checkpoint import MemorySaver\n",
    "from langchain_core.messages import BaseMessage\n",
    "import operator\n",
    "from llm_agents_introduction.tools import call_tool\n",
    "\n",
    "\n",
    "# define the state of the graph\n",
    "# note the use of operator.add as a \"reducer\" to make state updates easier\n",
    "class AgentState(TypedDict):\n",
    "    messages: Annotated[list[BaseMessage], operator.add]\n",
    "\n",
    "\n",
    "# define nodes\n",
    "def agent(state: AgentState):\n",
    "    ai_message = agent_chain.invoke(state)\n",
    "\n",
    "    # note how we're only returning the last message\n",
    "    # but due to the application of the reducer the eventual state is the full list of messages\n",
    "    return {\"messages\": [ai_message]}\n",
    "\n",
    "\n",
    "def tool_executor(state: AgentState):\n",
    "    # run the tool calls from the last message\n",
    "    tool_calls = state[\"messages\"][-1].tool_calls\n",
    "    tool_call_messages = [call_tool(tool_call, tools) for tool_call in tool_calls]\n",
    "\n",
    "    return {\"messages\": tool_call_messages}\n",
    "\n",
    "\n",
    "# define graph\n",
    "graph = StateGraph(AgentState)\n",
    "\n",
    "graph.add_node(\"agent\", agent)\n",
    "graph.add_node(\"tool_executor\", tool_executor)\n",
    "\n",
    "graph.set_entry_point(\"agent\")\n",
    "graph.add_conditional_edges(\n",
    "    \"agent\",\n",
    "    lambda state: \"tool_executor\" if state[\"messages\"][-1].tool_calls else END,\n",
    "    [ \"tool_executor\", END ]\n",
    ")\n",
    "graph.add_edge(\"tool_executor\", \"agent\")\n",
    "\n",
    "\n",
    "# create checkpointer\n",
    "checkpointer = MemorySaver()\n",
    "\n",
    "\n",
    "# create app\n",
    "app = graph.compile(checkpointer=checkpointer)"
   ]
  },
  {
   "cell_type": "code",
   "execution_count": 10,
   "metadata": {},
   "outputs": [
    {
     "data": {
      "image/jpeg": "[encoded data removed]",
      "text/plain": [
       "<IPython.core.display.Image object>"
      ]
     },
     "metadata": {},
     "output_type": "display_data"
    }
   ],
   "source": [
    "from IPython.display import Image, display\n",
    "from langchain_core.runnables.graph import MermaidDrawMethod\n",
    "\n",
    "display(\n",
    "    Image(\n",
    "        app.get_graph().draw_mermaid_png(\n",
    "            draw_method=MermaidDrawMethod.API,\n",
    "        )\n",
    "    )\n",
    ")"
   ]
  },
  {
   "cell_type": "code",
   "execution_count": 11,
   "metadata": {},
   "outputs": [
    {
     "name": "stdout",
     "output_type": "stream",
     "text": [
      "{'agent': {'messages': [AIMessage(content='', additional_kwargs={'tool_calls': [{'id': 'call_gmfqwX5ibzfDae5trobNNbU5', 'function': {'arguments': '{\"company_name\": \"Apple\"}', 'name': 'search_for_symbol'}, 'type': 'function'}, {'id': 'call_fzh28Omr4ndbdnGc6vwCluQn', 'function': {'arguments': '{\"company_name\": \"Webtoon Entertainment\"}', 'name': 'search_for_symbol'}, 'type': 'function'}]}, response_metadata={'token_usage': {'completion_tokens': 50, 'prompt_tokens': 267, 'total_tokens': 317}, 'model_name': 'gpt-4o-2024-05-13', 'system_fingerprint': 'fp_d33f7b429e', 'finish_reason': 'tool_calls', 'logprobs': None}, id='run-2ebf4b8c-a1e9-4de2-813c-10c237a1617b-0', tool_calls=[{'name': 'search_for_symbol', 'args': {'company_name': 'Apple'}, 'id': 'call_gmfqwX5ibzfDae5trobNNbU5'}, {'name': 'search_for_symbol', 'args': {'company_name': 'Webtoon Entertainment'}, 'id': 'call_fzh28Omr4ndbdnGc6vwCluQn'}], usage_metadata={'input_tokens': 267, 'output_tokens': 50, 'total_tokens': 317})]}}\n",
      "{'tool_executor': {'messages': [ToolMessage(content='[\\n  {\\n    \"symbol\": \"APLE\",\\n    \"name\": \"Apple Hospitality REIT Inc\"\\n  },\\n  {\\n    \"symbol\": \"AAPL\",\\n    \"name\": \"Apple Inc\"\\n  },\\n  {\\n    \"symbol\": \"AGPL\",\\n    \"name\": \"Apple Green Holding Inc\"\\n  }\\n]', tool_call_id='call_gmfqwX5ibzfDae5trobNNbU5'),\n",
      "                                ToolMessage(content='[\\n  {\\n    \"symbol\": \"WBTN\",\\n    \"name\": \"Webtoon Entertainment Inc\"\\n  }\\n]', tool_call_id='call_fzh28Omr4ndbdnGc6vwCluQn')]}}\n",
      "{'agent': {'messages': [AIMessage(content='', additional_kwargs={'tool_calls': [{'id': 'call_rkDTw5MAUZto7tAnzmccFOPe', 'function': {'arguments': '{\"symbol\": \"AAPL\", \"date\": \"2024-07-12\"}', 'name': 'get_share_price_on_date'}, 'type': 'function'}, {'id': 'call_QEDAMnO0uqIppHCPQJvR9Xaj', 'function': {'arguments': '{\"symbol\": \"WBTN\", \"date\": \"2024-07-12\"}', 'name': 'get_share_price_on_date'}, 'type': 'function'}]}, response_metadata={'token_usage': {'completion_tokens': 70, 'prompt_tokens': 393, 'total_tokens': 463}, 'model_name': 'gpt-4o-2024-05-13', 'system_fingerprint': 'fp_d33f7b429e', 'finish_reason': 'tool_calls', 'logprobs': None}, id='run-db89a8cd-f887-4f52-bfe0-8bef87bbe0d6-0', tool_calls=[{'name': 'get_share_price_on_date', 'args': {'symbol': 'AAPL', 'date': '2024-07-12'}, 'id': 'call_rkDTw5MAUZto7tAnzmccFOPe'}, {'name': 'get_share_price_on_date', 'args': {'symbol': 'WBTN', 'date': '2024-07-12'}, 'id': 'call_QEDAMnO0uqIppHCPQJvR9Xaj'}], usage_metadata={'input_tokens': 393, 'output_tokens': 70, 'total_tokens': 463})]}}\n",
      "{'tool_executor': {'messages': [ToolMessage(content='230.54', tool_call_id='call_rkDTw5MAUZto7tAnzmccFOPe'),\n",
      "                                ToolMessage(content='20.14', tool_call_id='call_QEDAMnO0uqIppHCPQJvR9Xaj')]}}\n",
      "{'agent': {'messages': [AIMessage(content='As of July 12, 2024, the stock price of Apple Inc. (AAPL) is $230.54, while the stock price of Webtoon Entertainment Inc. (WBTN) is $20.14. Therefore, Apple Inc. has the higher stock price.', response_metadata={'token_usage': {'completion_tokens': 59, 'prompt_tokens': 483, 'total_tokens': 542}, 'model_name': 'gpt-4o-2024-05-13', 'system_fingerprint': 'fp_dd932ca5d1', 'finish_reason': 'stop', 'logprobs': None}, id='run-90d68286-71e7-4442-8def-1837c4411e5f-0', usage_metadata={'input_tokens': 483, 'output_tokens': 59, 'total_tokens': 542})]}}\n"
     ]
    }
   ],
   "source": [
    "from langchain_core.messages import HumanMessage\n",
    "from pprint import pprint\n",
    "\n",
    "message_text = \"Which has the higher stock price - Apple or Webtoon Entertainment?\"\n",
    "\n",
    "initial_state = {\"messages\": [HumanMessage(content=message_text)]}\n",
    "config = {\"configurable\": {\"thread_id\": \"demo\"}}\n",
    "\n",
    "for update in app.stream(initial_state, config=config):\n",
    "    pprint(update)"
   ]
  },
  {
   "cell_type": "code",
   "execution_count": 13,
   "metadata": {},
   "outputs": [
    {
     "name": "stdout",
     "output_type": "stream",
     "text": [
      "{'agent': {'messages': [AIMessage(content='', additional_kwargs={'tool_calls': [{'id': 'call_ifSUxgVYqTaZ95DaKXoAd8xe', 'function': {'arguments': '{\"company_name\":\"Google\"}', 'name': 'search_for_symbol'}, 'type': 'function'}]}, response_metadata={'token_usage': {'completion_tokens': 16, 'prompt_tokens': 717, 'total_tokens': 733}, 'model_name': 'gpt-4o-2024-05-13', 'system_fingerprint': 'fp_dd932ca5d1', 'finish_reason': 'tool_calls', 'logprobs': None}, id='run-83c9f00a-2d68-4af7-9540-0f4316e7e0df-0', tool_calls=[{'name': 'search_for_symbol', 'args': {'company_name': 'Google'}, 'id': 'call_ifSUxgVYqTaZ95DaKXoAd8xe'}], usage_metadata={'input_tokens': 717, 'output_tokens': 16, 'total_tokens': 733})]}}\n",
      "{'tool_executor': {'messages': [ToolMessage(content='[]', tool_call_id='call_ifSUxgVYqTaZ95DaKXoAd8xe')]}}\n",
      "{'agent': {'messages': [AIMessage(content='It appears that there are no direct results for \"Google\" as a company name. Google is a subsidiary of Alphabet Inc. Let me search for Alphabet Inc. instead.', additional_kwargs={'tool_calls': [{'id': 'call_UfJBcCmACqQm5hMmpqpx2YG6', 'function': {'arguments': '{\"company_name\":\"Alphabet\"}', 'name': 'search_for_symbol'}, 'type': 'function'}]}, response_metadata={'token_usage': {'completion_tokens': 51, 'prompt_tokens': 743, 'total_tokens': 794}, 'model_name': 'gpt-4o-2024-05-13', 'system_fingerprint': 'fp_dd932ca5d1', 'finish_reason': 'tool_calls', 'logprobs': None}, id='run-c28fb7b1-9267-4c4e-afed-bf39ac4d79ac-0', tool_calls=[{'name': 'search_for_symbol', 'args': {'company_name': 'Alphabet'}, 'id': 'call_UfJBcCmACqQm5hMmpqpx2YG6'}], usage_metadata={'input_tokens': 743, 'output_tokens': 51, 'total_tokens': 794})]}}\n",
      "{'tool_executor': {'messages': [ToolMessage(content='[\\n  {\\n    \"symbol\": \"GOOGL\",\\n    \"name\": \"Alphabet Inc - Class A\"\\n  },\\n  {\\n    \"symbol\": \"GOOG\",\\n    \"name\": \"Alphabet Inc - Class C\"\\n  }\\n]', tool_call_id='call_UfJBcCmACqQm5hMmpqpx2YG6')]}}\n",
      "{'agent': {'messages': [AIMessage(content='', additional_kwargs={'tool_calls': [{'id': 'call_I29WxD3eLirT3RsmNpL7HPvH', 'function': {'arguments': '{\"symbol\": \"GOOGL\", \"date\": \"2024-07-12\"}', 'name': 'get_share_price_on_date'}, 'type': 'function'}, {'id': 'call_0dUhfUSxEejEuwevH3x3HyRc', 'function': {'arguments': '{\"symbol\": \"GOOGL\", \"date\": \"2024-07-05\"}', 'name': 'get_share_price_on_date'}, 'type': 'function'}]}, response_metadata={'token_usage': {'completion_tokens': 72, 'prompt_tokens': 855, 'total_tokens': 927}, 'model_name': 'gpt-4o-2024-05-13', 'system_fingerprint': 'fp_d33f7b429e', 'finish_reason': 'tool_calls', 'logprobs': None}, id='run-f6d9e50b-4936-47f8-9e1d-e4f9a4051414-0', tool_calls=[{'name': 'get_share_price_on_date', 'args': {'symbol': 'GOOGL', 'date': '2024-07-12'}, 'id': 'call_I29WxD3eLirT3RsmNpL7HPvH'}, {'name': 'get_share_price_on_date', 'args': {'symbol': 'GOOGL', 'date': '2024-07-05'}, 'id': 'call_0dUhfUSxEejEuwevH3x3HyRc'}], usage_metadata={'input_tokens': 855, 'output_tokens': 72, 'total_tokens': 927})]}}\n",
      "{'tool_executor': {'messages': [ToolMessage(content='185.07', tool_call_id='call_I29WxD3eLirT3RsmNpL7HPvH'),\n",
      "                                ToolMessage(content='190.6', tool_call_id='call_0dUhfUSxEejEuwevH3x3HyRc')]}}\n",
      "{'agent': {'messages': [AIMessage(content='As of the specified dates, the stock prices for Alphabet Inc. (Class A) are as follows:\\n\\n- **July 12, 2024**: $185.07\\n- **July 5, 2024**: $190.60\\n\\nComparing these to Apple Inc. (AAPL) and Webtoon Entertainment Inc. (WBTN):\\n\\n- **July 12, 2024**:\\n  - Apple Inc. (AAPL): $230.54\\n  - Webtoon Entertainment Inc. (WBTN): $20.14\\n  - Alphabet Inc. (GOOGL): $185.07\\n\\n- **July 5, 2024**:\\n  - Apple Inc. (AAPL): $226.34\\n  - Webtoon Entertainment Inc. (WBTN): $19.65\\n  - Alphabet Inc. (GOOGL): $190.60\\n\\nApple Inc. has the highest stock price on both dates, followed by Alphabet Inc., and then Webtoon Entertainment Inc.', response_metadata={'token_usage': {'completion_tokens': 211, 'prompt_tokens': 947, 'total_tokens': 1158}, 'model_name': 'gpt-4o-2024-05-13', 'system_fingerprint': 'fp_dd932ca5d1', 'finish_reason': 'stop', 'logprobs': None}, id='run-8d1db7eb-0cb5-4066-97d4-c2179b5b6a07-0', usage_metadata={'input_tokens': 947, 'output_tokens': 211, 'total_tokens': 1158})]}}\n"
     ]
    }
   ],
   "source": [
    "new_message_state = {\"messages\": [HumanMessage(content=\"Compare those to Google\")]}\n",
    "\n",
    "for update in app.stream(new_message_state, config=config):\n",
    "    pprint(update)"
   ]
  },
  {
   "cell_type": "code",
   "execution_count": 16,
   "metadata": {},
   "outputs": [
    {
     "name": "stdout",
     "output_type": "stream",
     "text": [
      "{'channel_values': {'agent': 'agent',\n",
      "                    'messages': [HumanMessage(content='Which has the higher stock price - Apple or Webtoon Entertainment?'),\n",
      "                                 AIMessage(content='', additional_kwargs={'tool_calls': [{'id': 'call_gmfqwX5ibzfDae5trobNNbU5', 'function': {'arguments': '{\"company_name\": \"Apple\"}', 'name': 'search_for_symbol'}, 'type': 'function'}, {'id': 'call_fzh28Omr4ndbdnGc6vwCluQn', 'function': {'arguments': '{\"company_name\": \"Webtoon Entertainment\"}', 'name': 'search_for_symbol'}, 'type': 'function'}]}, response_metadata={'token_usage': {'completion_tokens': 50, 'prompt_tokens': 267, 'total_tokens': 317}, 'model_name': 'gpt-4o-2024-05-13', 'system_fingerprint': 'fp_d33f7b429e', 'finish_reason': 'tool_calls', 'logprobs': None}, id='run-2ebf4b8c-a1e9-4de2-813c-10c237a1617b-0', tool_calls=[{'name': 'search_for_symbol', 'args': {'company_name': 'Apple'}, 'id': 'call_gmfqwX5ibzfDae5trobNNbU5'}, {'name': 'search_for_symbol', 'args': {'company_name': 'Webtoon Entertainment'}, 'id': 'call_fzh28Omr4ndbdnGc6vwCluQn'}], usage_metadata={'input_tokens': 267, 'output_tokens': 50, 'total_tokens': 317}),\n",
      "                                 ToolMessage(content='[\\n  {\\n    \"symbol\": \"APLE\",\\n    \"name\": \"Apple Hospitality REIT Inc\"\\n  },\\n  {\\n    \"symbol\": \"AAPL\",\\n    \"name\": \"Apple Inc\"\\n  },\\n  {\\n    \"symbol\": \"AGPL\",\\n    \"name\": \"Apple Green Holding Inc\"\\n  }\\n]', tool_call_id='call_gmfqwX5ibzfDae5trobNNbU5'),\n",
      "                                 ToolMessage(content='[\\n  {\\n    \"symbol\": \"WBTN\",\\n    \"name\": \"Webtoon Entertainment Inc\"\\n  }\\n]', tool_call_id='call_fzh28Omr4ndbdnGc6vwCluQn'),\n",
      "                                 AIMessage(content='', additional_kwargs={'tool_calls': [{'id': 'call_rkDTw5MAUZto7tAnzmccFOPe', 'function': {'arguments': '{\"symbol\": \"AAPL\", \"date\": \"2024-07-12\"}', 'name': 'get_share_price_on_date'}, 'type': 'function'}, {'id': 'call_QEDAMnO0uqIppHCPQJvR9Xaj', 'function': {'arguments': '{\"symbol\": \"WBTN\", \"date\": \"2024-07-12\"}', 'name': 'get_share_price_on_date'}, 'type': 'function'}]}, response_metadata={'token_usage': {'completion_tokens': 70, 'prompt_tokens': 393, 'total_tokens': 463}, 'model_name': 'gpt-4o-2024-05-13', 'system_fingerprint': 'fp_d33f7b429e', 'finish_reason': 'tool_calls', 'logprobs': None}, id='run-db89a8cd-f887-4f52-bfe0-8bef87bbe0d6-0', tool_calls=[{'name': 'get_share_price_on_date', 'args': {'symbol': 'AAPL', 'date': '2024-07-12'}, 'id': 'call_rkDTw5MAUZto7tAnzmccFOPe'}, {'name': 'get_share_price_on_date', 'args': {'symbol': 'WBTN', 'date': '2024-07-12'}, 'id': 'call_QEDAMnO0uqIppHCPQJvR9Xaj'}], usage_metadata={'input_tokens': 393, 'output_tokens': 70, 'total_tokens': 463}),\n",
      "                                 ToolMessage(content='230.54', tool_call_id='call_rkDTw5MAUZto7tAnzmccFOPe'),\n",
      "                                 ToolMessage(content='20.14', tool_call_id='call_QEDAMnO0uqIppHCPQJvR9Xaj'),\n",
      "                                 AIMessage(content='As of July 12, 2024, the stock price of Apple Inc. (AAPL) is $230.54, while the stock price of Webtoon Entertainment Inc. (WBTN) is $20.14. Therefore, Apple Inc. has the higher stock price.', response_metadata={'token_usage': {'completion_tokens': 59, 'prompt_tokens': 483, 'total_tokens': 542}, 'model_name': 'gpt-4o-2024-05-13', 'system_fingerprint': 'fp_dd932ca5d1', 'finish_reason': 'stop', 'logprobs': None}, id='run-90d68286-71e7-4442-8def-1837c4411e5f-0', usage_metadata={'input_tokens': 483, 'output_tokens': 59, 'total_tokens': 542}),\n",
      "                                 HumanMessage(content='What about last week?'),\n",
      "                                 AIMessage(content='', additional_kwargs={'tool_calls': [{'id': 'call_Op1Fmd1BSLKrX1Hm1KE3BHiY', 'function': {'arguments': '{\"symbol\": \"AAPL\", \"date\": \"2024-07-05\"}', 'name': 'get_share_price_on_date'}, 'type': 'function'}, {'id': 'call_47t9g9I4x0FBY6sW3kGU0Qrb', 'function': {'arguments': '{\"symbol\": \"WBTN\", \"date\": \"2024-07-05\"}', 'name': 'get_share_price_on_date'}, 'type': 'function'}]}, response_metadata={'token_usage': {'completion_tokens': 70, 'prompt_tokens': 554, 'total_tokens': 624}, 'model_name': 'gpt-4o-2024-05-13', 'system_fingerprint': 'fp_dd932ca5d1', 'finish_reason': 'tool_calls', 'logprobs': None}, id='run-aec56f16-1de6-432a-860d-944e95c29324-0', tool_calls=[{'name': 'get_share_price_on_date', 'args': {'symbol': 'AAPL', 'date': '2024-07-05'}, 'id': 'call_Op1Fmd1BSLKrX1Hm1KE3BHiY'}, {'name': 'get_share_price_on_date', 'args': {'symbol': 'WBTN', 'date': '2024-07-05'}, 'id': 'call_47t9g9I4x0FBY6sW3kGU0Qrb'}], usage_metadata={'input_tokens': 554, 'output_tokens': 70, 'total_tokens': 624}),\n",
      "                                 ToolMessage(content='226.34', tool_call_id='call_Op1Fmd1BSLKrX1Hm1KE3BHiY'),\n",
      "                                 ToolMessage(content='19.65', tool_call_id='call_47t9g9I4x0FBY6sW3kGU0Qrb'),\n",
      "                                 AIMessage(content='As of July 5, 2024, the stock price of Apple Inc. (AAPL) was $226.34, while the stock price of Webtoon Entertainment Inc. (WBTN) was $19.65. Therefore, Apple Inc. also had the higher stock price last week.', response_metadata={'token_usage': {'completion_tokens': 62, 'prompt_tokens': 644, 'total_tokens': 706}, 'model_name': 'gpt-4o-2024-05-13', 'system_fingerprint': 'fp_d33f7b429e', 'finish_reason': 'stop', 'logprobs': None}, id='run-79d17a6e-9c18-42fb-95f1-30d31813e055-0', usage_metadata={'input_tokens': 644, 'output_tokens': 62, 'total_tokens': 706}),\n",
      "                                 HumanMessage(content='Compare those to Google'),\n",
      "                                 AIMessage(content='', additional_kwargs={'tool_calls': [{'id': 'call_ifSUxgVYqTaZ95DaKXoAd8xe', 'function': {'arguments': '{\"company_name\":\"Google\"}', 'name': 'search_for_symbol'}, 'type': 'function'}]}, response_metadata={'token_usage': {'completion_tokens': 16, 'prompt_tokens': 717, 'total_tokens': 733}, 'model_name': 'gpt-4o-2024-05-13', 'system_fingerprint': 'fp_dd932ca5d1', 'finish_reason': 'tool_calls', 'logprobs': None}, id='run-83c9f00a-2d68-4af7-9540-0f4316e7e0df-0', tool_calls=[{'name': 'search_for_symbol', 'args': {'company_name': 'Google'}, 'id': 'call_ifSUxgVYqTaZ95DaKXoAd8xe'}], usage_metadata={'input_tokens': 717, 'output_tokens': 16, 'total_tokens': 733}),\n",
      "                                 ToolMessage(content='[]', tool_call_id='call_ifSUxgVYqTaZ95DaKXoAd8xe'),\n",
      "                                 AIMessage(content='It appears that there are no direct results for \"Google\" as a company name. Google is a subsidiary of Alphabet Inc. Let me search for Alphabet Inc. instead.', additional_kwargs={'tool_calls': [{'id': 'call_UfJBcCmACqQm5hMmpqpx2YG6', 'function': {'arguments': '{\"company_name\":\"Alphabet\"}', 'name': 'search_for_symbol'}, 'type': 'function'}]}, response_metadata={'token_usage': {'completion_tokens': 51, 'prompt_tokens': 743, 'total_tokens': 794}, 'model_name': 'gpt-4o-2024-05-13', 'system_fingerprint': 'fp_dd932ca5d1', 'finish_reason': 'tool_calls', 'logprobs': None}, id='run-c28fb7b1-9267-4c4e-afed-bf39ac4d79ac-0', tool_calls=[{'name': 'search_for_symbol', 'args': {'company_name': 'Alphabet'}, 'id': 'call_UfJBcCmACqQm5hMmpqpx2YG6'}], usage_metadata={'input_tokens': 743, 'output_tokens': 51, 'total_tokens': 794}),\n",
      "                                 ToolMessage(content='[\\n  {\\n    \"symbol\": \"GOOGL\",\\n    \"name\": \"Alphabet Inc - Class A\"\\n  },\\n  {\\n    \"symbol\": \"GOOG\",\\n    \"name\": \"Alphabet Inc - Class C\"\\n  }\\n]', tool_call_id='call_UfJBcCmACqQm5hMmpqpx2YG6'),\n",
      "                                 AIMessage(content='', additional_kwargs={'tool_calls': [{'id': 'call_I29WxD3eLirT3RsmNpL7HPvH', 'function': {'arguments': '{\"symbol\": \"GOOGL\", \"date\": \"2024-07-12\"}', 'name': 'get_share_price_on_date'}, 'type': 'function'}, {'id': 'call_0dUhfUSxEejEuwevH3x3HyRc', 'function': {'arguments': '{\"symbol\": \"GOOGL\", \"date\": \"2024-07-05\"}', 'name': 'get_share_price_on_date'}, 'type': 'function'}]}, response_metadata={'token_usage': {'completion_tokens': 72, 'prompt_tokens': 855, 'total_tokens': 927}, 'model_name': 'gpt-4o-2024-05-13', 'system_fingerprint': 'fp_d33f7b429e', 'finish_reason': 'tool_calls', 'logprobs': None}, id='run-f6d9e50b-4936-47f8-9e1d-e4f9a4051414-0', tool_calls=[{'name': 'get_share_price_on_date', 'args': {'symbol': 'GOOGL', 'date': '2024-07-12'}, 'id': 'call_I29WxD3eLirT3RsmNpL7HPvH'}, {'name': 'get_share_price_on_date', 'args': {'symbol': 'GOOGL', 'date': '2024-07-05'}, 'id': 'call_0dUhfUSxEejEuwevH3x3HyRc'}], usage_metadata={'input_tokens': 855, 'output_tokens': 72, 'total_tokens': 927}),\n",
      "                                 ToolMessage(content='185.07', tool_call_id='call_I29WxD3eLirT3RsmNpL7HPvH'),\n",
      "                                 ToolMessage(content='190.6', tool_call_id='call_0dUhfUSxEejEuwevH3x3HyRc'),\n",
      "                                 AIMessage(content='As of the specified dates, the stock prices for Alphabet Inc. (Class A) are as follows:\\n\\n- **July 12, 2024**: $185.07\\n- **July 5, 2024**: $190.60\\n\\nComparing these to Apple Inc. (AAPL) and Webtoon Entertainment Inc. (WBTN):\\n\\n- **July 12, 2024**:\\n  - Apple Inc. (AAPL): $230.54\\n  - Webtoon Entertainment Inc. (WBTN): $20.14\\n  - Alphabet Inc. (GOOGL): $185.07\\n\\n- **July 5, 2024**:\\n  - Apple Inc. (AAPL): $226.34\\n  - Webtoon Entertainment Inc. (WBTN): $19.65\\n  - Alphabet Inc. (GOOGL): $190.60\\n\\nApple Inc. has the highest stock price on both dates, followed by Alphabet Inc., and then Webtoon Entertainment Inc.', response_metadata={'token_usage': {'completion_tokens': 211, 'prompt_tokens': 947, 'total_tokens': 1158}, 'model_name': 'gpt-4o-2024-05-13', 'system_fingerprint': 'fp_dd932ca5d1', 'finish_reason': 'stop', 'logprobs': None}, id='run-8d1db7eb-0cb5-4066-97d4-c2179b5b6a07-0', usage_metadata={'input_tokens': 947, 'output_tokens': 211, 'total_tokens': 1158})]},\n",
      " 'channel_versions': {'__start__': 14,\n",
      "                      'agent': 21,\n",
      "                      'branch:agent:condition:tool_executor': 20,\n",
      "                      'messages': 21,\n",
      "                      'start:agent': 15,\n",
      "                      'tool_executor': 21},\n",
      " 'id': '1ef41efe-43d3-6824-8013-22aa46b619d6',\n",
      " 'pending_sends': [],\n",
      " 'ts': '2024-07-14T14:46:45.398104+00:00',\n",
      " 'v': 1,\n",
      " 'versions_seen': {'__start__': {'__start__': 13},\n",
      "                   'agent': {'start:agent': 15, 'tool_executor': 20},\n",
      "                   'tool_executor': {'branch:agent:condition:tool_executor': 19}}}\n"
     ]
    }
   ],
   "source": [
    "pprint(checkpointer.get(config))"
   ]
  },
  {
   "cell_type": "markdown",
   "metadata": {},
   "source": [
    "Example using LangGraph's prebuilt support to make simple tooling agents."
   ]
  },
  {
   "cell_type": "code",
   "execution_count": 14,
   "metadata": {},
   "outputs": [
    {
     "data": {
      "text/plain": [
       "{'messages': [HumanMessage(content=\"How much has Apple's stock price changed in the last year?\", id='a958c53f-c422-4766-9413-6a8f69a5049a'),\n",
       "  AIMessage(content='', additional_kwargs={'tool_calls': [{'id': 'call_7MgoJo9q2iKHQDO3qWJsSht6', 'function': {'arguments': '{\"company_name\":\"Apple\"}', 'name': 'search_for_symbol'}, 'type': 'function'}]}, response_metadata={'token_usage': {'completion_tokens': 16, 'prompt_tokens': 266, 'total_tokens': 282}, 'model_name': 'gpt-4o-2024-05-13', 'system_fingerprint': 'fp_dd932ca5d1', 'finish_reason': 'tool_calls', 'logprobs': None}, id='run-6f45fe0d-2513-407d-9acd-7904878f8815-0', tool_calls=[{'name': 'search_for_symbol', 'args': {'company_name': 'Apple'}, 'id': 'call_7MgoJo9q2iKHQDO3qWJsSht6'}], usage_metadata={'input_tokens': 266, 'output_tokens': 16, 'total_tokens': 282}),\n",
       "  ToolMessage(content='[\\n  {\\n    \"symbol\": \"APLE\",\\n    \"name\": \"Apple Hospitality REIT Inc\"\\n  },\\n  {\\n    \"symbol\": \"AAPL\",\\n    \"name\": \"Apple Inc\"\\n  },\\n  {\\n    \"symbol\": \"AGPL\",\\n    \"name\": \"Apple Green Holding Inc\"\\n  }\\n]', name='search_for_symbol', id='095a6803-7188-4c7e-a242-3e5ec15107ea', tool_call_id='call_7MgoJo9q2iKHQDO3qWJsSht6'),\n",
       "  AIMessage(content='', additional_kwargs={'tool_calls': [{'id': 'call_74FcHfPXJ9TpUY0Y28pltGgM', 'function': {'arguments': '{\"symbol\": \"AAPL\", \"date\": \"2023-07-14\"}', 'name': 'get_share_price_on_date'}, 'type': 'function'}, {'id': 'call_9kzuWyNhm2yr5SP5V5nZ1vTi', 'function': {'arguments': '{\"symbol\": \"AAPL\", \"date\": \"2024-07-14\"}', 'name': 'get_share_price_on_date'}, 'type': 'function'}]}, response_metadata={'token_usage': {'completion_tokens': 70, 'prompt_tokens': 358, 'total_tokens': 428}, 'model_name': 'gpt-4o-2024-05-13', 'system_fingerprint': 'fp_dd932ca5d1', 'finish_reason': 'tool_calls', 'logprobs': None}, id='run-af2eac3a-79c8-4e94-8e5f-070d95bbdab6-0', tool_calls=[{'name': 'get_share_price_on_date', 'args': {'symbol': 'AAPL', 'date': '2023-07-14'}, 'id': 'call_74FcHfPXJ9TpUY0Y28pltGgM'}, {'name': 'get_share_price_on_date', 'args': {'symbol': 'AAPL', 'date': '2024-07-14'}, 'id': 'call_9kzuWyNhm2yr5SP5V5nZ1vTi'}], usage_metadata={'input_tokens': 358, 'output_tokens': 70, 'total_tokens': 428}),\n",
       "  ToolMessage(content='189.687596916806', name='get_share_price_on_date', id='13994616-258d-4cca-960d-3a6cc96c1ca3', tool_call_id='call_74FcHfPXJ9TpUY0Y28pltGgM'),\n",
       "  ToolMessage(content='230.54', name='get_share_price_on_date', id='a7cdf600-6f05-4882-bacb-6ddd6f002498', tool_call_id='call_9kzuWyNhm2yr5SP5V5nZ1vTi'),\n",
       "  AIMessage(content=\"Apple's stock price has changed from $189.69 on July 14, 2023, to $230.54 on July 14, 2024. This represents an increase of $40.85 over the past year.\", response_metadata={'token_usage': {'completion_tokens': 49, 'prompt_tokens': 451, 'total_tokens': 500}, 'model_name': 'gpt-4o-2024-05-13', 'system_fingerprint': 'fp_298125635f', 'finish_reason': 'stop', 'logprobs': None}, id='run-39498b90-9a12-4754-bdad-62f2ba859af7-0', usage_metadata={'input_tokens': 451, 'output_tokens': 49, 'total_tokens': 500})]}"
      ]
     },
     "execution_count": 14,
     "metadata": {},
     "output_type": "execute_result"
    }
   ],
   "source": [
    "from langgraph.prebuilt import ToolNode, tools_condition\n",
    "from langgraph.graph import MessagesState\n",
    "from langchain_core.runnables import RunnablePassthrough\n",
    "\n",
    "simple_tools_graph = StateGraph(MessagesState)\n",
    "\n",
    "simple_tools_graph.add_node(\"agent\", agent_chain | { \"messages\": RunnablePassthrough() })\n",
    "simple_tools_graph.add_node(ToolNode(tools))\n",
    "\n",
    "simple_tools_graph.set_entry_point(\"agent\")\n",
    "simple_tools_graph.add_conditional_edges(\"agent\", tools_condition)\n",
    "simple_tools_graph.add_edge(\"tools\", \"agent\")\n",
    "\n",
    "simple_agent_app = simple_tools_graph.compile()\n",
    "\n",
    "simple_agent_app.invoke({\n",
    "    \"messages\": HumanMessage(content=\"How much has Apple's stock price changed in the last year?\"),\n",
    "})"
   ]
  }
 ],
 "metadata": {
  "kernelspec": {
   "display_name": ".venv",
   "language": "python",
   "name": "python3"
  },
  "language_info": {
   "codemirror_mode": {
    "name": "ipython",
    "version": 3
   },
   "file_extension": ".py",
   "mimetype": "text/x-python",
   "name": "python",
   "nbconvert_exporter": "python",
   "pygments_lexer": "ipython3",
   "version": "3.12.4"
  }
 },
 "nbformat": 4,
 "nbformat_minor": 2
}

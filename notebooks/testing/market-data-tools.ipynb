{
 "cells": [
  {
   "cell_type": "code",
   "execution_count": 10,
   "metadata": {},
   "outputs": [
    {
     "name": "stdout",
     "output_type": "stream",
     "text": [
      "The autoreload extension is already loaded. To reload it, use:\n",
      "  %reload_ext autoreload\n",
      "The dotenv extension is already loaded. To reload it, use:\n",
      "  %reload_ext dotenv\n"
     ]
    }
   ],
   "source": [
    "%load_ext autoreload\n",
    "%autoreload 2\n",
    "\n",
    "%load_ext dotenv\n",
    "%dotenv"
   ]
  },
  {
   "cell_type": "code",
   "execution_count": 11,
   "metadata": {},
   "outputs": [
    {
     "data": {
      "text/plain": [
       "{'search_for_symbol': StructuredTool(name='search_for_symbol', description='Looks up possible symbols for a given company name.', args_schema=<class 'pydantic.v1.main.search_for_symbolSchema'>, func=<function create_market_data_tools.<locals>.search_for_symbol at 0x105d7d580>),\n",
       " 'get_market_capitalization': StructuredTool(name='get_market_capitalization', description='Returns the market capitalization of the given symbol on the given date.', args_schema=<class 'llm_agents_introduction.tools.market_data_tools.SymbolAndDateInput'>, func=<function create_market_data_tools.<locals>.get_market_capitalization at 0x1297cc860>),\n",
       " 'get_share_price_on_date': StructuredTool(name='get_share_price_on_date', description='Returns the share price of the given symbol on the given date (this is adjusted for splits).', args_schema=<class 'llm_agents_introduction.tools.market_data_tools.SymbolAndDateInput'>, func=<function create_market_data_tools.<locals>.get_share_price_on_date at 0x1297cc0e0>),\n",
       " 'get_company_info': StructuredTool(name='get_company_info', description='Returns the company information for the given symbol.\\nIncludes company info such as sector/industry/location, financial ratios, and other key metrics for the equity specified', args_schema=<class 'pydantic.v1.main.get_company_infoSchema'>, func=<function create_market_data_tools.<locals>.get_company_info at 0x105d418a0>)}"
      ]
     },
     "execution_count": 11,
     "metadata": {},
     "output_type": "execute_result"
    }
   ],
   "source": [
    "from llm_agents_introduction.alpha_vantage import AlphaVantageService\n",
    "from llm_agents_introduction.tools.market_data_tools import create_market_data_tools\n",
    "\n",
    "alpha_vantage = AlphaVantageService.create()\n",
    "\n",
    "tools = {tool.name: tool for tool in create_market_data_tools(alpha_vantage)}\n",
    "tools"
   ]
  },
  {
   "cell_type": "code",
   "execution_count": 12,
   "metadata": {},
   "outputs": [
    {
     "name": "stdout",
     "output_type": "stream",
     "text": [
      "[\n",
      "  {\n",
      "    \"symbol\": \"APLE\",\n",
      "    \"name\": \"Apple Hospitality REIT Inc\"\n",
      "  },\n",
      "  {\n",
      "    \"symbol\": \"AAPL\",\n",
      "    \"name\": \"Apple Inc\"\n",
      "  },\n",
      "  {\n",
      "    \"symbol\": \"AGPL\",\n",
      "    \"name\": \"Apple Green Holding Inc\"\n",
      "  }\n",
      "]\n"
     ]
    }
   ],
   "source": [
    "print(tools[\"search_for_symbol\"].invoke({\"company_name\": \"Apple\"}))"
   ]
  },
  {
   "cell_type": "code",
   "execution_count": 13,
   "metadata": {},
   "outputs": [
    {
     "name": "stdout",
     "output_type": "stream",
     "text": [
      "{\n",
      "  \"Symbol\": \"AAPL\",\n",
      "  \"AssetType\": \"Common Stock\",\n",
      "  \"Name\": \"Apple Inc\",\n",
      "  \"Description\": \"Apple Inc. is an American multinational technology company that specializes in consumer electronics, computer software, and online services. Apple is the world's largest technology company by revenue (totalling $274.5 billion in 2020) and, since January 2021, the world's most valuable company. As of 2021, Apple is the world's fourth-largest PC vendor by unit sales, and fourth-largest smartphone manufacturer. It is one of the Big Five American information technology companies, along with Amazon, Google, Microsoft, and Facebook.\",\n",
      "  \"CIK\": \"320193\",\n",
      "  \"Exchange\": \"NASDAQ\",\n",
      "  \"Currency\": \"USD\",\n",
      "  \"Country\": \"USA\",\n",
      "  \"Sector\": \"TECHNOLOGY\",\n",
      "  \"Industry\": \"ELECTRONIC COMPUTERS\",\n",
      "  \"Address\": \"ONE INFINITE LOOP, CUPERTINO, CA, US\",\n",
      "  \"FiscalYearEnd\": \"September\",\n",
      "  \"LatestQuarter\": \"2024-03-31\",\n",
      "  \"MarketCapitalization\": \"3470720238000\",\n",
      "  \"EBITDA\": \"129629004000\",\n",
      "  \"PERatio\": \"35.2\",\n",
      "  \"PEGRatio\": \"2.323\",\n",
      "  \"BookValue\": \"4.837\",\n",
      "  \"DividendPerShare\": \"0.96\",\n",
      "  \"DividendYield\": \"0.0044\",\n",
      "  \"EPS\": \"6.43\",\n",
      "  \"RevenuePerShareTTM\": \"24.54\",\n",
      "  \"ProfitMargin\": \"0.263\",\n",
      "  \"OperatingMarginTTM\": \"0.307\",\n",
      "  \"ReturnOnAssetsTTM\": \"0.221\",\n",
      "  \"ReturnOnEquityTTM\": \"1.472\",\n",
      "  \"RevenueTTM\": \"381623009000\",\n",
      "  \"GrossProfitTTM\": \"170782000000\",\n",
      "  \"DilutedEPSTTM\": \"6.43\",\n",
      "  \"QuarterlyEarningsGrowthYOY\": \"0.007\",\n",
      "  \"QuarterlyRevenueGrowthYOY\": \"-0.043\",\n",
      "  \"AnalystTargetPrice\": \"197.48\",\n",
      "  \"AnalystRatingStrongBuy\": \"10\",\n",
      "  \"AnalystRatingBuy\": \"19\",\n",
      "  \"AnalystRatingHold\": \"13\",\n",
      "  \"AnalystRatingSell\": \"1\",\n",
      "  \"AnalystRatingStrongSell\": \"0\",\n",
      "  \"TrailingPE\": \"35.2\",\n",
      "  \"ForwardPE\": \"29.94\",\n",
      "  \"PriceToSalesRatioTTM\": \"8.9\",\n",
      "  \"PriceToBookRatio\": \"45.79\",\n",
      "  \"EVToRevenue\": \"9.0\",\n",
      "  \"EVToEBITDA\": \"25.83\",\n",
      "  \"Beta\": \"1.244\",\n",
      "  \"52WeekHigh\": \"226.45\",\n",
      "  \"52WeekLow\": \"163.86\",\n",
      "  \"50DayMovingAverage\": \"195.08\",\n",
      "  \"200DayMovingAverage\": \"184.61\",\n",
      "  \"SharesOutstanding\": \"15334100000\",\n",
      "  \"DividendDate\": \"2024-05-16\",\n",
      "  \"ExDividendDate\": \"2024-05-10\"\n",
      "}\n"
     ]
    }
   ],
   "source": [
    "print(tools[\"get_company_info\"].invoke({\"symbol\": \"AAPL\"}))"
   ]
  },
  {
   "cell_type": "code",
   "execution_count": 17,
   "metadata": {},
   "outputs": [
    {
     "name": "stdout",
     "output_type": "stream",
     "text": [
      "173.400652983913\n",
      "185.360956145893\n"
     ]
    }
   ],
   "source": [
    "print(tools[\"get_share_price_on_date\"].invoke({\"symbol\": \"AAPL\", \"date\": \"2022-02-02\"}))\n",
    "print(tools[\"get_share_price_on_date\"].invoke({\"symbol\": \"AAPL\", \"date\": \"2024-02-02\"}))"
   ]
  },
  {
   "cell_type": "code",
   "execution_count": 19,
   "metadata": {},
   "outputs": [
    {
     "ename": "KeyError",
     "evalue": "'get_market_capitalization_on_date'",
     "output_type": "error",
     "traceback": [
      "\u001b[0;31m---------------------------------------------------------------------------\u001b[0m",
      "\u001b[0;31mKeyError\u001b[0m                                  Traceback (most recent call last)",
      "Cell \u001b[0;32mIn[19], line 2\u001b[0m\n\u001b[1;32m      1\u001b[0m \u001b[38;5;28mprint\u001b[39m(\n\u001b[0;32m----> 2\u001b[0m     \u001b[43mtools\u001b[49m\u001b[43m[\u001b[49m\u001b[38;5;124;43m'\u001b[39;49m\u001b[38;5;124;43mget_market_capitalization_on_date\u001b[39;49m\u001b[38;5;124;43m'\u001b[39;49m\u001b[43m]\u001b[49m\u001b[38;5;241m.\u001b[39minvoke({ \u001b[38;5;124m'\u001b[39m\u001b[38;5;124msymbol\u001b[39m\u001b[38;5;124m'\u001b[39m: \u001b[38;5;124m'\u001b[39m\u001b[38;5;124mAAPL\u001b[39m\u001b[38;5;124m'\u001b[39m, \u001b[38;5;124m'\u001b[39m\u001b[38;5;124mdate\u001b[39m\u001b[38;5;124m'\u001b[39m: \u001b[38;5;124m'\u001b[39m\u001b[38;5;124m2022-02-02\u001b[39m\u001b[38;5;124m'\u001b[39m })\n\u001b[1;32m      3\u001b[0m )\n\u001b[1;32m      4\u001b[0m \u001b[38;5;28mprint\u001b[39m(\n\u001b[1;32m      5\u001b[0m     tools[\u001b[38;5;124m'\u001b[39m\u001b[38;5;124mget_market_capitalization_on_date\u001b[39m\u001b[38;5;124m'\u001b[39m]\u001b[38;5;241m.\u001b[39minvoke({ \u001b[38;5;124m'\u001b[39m\u001b[38;5;124msymbol\u001b[39m\u001b[38;5;124m'\u001b[39m: \u001b[38;5;124m'\u001b[39m\u001b[38;5;124mAAPL\u001b[39m\u001b[38;5;124m'\u001b[39m, \u001b[38;5;124m'\u001b[39m\u001b[38;5;124mdate\u001b[39m\u001b[38;5;124m'\u001b[39m: \u001b[38;5;124m'\u001b[39m\u001b[38;5;124m2024-02-02\u001b[39m\u001b[38;5;124m'\u001b[39m })\n\u001b[1;32m      6\u001b[0m )\n",
      "\u001b[0;31mKeyError\u001b[0m: 'get_market_capitalization_on_date'"
     ]
    }
   ],
   "source": [
    "print(\n",
    "    tools[\"get_market_capitalization_on_date\"].invoke(\n",
    "        {\"symbol\": \"AAPL\", \"date\": \"2022-02-02\"}\n",
    "    )\n",
    ")\n",
    "print(\n",
    "    tools[\"get_market_capitalization_on_date\"].invoke(\n",
    "        {\"symbol\": \"AAPL\", \"date\": \"2024-02-02\"}\n",
    "    )\n",
    ")"
   ]
  }
 ],
 "metadata": {
  "kernelspec": {
   "display_name": ".venv",
   "language": "python",
   "name": "python3"
  },
  "language_info": {
   "codemirror_mode": {
    "name": "ipython",
    "version": 3
   },
   "file_extension": ".py",
   "mimetype": "text/x-python",
   "name": "python",
   "nbconvert_exporter": "python",
   "pygments_lexer": "ipython3",
   "version": "3.12.4"
  }
 },
 "nbformat": 4,
 "nbformat_minor": 2
}

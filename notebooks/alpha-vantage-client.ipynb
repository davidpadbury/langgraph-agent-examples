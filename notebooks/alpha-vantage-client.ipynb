{
 "cells": [
  {
   "cell_type": "code",
   "execution_count": 1,
   "metadata": {},
   "outputs": [],
   "source": [
    "%load_ext autoreload\n",
    "%autoreload 2"
   ]
  },
  {
   "cell_type": "code",
   "execution_count": 4,
   "metadata": {},
   "outputs": [],
   "source": [
    "from dotenv import load_dotenv\n",
    "\n",
    "if not load_dotenv():\n",
    "    raise FileNotFoundError(\"No .env file found\")"
   ]
  },
  {
   "cell_type": "code",
   "execution_count": 5,
   "metadata": {},
   "outputs": [],
   "source": [
    "from llm_agents_introduction.alpha_vantage import AlphaVantageService\n",
    "\n",
    "alpha_vantage = AlphaVantageService.create()"
   ]
  },
  {
   "cell_type": "code",
   "execution_count": 17,
   "metadata": {},
   "outputs": [
    {
     "data": {
      "text/markdown": [
       "# Overview of AAPL"
      ],
      "text/plain": [
       "<IPython.core.display.Markdown object>"
      ]
     },
     "metadata": {},
     "output_type": "display_data"
    },
    {
     "name": "stdout",
     "output_type": "stream",
     "text": [
      "Overview(symbol='AAPL',\n",
      "         name='Apple Inc',\n",
      "         description='Apple Inc. is an American multinational technology '\n",
      "                     'company that specializes in consumer electronics, '\n",
      "                     'computer software, and online services. Apple is the '\n",
      "                     \"world's largest technology company by revenue (totalling \"\n",
      "                     '$274.5 billion in 2020) and, since January 2021, the '\n",
      "                     \"world's most valuable company. As of 2021, Apple is the \"\n",
      "                     \"world's fourth-largest PC vendor by unit sales, and \"\n",
      "                     'fourth-largest smartphone manufacturer. It is one of the '\n",
      "                     'Big Five American information technology companies, '\n",
      "                     'along with Amazon, Google, Microsoft, and Facebook.',\n",
      "         market_cap=3258342965000.0)\n"
     ]
    }
   ],
   "source": [
    "from pprint import pp\n",
    "from IPython.display import display, Markdown\n",
    "\n",
    "display(Markdown(\"# Overview of AAPL\"))\n",
    "pp(alpha_vantage.overview(\"AAPL\"))"
   ]
  },
  {
   "cell_type": "code",
   "execution_count": 22,
   "metadata": {},
   "outputs": [
    {
     "data": {
      "text/markdown": [
       "# Search for \"dave\""
      ],
      "text/plain": [
       "<IPython.core.display.Markdown object>"
      ]
     },
     "metadata": {},
     "output_type": "display_data"
    },
    {
     "name": "stdout",
     "output_type": "stream",
     "text": [
      "[SearchResult(name='Dave Inc - Class A',\n",
      "              symbol='DAVE',\n",
      "              type='Equity',\n",
      "              region='United States',\n",
      "              currency='USD'),\n",
      " SearchResult(name='Dave Inc - Warrants (05/01/2026)',\n",
      "              symbol='DAVEW',\n",
      "              type='Equity',\n",
      "              region='United States',\n",
      "              currency='USD'),\n",
      " SearchResult(name='Dave & Buster`s Entertainment Inc',\n",
      "              symbol='PLAY',\n",
      "              type='Equity',\n",
      "              region='United States',\n",
      "              currency='USD')]\n"
     ]
    }
   ],
   "source": [
    "display(Markdown('# Search for \"dave\"'))\n",
    "pp(alpha_vantage.search(term=\"dave\"))"
   ]
  },
  {
   "cell_type": "code",
   "execution_count": 24,
   "metadata": {},
   "outputs": [
    {
     "data": {
      "text/markdown": [
       "# Current price of MSFT"
      ],
      "text/plain": [
       "<IPython.core.display.Markdown object>"
      ]
     },
     "metadata": {},
     "output_type": "display_data"
    },
    {
     "name": "stdout",
     "output_type": "stream",
     "text": [
      "Price:\n"
     ]
    },
    {
     "data": {
      "text/plain": [
       "442.57"
      ]
     },
     "metadata": {},
     "output_type": "display_data"
    },
    {
     "name": "stdout",
     "output_type": "stream",
     "text": [
      "Market Cap:\n"
     ]
    },
    {
     "data": {
      "text/plain": [
       "3289317376000.0"
      ]
     },
     "metadata": {},
     "output_type": "display_data"
    }
   ],
   "source": [
    "display(Markdown(\"# Current price of MSFT\"))\n",
    "\n",
    "print(\"Price:\")\n",
    "display(alpha_vantage.latest_price(\"MSFT\"))\n",
    "\n",
    "print(\"Market Cap:\")\n",
    "display(alpha_vantage.latest_market_cap(\"MSFT\"))"
   ]
  }
 ],
 "metadata": {
  "kernelspec": {
   "display_name": ".venv",
   "language": "python",
   "name": "python3"
  },
  "language_info": {
   "codemirror_mode": {
    "name": "ipython",
    "version": 3
   },
   "file_extension": ".py",
   "mimetype": "text/x-python",
   "name": "python",
   "nbconvert_exporter": "python",
   "pygments_lexer": "ipython3",
   "version": "3.12.3"
  }
 },
 "nbformat": 4,
 "nbformat_minor": 2
}

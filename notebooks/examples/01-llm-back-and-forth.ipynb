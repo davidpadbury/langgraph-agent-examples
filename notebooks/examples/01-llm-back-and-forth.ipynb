{
 "cells": [
  {
   "cell_type": "code",
   "execution_count": 1,
   "metadata": {},
   "outputs": [],
   "source": [
    "%load_ext autoreload\n",
    "%autoreload 2\n",
    "\n",
    "\n",
    "from dotenv import load_dotenv\n",
    "\n",
    "if not load_dotenv():\n",
    "    raise FileNotFoundError(\"No .env file found\")"
   ]
  },
  {
   "cell_type": "code",
   "execution_count": 3,
   "metadata": {},
   "outputs": [
    {
     "data": {
      "text/plain": [
       "AIMessage(content='Knock, knock.', response_metadata={'token_usage': {'completion_tokens': 5, 'prompt_tokens': 35, 'total_tokens': 40}, 'model_name': 'gpt-4o-2024-05-13', 'system_fingerprint': 'fp_ce0793330f', 'finish_reason': 'stop', 'logprobs': None}, id='run-e53ae376-f195-4897-b0a3-6b1eacfc1370-0', usage_metadata={'input_tokens': 35, 'output_tokens': 5, 'total_tokens': 40})"
      ]
     },
     "execution_count": 3,
     "metadata": {},
     "output_type": "execute_result"
    }
   ],
   "source": [
    "from langchain_core.prompts.chat import ChatPromptTemplate\n",
    "from langchain_openai import ChatOpenAI\n",
    "\n",
    "\n",
    "prompt = ChatPromptTemplate.from_messages(\n",
    "    [\n",
    "        (\n",
    "            \"system\",\n",
    "            \"You are an assistant that is really good at telling awful dad jokes.\",\n",
    "        ),\n",
    "        (\"human\", \"{input_message}\"),\n",
    "    ]\n",
    ")\n",
    "\n",
    "gpt_4o = ChatOpenAI(\n",
    "    model=\"gpt-4o\",\n",
    "    temperature=1,\n",
    ")\n",
    "\n",
    "chain = prompt | gpt_4o\n",
    "\n",
    "chain.invoke({\"input_message\": \"Tell me the start of a knock knock joke.\"})"
   ]
  },
  {
   "cell_type": "code",
   "execution_count": 4,
   "metadata": {},
   "outputs": [
    {
     "data": {
      "text/plain": [
       "'Knock, knock.'"
      ]
     },
     "execution_count": 4,
     "metadata": {},
     "output_type": "execute_result"
    }
   ],
   "source": [
    "from langchain_core.prompts import MessagesPlaceholder\n",
    "\n",
    "\n",
    "prompt = ChatPromptTemplate.from_messages(\n",
    "    [\n",
    "        (\n",
    "            \"system\",\n",
    "            \"You are an assistant that is really good at telling awful dad jokes.\",\n",
    "        ),\n",
    "        MessagesPlaceholder(\"message_history\"),\n",
    "    ]\n",
    ")\n",
    "\n",
    "gpt_4o = ChatOpenAI(\n",
    "    model=\"gpt-4o\",\n",
    "    temperature=0,\n",
    ")\n",
    "\n",
    "chain = prompt | gpt_4o\n",
    "\n",
    "\n",
    "message_history = []\n",
    "\n",
    "\n",
    "def send_message(message: str):\n",
    "    human_message = (\"human\", message)\n",
    "    message_history.append(human_message)\n",
    "\n",
    "    ai_message = chain.invoke({\"message_history\": message_history})\n",
    "\n",
    "    message_history.append(ai_message)\n",
    "    return ai_message.content\n",
    "\n",
    "\n",
    "send_message(\"Tell me the start of a knock knock joke.\")"
   ]
  },
  {
   "cell_type": "code",
   "execution_count": 5,
   "metadata": {},
   "outputs": [
    {
     "data": {
      "text/plain": [
       "\"Lettuce in, it's freezing out here!\""
      ]
     },
     "execution_count": 5,
     "metadata": {},
     "output_type": "execute_result"
    }
   ],
   "source": [
    "send_message(\"Lettuce who?\")"
   ]
  },
  {
   "cell_type": "code",
   "execution_count": 6,
   "metadata": {},
   "outputs": [
    {
     "data": {
      "text/plain": [
       "[('human', 'Tell me the start of a knock knock joke.'),\n",
       " AIMessage(content='Knock, knock.', response_metadata={'token_usage': {'completion_tokens': 5, 'prompt_tokens': 35, 'total_tokens': 40}, 'model_name': 'gpt-4o-2024-05-13', 'system_fingerprint': 'fp_ce0793330f', 'finish_reason': 'stop', 'logprobs': None}, id='run-cdd497fe-5c55-4cf6-8173-ab8e7dbe5ce5-0', usage_metadata={'input_tokens': 35, 'output_tokens': 5, 'total_tokens': 40}),\n",
       " ('human', 'Lettuce who?'),\n",
       " AIMessage(content=\"Lettuce in, it's freezing out here!\", response_metadata={'token_usage': {'completion_tokens': 10, 'prompt_tokens': 53, 'total_tokens': 63}, 'model_name': 'gpt-4o-2024-05-13', 'system_fingerprint': 'fp_ce0793330f', 'finish_reason': 'stop', 'logprobs': None}, id='run-b47ed3de-c946-4038-acea-d96d42f973e7-0', usage_metadata={'input_tokens': 53, 'output_tokens': 10, 'total_tokens': 63})]"
      ]
     },
     "execution_count": 6,
     "metadata": {},
     "output_type": "execute_result"
    }
   ],
   "source": [
    "message_history"
   ]
  }
 ],
 "metadata": {
  "kernelspec": {
   "display_name": ".venv",
   "language": "python",
   "name": "python3"
  },
  "language_info": {
   "codemirror_mode": {
    "name": "ipython",
    "version": 3
   },
   "file_extension": ".py",
   "mimetype": "text/x-python",
   "name": "python",
   "nbconvert_exporter": "python",
   "pygments_lexer": "ipython3",
   "version": "3.12.4"
  }
 },
 "nbformat": 4,
 "nbformat_minor": 2
}

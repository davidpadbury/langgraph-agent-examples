{
 "cells": [
  {
   "cell_type": "code",
   "execution_count": 47,
   "metadata": {},
   "outputs": [
    {
     "name": "stdout",
     "output_type": "stream",
     "text": [
      "The autoreload extension is already loaded. To reload it, use:\n",
      "  %reload_ext autoreload\n"
     ]
    }
   ],
   "source": [
    "%load_ext autoreload\n",
    "%autoreload 2"
   ]
  },
  {
   "cell_type": "code",
   "execution_count": 48,
   "metadata": {},
   "outputs": [],
   "source": [
    "from langchain.globals import set_llm_cache\n",
    "from langchain.cache import SQLiteCache\n",
    "\n",
    "set_llm_cache(SQLiteCache(database_path=\".demo.llm.db\"))"
   ]
  },
  {
   "cell_type": "code",
   "execution_count": 49,
   "metadata": {},
   "outputs": [],
   "source": [
    "ticker = \"IBM\"\n",
    "company_name = \"IBM\""
   ]
  },
  {
   "cell_type": "code",
   "execution_count": 50,
   "metadata": {},
   "outputs": [
    {
     "data": {
      "text/plain": [
       "[TimeSeriesDaily(date=datetime.date(2024, 6, 28), open=170.85, high=173.46, low=170.53, close=172.95, volume=4193459),\n",
       " TimeSeriesDaily(date=datetime.date(2024, 6, 27), open=171.12, high=172.5, low=170.48, close=170.85, volume=2894001),\n",
       " TimeSeriesDaily(date=datetime.date(2024, 6, 26), open=171.28, high=172.68, low=170.41, close=171.87, volume=2779016),\n",
       " TimeSeriesDaily(date=datetime.date(2024, 6, 25), open=175.14, high=175.7526, low=171.42, close=172.6, volume=4119267),\n",
       " TimeSeriesDaily(date=datetime.date(2024, 6, 24), open=175.0, high=178.4599, low=174.15, close=175.01, volume=4864735)]"
      ]
     },
     "execution_count": 50,
     "metadata": {},
     "output_type": "execute_result"
    }
   ],
   "source": [
    "from llm_agents_introduction.alpha_vantage import AlphaVantageService\n",
    "\n",
    "alpha_vantage = AlphaVantageService.create()\n",
    "\n",
    "stock_prices = alpha_vantage.fetch_daily(ticker)\n",
    "stock_prices[:5]"
   ]
  },
  {
   "cell_type": "code",
   "execution_count": 51,
   "metadata": {},
   "outputs": [
    {
     "data": {
      "text/html": [
       "<div>\n",
       "<style scoped>\n",
       "    .dataframe tbody tr th:only-of-type {\n",
       "        vertical-align: middle;\n",
       "    }\n",
       "\n",
       "    .dataframe tbody tr th {\n",
       "        vertical-align: top;\n",
       "    }\n",
       "\n",
       "    .dataframe thead th {\n",
       "        text-align: right;\n",
       "    }\n",
       "</style>\n",
       "<table border=\"1\" class=\"dataframe\">\n",
       "  <thead>\n",
       "    <tr style=\"text-align: right;\">\n",
       "      <th></th>\n",
       "      <th>date</th>\n",
       "      <th>open</th>\n",
       "      <th>high</th>\n",
       "      <th>low</th>\n",
       "      <th>close</th>\n",
       "      <th>volume</th>\n",
       "    </tr>\n",
       "  </thead>\n",
       "  <tbody>\n",
       "    <tr>\n",
       "      <th>0</th>\n",
       "      <td>2024-06-28</td>\n",
       "      <td>170.85</td>\n",
       "      <td>173.4600</td>\n",
       "      <td>170.53</td>\n",
       "      <td>172.95</td>\n",
       "      <td>4193459</td>\n",
       "    </tr>\n",
       "    <tr>\n",
       "      <th>1</th>\n",
       "      <td>2024-06-27</td>\n",
       "      <td>171.12</td>\n",
       "      <td>172.5000</td>\n",
       "      <td>170.48</td>\n",
       "      <td>170.85</td>\n",
       "      <td>2894001</td>\n",
       "    </tr>\n",
       "    <tr>\n",
       "      <th>2</th>\n",
       "      <td>2024-06-26</td>\n",
       "      <td>171.28</td>\n",
       "      <td>172.6800</td>\n",
       "      <td>170.41</td>\n",
       "      <td>171.87</td>\n",
       "      <td>2779016</td>\n",
       "    </tr>\n",
       "    <tr>\n",
       "      <th>3</th>\n",
       "      <td>2024-06-25</td>\n",
       "      <td>175.14</td>\n",
       "      <td>175.7526</td>\n",
       "      <td>171.42</td>\n",
       "      <td>172.60</td>\n",
       "      <td>4119267</td>\n",
       "    </tr>\n",
       "    <tr>\n",
       "      <th>4</th>\n",
       "      <td>2024-06-24</td>\n",
       "      <td>175.00</td>\n",
       "      <td>178.4599</td>\n",
       "      <td>174.15</td>\n",
       "      <td>175.01</td>\n",
       "      <td>4864735</td>\n",
       "    </tr>\n",
       "    <tr>\n",
       "      <th>...</th>\n",
       "      <td>...</td>\n",
       "      <td>...</td>\n",
       "      <td>...</td>\n",
       "      <td>...</td>\n",
       "      <td>...</td>\n",
       "      <td>...</td>\n",
       "    </tr>\n",
       "    <tr>\n",
       "      <th>6199</th>\n",
       "      <td>1999-11-05</td>\n",
       "      <td>92.75</td>\n",
       "      <td>92.9400</td>\n",
       "      <td>90.19</td>\n",
       "      <td>90.25</td>\n",
       "      <td>13737600</td>\n",
       "    </tr>\n",
       "    <tr>\n",
       "      <th>6200</th>\n",
       "      <td>1999-11-04</td>\n",
       "      <td>94.44</td>\n",
       "      <td>94.4400</td>\n",
       "      <td>90.00</td>\n",
       "      <td>91.56</td>\n",
       "      <td>16697600</td>\n",
       "    </tr>\n",
       "    <tr>\n",
       "      <th>6201</th>\n",
       "      <td>1999-11-03</td>\n",
       "      <td>95.87</td>\n",
       "      <td>95.9400</td>\n",
       "      <td>93.50</td>\n",
       "      <td>94.37</td>\n",
       "      <td>10369100</td>\n",
       "    </tr>\n",
       "    <tr>\n",
       "      <th>6202</th>\n",
       "      <td>1999-11-02</td>\n",
       "      <td>96.75</td>\n",
       "      <td>96.8100</td>\n",
       "      <td>93.69</td>\n",
       "      <td>94.81</td>\n",
       "      <td>11105400</td>\n",
       "    </tr>\n",
       "    <tr>\n",
       "      <th>6203</th>\n",
       "      <td>1999-11-01</td>\n",
       "      <td>98.50</td>\n",
       "      <td>98.8100</td>\n",
       "      <td>96.37</td>\n",
       "      <td>96.75</td>\n",
       "      <td>9551800</td>\n",
       "    </tr>\n",
       "  </tbody>\n",
       "</table>\n",
       "<p>6204 rows × 6 columns</p>\n",
       "</div>"
      ],
      "text/plain": [
       "            date    open      high     low   close    volume\n",
       "0     2024-06-28  170.85  173.4600  170.53  172.95   4193459\n",
       "1     2024-06-27  171.12  172.5000  170.48  170.85   2894001\n",
       "2     2024-06-26  171.28  172.6800  170.41  171.87   2779016\n",
       "3     2024-06-25  175.14  175.7526  171.42  172.60   4119267\n",
       "4     2024-06-24  175.00  178.4599  174.15  175.01   4864735\n",
       "...          ...     ...       ...     ...     ...       ...\n",
       "6199  1999-11-05   92.75   92.9400   90.19   90.25  13737600\n",
       "6200  1999-11-04   94.44   94.4400   90.00   91.56  16697600\n",
       "6201  1999-11-03   95.87   95.9400   93.50   94.37  10369100\n",
       "6202  1999-11-02   96.75   96.8100   93.69   94.81  11105400\n",
       "6203  1999-11-01   98.50   98.8100   96.37   96.75   9551800\n",
       "\n",
       "[6204 rows x 6 columns]"
      ]
     },
     "execution_count": 51,
     "metadata": {},
     "output_type": "execute_result"
    }
   ],
   "source": [
    "import pandas as pd\n",
    "from dataclasses import asdict\n",
    "\n",
    "df = pd.DataFrame([asdict(price) for price in stock_prices])\n",
    "df"
   ]
  },
  {
   "cell_type": "code",
   "execution_count": 52,
   "metadata": {},
   "outputs": [],
   "source": [
    "from datetime import datetime, timedelta\n",
    "\n",
    "years = 1\n",
    "\n",
    "today = datetime.today()\n",
    "start_date = (today - timedelta(days=int(365 * years))).date()"
   ]
  },
  {
   "cell_type": "code",
   "execution_count": 53,
   "metadata": {},
   "outputs": [
    {
     "data": {
      "application/vnd.plotly.v1+json": {
       "config": {
        "plotlyServerURL": "https://plot.ly"
       },
       "data": [
        {
         "hovertemplate": "date=%{x}<br>Price (USD)=%{y}<extra></extra>",
         "legendgroup": "",
         "line": {
          "color": "#636efa",
          "dash": "solid"
         },
         "marker": {
          "symbol": "circle"
         },
         "mode": "lines",
         "name": "",
         "orientation": "v",
         "showlegend": false,
         "type": "scatter",
         "x": [
          "2024-06-28",
          "2024-06-27",
          "2024-06-26",
          "2024-06-25",
          "2024-06-24",
          "2024-06-21",
          "2024-06-20",
          "2024-06-18",
          "2024-06-17",
          "2024-06-14",
          "2024-06-13",
          "2024-06-12",
          "2024-06-11",
          "2024-06-10",
          "2024-06-07",
          "2024-06-06",
          "2024-06-05",
          "2024-06-04",
          "2024-06-03",
          "2024-05-31",
          "2024-05-30",
          "2024-05-29",
          "2024-05-28",
          "2024-05-24",
          "2024-05-23",
          "2024-05-22",
          "2024-05-21",
          "2024-05-20",
          "2024-05-17",
          "2024-05-16",
          "2024-05-15",
          "2024-05-14",
          "2024-05-13",
          "2024-05-10",
          "2024-05-09",
          "2024-05-08",
          "2024-05-07",
          "2024-05-06",
          "2024-05-03",
          "2024-05-02",
          "2024-05-01",
          "2024-04-30",
          "2024-04-29",
          "2024-04-26",
          "2024-04-25",
          "2024-04-24",
          "2024-04-23",
          "2024-04-22",
          "2024-04-19",
          "2024-04-18",
          "2024-04-17",
          "2024-04-16",
          "2024-04-15",
          "2024-04-12",
          "2024-04-11",
          "2024-04-10",
          "2024-04-09",
          "2024-04-08",
          "2024-04-05",
          "2024-04-04",
          "2024-04-03",
          "2024-04-02",
          "2024-04-01",
          "2024-03-28",
          "2024-03-27",
          "2024-03-26",
          "2024-03-25",
          "2024-03-22",
          "2024-03-21",
          "2024-03-20",
          "2024-03-19",
          "2024-03-18",
          "2024-03-15",
          "2024-03-14",
          "2024-03-13",
          "2024-03-12",
          "2024-03-11",
          "2024-03-08",
          "2024-03-07",
          "2024-03-06",
          "2024-03-05",
          "2024-03-04",
          "2024-03-01",
          "2024-02-29",
          "2024-02-28",
          "2024-02-27",
          "2024-02-26",
          "2024-02-23",
          "2024-02-22",
          "2024-02-21",
          "2024-02-20",
          "2024-02-16",
          "2024-02-15",
          "2024-02-14",
          "2024-02-13",
          "2024-02-12",
          "2024-02-09",
          "2024-02-08",
          "2024-02-07",
          "2024-02-06",
          "2024-02-05",
          "2024-02-02",
          "2024-02-01",
          "2024-01-31",
          "2024-01-30",
          "2024-01-29",
          "2024-01-26",
          "2024-01-25",
          "2024-01-24",
          "2024-01-23",
          "2024-01-22",
          "2024-01-19",
          "2024-01-18",
          "2024-01-17",
          "2024-01-16",
          "2024-01-12",
          "2024-01-11",
          "2024-01-10",
          "2024-01-09",
          "2024-01-08",
          "2024-01-05",
          "2024-01-04",
          "2024-01-03",
          "2024-01-02",
          "2023-12-29",
          "2023-12-28",
          "2023-12-27",
          "2023-12-26",
          "2023-12-22",
          "2023-12-21",
          "2023-12-20",
          "2023-12-19",
          "2023-12-18",
          "2023-12-15",
          "2023-12-14",
          "2023-12-13",
          "2023-12-12",
          "2023-12-11",
          "2023-12-08",
          "2023-12-07",
          "2023-12-06",
          "2023-12-05",
          "2023-12-04",
          "2023-12-01",
          "2023-11-30",
          "2023-11-29",
          "2023-11-28",
          "2023-11-27",
          "2023-11-24",
          "2023-11-22",
          "2023-11-21",
          "2023-11-20",
          "2023-11-17",
          "2023-11-16",
          "2023-11-15",
          "2023-11-14",
          "2023-11-13",
          "2023-11-10",
          "2023-11-09",
          "2023-11-08",
          "2023-11-07",
          "2023-11-06",
          "2023-11-03",
          "2023-11-02",
          "2023-11-01",
          "2023-10-31",
          "2023-10-30",
          "2023-10-27",
          "2023-10-26",
          "2023-10-25",
          "2023-10-24",
          "2023-10-23",
          "2023-10-20",
          "2023-10-19",
          "2023-10-18",
          "2023-10-17",
          "2023-10-16",
          "2023-10-13",
          "2023-10-12",
          "2023-10-11",
          "2023-10-10",
          "2023-10-09",
          "2023-10-06",
          "2023-10-05",
          "2023-10-04",
          "2023-10-03",
          "2023-10-02",
          "2023-09-29",
          "2023-09-28",
          "2023-09-27",
          "2023-09-26",
          "2023-09-25",
          "2023-09-22",
          "2023-09-21",
          "2023-09-20",
          "2023-09-19",
          "2023-09-18",
          "2023-09-15",
          "2023-09-14",
          "2023-09-13",
          "2023-09-12",
          "2023-09-11",
          "2023-09-08",
          "2023-09-07",
          "2023-09-06",
          "2023-09-05",
          "2023-09-01",
          "2023-08-31",
          "2023-08-30",
          "2023-08-29",
          "2023-08-28",
          "2023-08-25",
          "2023-08-24",
          "2023-08-23",
          "2023-08-22",
          "2023-08-21",
          "2023-08-18",
          "2023-08-17",
          "2023-08-16",
          "2023-08-15",
          "2023-08-14",
          "2023-08-11",
          "2023-08-10",
          "2023-08-09",
          "2023-08-08",
          "2023-08-07",
          "2023-08-04",
          "2023-08-03",
          "2023-08-02",
          "2023-08-01",
          "2023-07-31",
          "2023-07-28",
          "2023-07-27",
          "2023-07-26",
          "2023-07-25",
          "2023-07-24",
          "2023-07-21",
          "2023-07-20",
          "2023-07-19",
          "2023-07-18",
          "2023-07-17",
          "2023-07-14",
          "2023-07-13",
          "2023-07-12",
          "2023-07-11",
          "2023-07-10",
          "2023-07-07",
          "2023-07-06",
          "2023-07-05",
          "2023-07-03"
         ],
         "xaxis": "x",
         "y": [
          172.95,
          170.85,
          171.87,
          172.6,
          175.01,
          172.46,
          173.92,
          170.55,
          169.5,
          169.21,
          169.12,
          169,
          169.32,
          170.38,
          170.01,
          168.2,
          167.38,
          165.81,
          165.28,
          166.85,
          165.63,
          167.05,
          169.66,
          170.89,
          170.67,
          173.69,
          173.47,
          169.92,
          169.03,
          168.97,
          168.26,
          167.36,
          167.56,
          167.15,
          166.27,
          169.9,
          168.38,
          168.61,
          165.71,
          164.69,
          164.43,
          166.2,
          167.43,
          167.13,
          168.91,
          184.1,
          182.19,
          181.9,
          181.58,
          181.47,
          183.1,
          183.75,
          181.25,
          182.27,
          185.9,
          186.04,
          189.31,
          189.82,
          189.14,
          187.94,
          190.9,
          188.88,
          189.83,
          190.96,
          190.8,
          188.5,
          188.79,
          190.84,
          191.9,
          193.96,
          193.34,
          191.69,
          191.07,
          193.43,
          196.7,
          197.78,
          191.73,
          195.95,
          196.54,
          196.16,
          191.95,
          193.06,
          188.2,
          185.03,
          185.3,
          184.87,
          184.13,
          185.72,
          184.21,
          179.7,
          183.44,
          187.64,
          186.87,
          183.57,
          183.7,
          186.16,
          186.34,
          184.36,
          183.74,
          183.41,
          183.42,
          185.79,
          186.9,
          183.66,
          187.87,
          187.14,
          187.42,
          190.43,
          173.93,
          173.94,
          172.83,
          171.48,
          166.84,
          166.08,
          166.96,
          165.8,
          162.16,
          161.23,
          160.08,
          161.14,
          159.16,
          160.86,
          160.1,
          161.5,
          163.55,
          163.75,
          163.46,
          163.21,
          162.14,
          160.78,
          160.05,
          161.56,
          162.74,
          162.23,
          162.91,
          163.62,
          164.71,
          163.51,
          161.96,
          160.22,
          160.28,
          161.39,
          161.1,
          160.55,
          158.56,
          156.41,
          155.65,
          155.57,
          155.18,
          155.13,
          153.91,
          154.35,
          152.89,
          153.06,
          152.58,
          150.41,
          148.1,
          149.02,
          146.62,
          148.03,
          148.83,
          148.97,
          147.9,
          147.01,
          145.4,
          144.64,
          142.63,
          142.52,
          143.76,
          137.08,
          137.79,
          136.38,
          137.16,
          138.01,
          139.97,
          140.32,
          139.21,
          138.46,
          141.24,
          143.23,
          142.11,
          142.2,
          142.03,
          141.52,
          141.07,
          140.39,
          140.8,
          140.3,
          141.58,
          143.17,
          143.24,
          146.48,
          146.91,
          147.38,
          149.83,
          146.52,
          145.09,
          145.99,
          147.35,
          146.55,
          146.3,
          148.38,
          147.68,
          147.52,
          148.06,
          148.13,
          147.94,
          146.83,
          146.86,
          146.45,
          146.02,
          145.35,
          143.55,
          143.41,
          141.49,
          142.28,
          141.41,
          140.66,
          140.64,
          141.87,
          141.91,
          143.12,
          143.25,
          142.49,
          145.91,
          146.18,
          144.24,
          144.45,
          144.17,
          143.33,
          144.18,
          143.45,
          142.97,
          141.07,
          140.33,
          139.54,
          138.94,
          138.38,
          135.48,
          135.36,
          134.24,
          133.4,
          133.92,
          132.84,
          134.44,
          132.9,
          132.08,
          132.16,
          134.24,
          133.67
         ],
         "yaxis": "y"
        }
       ],
       "layout": {
        "legend": {
         "tracegroupgap": 0
        },
        "template": {
         "data": {
          "bar": [
           {
            "error_x": {
             "color": "#2a3f5f"
            },
            "error_y": {
             "color": "#2a3f5f"
            },
            "marker": {
             "line": {
              "color": "#E5ECF6",
              "width": 0.5
             },
             "pattern": {
              "fillmode": "overlay",
              "size": 10,
              "solidity": 0.2
             }
            },
            "type": "bar"
           }
          ],
          "barpolar": [
           {
            "marker": {
             "line": {
              "color": "#E5ECF6",
              "width": 0.5
             },
             "pattern": {
              "fillmode": "overlay",
              "size": 10,
              "solidity": 0.2
             }
            },
            "type": "barpolar"
           }
          ],
          "carpet": [
           {
            "aaxis": {
             "endlinecolor": "#2a3f5f",
             "gridcolor": "white",
             "linecolor": "white",
             "minorgridcolor": "white",
             "startlinecolor": "#2a3f5f"
            },
            "baxis": {
             "endlinecolor": "#2a3f5f",
             "gridcolor": "white",
             "linecolor": "white",
             "minorgridcolor": "white",
             "startlinecolor": "#2a3f5f"
            },
            "type": "carpet"
           }
          ],
          "choropleth": [
           {
            "colorbar": {
             "outlinewidth": 0,
             "ticks": ""
            },
            "type": "choropleth"
           }
          ],
          "contour": [
           {
            "colorbar": {
             "outlinewidth": 0,
             "ticks": ""
            },
            "colorscale": [
             [
              0,
              "#0d0887"
             ],
             [
              0.1111111111111111,
              "#46039f"
             ],
             [
              0.2222222222222222,
              "#7201a8"
             ],
             [
              0.3333333333333333,
              "#9c179e"
             ],
             [
              0.4444444444444444,
              "#bd3786"
             ],
             [
              0.5555555555555556,
              "#d8576b"
             ],
             [
              0.6666666666666666,
              "#ed7953"
             ],
             [
              0.7777777777777778,
              "#fb9f3a"
             ],
             [
              0.8888888888888888,
              "#fdca26"
             ],
             [
              1,
              "#f0f921"
             ]
            ],
            "type": "contour"
           }
          ],
          "contourcarpet": [
           {
            "colorbar": {
             "outlinewidth": 0,
             "ticks": ""
            },
            "type": "contourcarpet"
           }
          ],
          "heatmap": [
           {
            "colorbar": {
             "outlinewidth": 0,
             "ticks": ""
            },
            "colorscale": [
             [
              0,
              "#0d0887"
             ],
             [
              0.1111111111111111,
              "#46039f"
             ],
             [
              0.2222222222222222,
              "#7201a8"
             ],
             [
              0.3333333333333333,
              "#9c179e"
             ],
             [
              0.4444444444444444,
              "#bd3786"
             ],
             [
              0.5555555555555556,
              "#d8576b"
             ],
             [
              0.6666666666666666,
              "#ed7953"
             ],
             [
              0.7777777777777778,
              "#fb9f3a"
             ],
             [
              0.8888888888888888,
              "#fdca26"
             ],
             [
              1,
              "#f0f921"
             ]
            ],
            "type": "heatmap"
           }
          ],
          "heatmapgl": [
           {
            "colorbar": {
             "outlinewidth": 0,
             "ticks": ""
            },
            "colorscale": [
             [
              0,
              "#0d0887"
             ],
             [
              0.1111111111111111,
              "#46039f"
             ],
             [
              0.2222222222222222,
              "#7201a8"
             ],
             [
              0.3333333333333333,
              "#9c179e"
             ],
             [
              0.4444444444444444,
              "#bd3786"
             ],
             [
              0.5555555555555556,
              "#d8576b"
             ],
             [
              0.6666666666666666,
              "#ed7953"
             ],
             [
              0.7777777777777778,
              "#fb9f3a"
             ],
             [
              0.8888888888888888,
              "#fdca26"
             ],
             [
              1,
              "#f0f921"
             ]
            ],
            "type": "heatmapgl"
           }
          ],
          "histogram": [
           {
            "marker": {
             "pattern": {
              "fillmode": "overlay",
              "size": 10,
              "solidity": 0.2
             }
            },
            "type": "histogram"
           }
          ],
          "histogram2d": [
           {
            "colorbar": {
             "outlinewidth": 0,
             "ticks": ""
            },
            "colorscale": [
             [
              0,
              "#0d0887"
             ],
             [
              0.1111111111111111,
              "#46039f"
             ],
             [
              0.2222222222222222,
              "#7201a8"
             ],
             [
              0.3333333333333333,
              "#9c179e"
             ],
             [
              0.4444444444444444,
              "#bd3786"
             ],
             [
              0.5555555555555556,
              "#d8576b"
             ],
             [
              0.6666666666666666,
              "#ed7953"
             ],
             [
              0.7777777777777778,
              "#fb9f3a"
             ],
             [
              0.8888888888888888,
              "#fdca26"
             ],
             [
              1,
              "#f0f921"
             ]
            ],
            "type": "histogram2d"
           }
          ],
          "histogram2dcontour": [
           {
            "colorbar": {
             "outlinewidth": 0,
             "ticks": ""
            },
            "colorscale": [
             [
              0,
              "#0d0887"
             ],
             [
              0.1111111111111111,
              "#46039f"
             ],
             [
              0.2222222222222222,
              "#7201a8"
             ],
             [
              0.3333333333333333,
              "#9c179e"
             ],
             [
              0.4444444444444444,
              "#bd3786"
             ],
             [
              0.5555555555555556,
              "#d8576b"
             ],
             [
              0.6666666666666666,
              "#ed7953"
             ],
             [
              0.7777777777777778,
              "#fb9f3a"
             ],
             [
              0.8888888888888888,
              "#fdca26"
             ],
             [
              1,
              "#f0f921"
             ]
            ],
            "type": "histogram2dcontour"
           }
          ],
          "mesh3d": [
           {
            "colorbar": {
             "outlinewidth": 0,
             "ticks": ""
            },
            "type": "mesh3d"
           }
          ],
          "parcoords": [
           {
            "line": {
             "colorbar": {
              "outlinewidth": 0,
              "ticks": ""
             }
            },
            "type": "parcoords"
           }
          ],
          "pie": [
           {
            "automargin": true,
            "type": "pie"
           }
          ],
          "scatter": [
           {
            "fillpattern": {
             "fillmode": "overlay",
             "size": 10,
             "solidity": 0.2
            },
            "type": "scatter"
           }
          ],
          "scatter3d": [
           {
            "line": {
             "colorbar": {
              "outlinewidth": 0,
              "ticks": ""
             }
            },
            "marker": {
             "colorbar": {
              "outlinewidth": 0,
              "ticks": ""
             }
            },
            "type": "scatter3d"
           }
          ],
          "scattercarpet": [
           {
            "marker": {
             "colorbar": {
              "outlinewidth": 0,
              "ticks": ""
             }
            },
            "type": "scattercarpet"
           }
          ],
          "scattergeo": [
           {
            "marker": {
             "colorbar": {
              "outlinewidth": 0,
              "ticks": ""
             }
            },
            "type": "scattergeo"
           }
          ],
          "scattergl": [
           {
            "marker": {
             "colorbar": {
              "outlinewidth": 0,
              "ticks": ""
             }
            },
            "type": "scattergl"
           }
          ],
          "scattermapbox": [
           {
            "marker": {
             "colorbar": {
              "outlinewidth": 0,
              "ticks": ""
             }
            },
            "type": "scattermapbox"
           }
          ],
          "scatterpolar": [
           {
            "marker": {
             "colorbar": {
              "outlinewidth": 0,
              "ticks": ""
             }
            },
            "type": "scatterpolar"
           }
          ],
          "scatterpolargl": [
           {
            "marker": {
             "colorbar": {
              "outlinewidth": 0,
              "ticks": ""
             }
            },
            "type": "scatterpolargl"
           }
          ],
          "scatterternary": [
           {
            "marker": {
             "colorbar": {
              "outlinewidth": 0,
              "ticks": ""
             }
            },
            "type": "scatterternary"
           }
          ],
          "surface": [
           {
            "colorbar": {
             "outlinewidth": 0,
             "ticks": ""
            },
            "colorscale": [
             [
              0,
              "#0d0887"
             ],
             [
              0.1111111111111111,
              "#46039f"
             ],
             [
              0.2222222222222222,
              "#7201a8"
             ],
             [
              0.3333333333333333,
              "#9c179e"
             ],
             [
              0.4444444444444444,
              "#bd3786"
             ],
             [
              0.5555555555555556,
              "#d8576b"
             ],
             [
              0.6666666666666666,
              "#ed7953"
             ],
             [
              0.7777777777777778,
              "#fb9f3a"
             ],
             [
              0.8888888888888888,
              "#fdca26"
             ],
             [
              1,
              "#f0f921"
             ]
            ],
            "type": "surface"
           }
          ],
          "table": [
           {
            "cells": {
             "fill": {
              "color": "#EBF0F8"
             },
             "line": {
              "color": "white"
             }
            },
            "header": {
             "fill": {
              "color": "#C8D4E3"
             },
             "line": {
              "color": "white"
             }
            },
            "type": "table"
           }
          ]
         },
         "layout": {
          "annotationdefaults": {
           "arrowcolor": "#2a3f5f",
           "arrowhead": 0,
           "arrowwidth": 1
          },
          "autotypenumbers": "strict",
          "coloraxis": {
           "colorbar": {
            "outlinewidth": 0,
            "ticks": ""
           }
          },
          "colorscale": {
           "diverging": [
            [
             0,
             "#8e0152"
            ],
            [
             0.1,
             "#c51b7d"
            ],
            [
             0.2,
             "#de77ae"
            ],
            [
             0.3,
             "#f1b6da"
            ],
            [
             0.4,
             "#fde0ef"
            ],
            [
             0.5,
             "#f7f7f7"
            ],
            [
             0.6,
             "#e6f5d0"
            ],
            [
             0.7,
             "#b8e186"
            ],
            [
             0.8,
             "#7fbc41"
            ],
            [
             0.9,
             "#4d9221"
            ],
            [
             1,
             "#276419"
            ]
           ],
           "sequential": [
            [
             0,
             "#0d0887"
            ],
            [
             0.1111111111111111,
             "#46039f"
            ],
            [
             0.2222222222222222,
             "#7201a8"
            ],
            [
             0.3333333333333333,
             "#9c179e"
            ],
            [
             0.4444444444444444,
             "#bd3786"
            ],
            [
             0.5555555555555556,
             "#d8576b"
            ],
            [
             0.6666666666666666,
             "#ed7953"
            ],
            [
             0.7777777777777778,
             "#fb9f3a"
            ],
            [
             0.8888888888888888,
             "#fdca26"
            ],
            [
             1,
             "#f0f921"
            ]
           ],
           "sequentialminus": [
            [
             0,
             "#0d0887"
            ],
            [
             0.1111111111111111,
             "#46039f"
            ],
            [
             0.2222222222222222,
             "#7201a8"
            ],
            [
             0.3333333333333333,
             "#9c179e"
            ],
            [
             0.4444444444444444,
             "#bd3786"
            ],
            [
             0.5555555555555556,
             "#d8576b"
            ],
            [
             0.6666666666666666,
             "#ed7953"
            ],
            [
             0.7777777777777778,
             "#fb9f3a"
            ],
            [
             0.8888888888888888,
             "#fdca26"
            ],
            [
             1,
             "#f0f921"
            ]
           ]
          },
          "colorway": [
           "#636efa",
           "#EF553B",
           "#00cc96",
           "#ab63fa",
           "#FFA15A",
           "#19d3f3",
           "#FF6692",
           "#B6E880",
           "#FF97FF",
           "#FECB52"
          ],
          "font": {
           "color": "#2a3f5f"
          },
          "geo": {
           "bgcolor": "white",
           "lakecolor": "white",
           "landcolor": "#E5ECF6",
           "showlakes": true,
           "showland": true,
           "subunitcolor": "white"
          },
          "hoverlabel": {
           "align": "left"
          },
          "hovermode": "closest",
          "mapbox": {
           "style": "light"
          },
          "paper_bgcolor": "white",
          "plot_bgcolor": "#E5ECF6",
          "polar": {
           "angularaxis": {
            "gridcolor": "white",
            "linecolor": "white",
            "ticks": ""
           },
           "bgcolor": "#E5ECF6",
           "radialaxis": {
            "gridcolor": "white",
            "linecolor": "white",
            "ticks": ""
           }
          },
          "scene": {
           "xaxis": {
            "backgroundcolor": "#E5ECF6",
            "gridcolor": "white",
            "gridwidth": 2,
            "linecolor": "white",
            "showbackground": true,
            "ticks": "",
            "zerolinecolor": "white"
           },
           "yaxis": {
            "backgroundcolor": "#E5ECF6",
            "gridcolor": "white",
            "gridwidth": 2,
            "linecolor": "white",
            "showbackground": true,
            "ticks": "",
            "zerolinecolor": "white"
           },
           "zaxis": {
            "backgroundcolor": "#E5ECF6",
            "gridcolor": "white",
            "gridwidth": 2,
            "linecolor": "white",
            "showbackground": true,
            "ticks": "",
            "zerolinecolor": "white"
           }
          },
          "shapedefaults": {
           "line": {
            "color": "#2a3f5f"
           }
          },
          "ternary": {
           "aaxis": {
            "gridcolor": "white",
            "linecolor": "white",
            "ticks": ""
           },
           "baxis": {
            "gridcolor": "white",
            "linecolor": "white",
            "ticks": ""
           },
           "bgcolor": "#E5ECF6",
           "caxis": {
            "gridcolor": "white",
            "linecolor": "white",
            "ticks": ""
           }
          },
          "title": {
           "x": 0.05
          },
          "xaxis": {
           "automargin": true,
           "gridcolor": "white",
           "linecolor": "white",
           "ticks": "",
           "title": {
            "standoff": 15
           },
           "zerolinecolor": "white",
           "zerolinewidth": 2
          },
          "yaxis": {
           "automargin": true,
           "gridcolor": "white",
           "linecolor": "white",
           "ticks": "",
           "title": {
            "standoff": 15
           },
           "zerolinecolor": "white",
           "zerolinewidth": 2
          }
         }
        },
        "title": {
         "text": "IBM stock price"
        },
        "xaxis": {
         "anchor": "y",
         "domain": [
          0,
          1
         ],
         "title": {
          "text": "date"
         }
        },
        "yaxis": {
         "anchor": "x",
         "domain": [
          0,
          1
         ],
         "title": {
          "text": "Price (USD)"
         }
        }
       }
      }
     },
     "metadata": {},
     "output_type": "display_data"
    }
   ],
   "source": [
    "import plotly.express as px\n",
    "\n",
    "last_year_prices = df[df[\"date\"] >= start_date]\n",
    "graph = px.line(\n",
    "    last_year_prices,\n",
    "    x=\"date\",\n",
    "    y=\"close\",\n",
    "    title=f\"{company_name} stock price\",\n",
    "    labels={\"close\": \"Price (USD)\"},\n",
    ")\n",
    "\n",
    "graph.show()"
   ]
  },
  {
   "cell_type": "code",
   "execution_count": 54,
   "metadata": {},
   "outputs": [
    {
     "data": {
      "text/plain": [
       "'/var/folders/sv/dpv4tt9d45n8sv26lclcw_zr0000gn/T/tmp18shslq0.png'"
      ]
     },
     "execution_count": 54,
     "metadata": {},
     "output_type": "execute_result"
    }
   ],
   "source": [
    "from tempfile import NamedTemporaryFile\n",
    "\n",
    "with NamedTemporaryFile(delete=False, suffix=\".png\") as graph_file:\n",
    "    graph.write_image(graph_file.file)\n",
    "    graph_file_name = graph_file.name\n",
    "\n",
    "graph_file_name"
   ]
  },
  {
   "cell_type": "code",
   "execution_count": 55,
   "metadata": {},
   "outputs": [
    {
     "data": {
      "text/plain": [
       "[{'start_date': datetime.date(2023, 7, 1),\n",
       "  'end_date': datetime.date(2023, 11, 1),\n",
       "  'notes': 'Stock price shows a general upward trend with some fluctuations.'},\n",
       " {'start_date': datetime.date(2024, 1, 1),\n",
       "  'end_date': datetime.date(2024, 3, 1),\n",
       "  'notes': 'Stock price experiences a significant increase.'},\n",
       " {'start_date': datetime.date(2024, 3, 1),\n",
       "  'end_date': datetime.date(2024, 6, 30),\n",
       "  'notes': 'Stock price shows a downward trend with some fluctuations.'}]"
      ]
     },
     "execution_count": 55,
     "metadata": {},
     "output_type": "execute_result"
    }
   ],
   "source": [
    "from llm_agents_introduction.chains.stock_price_chart_reviewer import (\n",
    "    create_stock_price_chart_reviewer,\n",
    "    StockPriceChartReviewerInput,\n",
    ")\n",
    "\n",
    "stock_price_reviewer = create_stock_price_chart_reviewer()\n",
    "stock_price_reviewer_input = StockPriceChartReviewerInput(\n",
    "    from_date=start_date,\n",
    "    to_date=today,\n",
    "    symbol=ticker,\n",
    "    image_path=graph_file_name,\n",
    ")\n",
    "\n",
    "review_items = stock_price_reviewer.invoke(stock_price_reviewer_input)\n",
    "\n",
    "review_items"
   ]
  },
  {
   "cell_type": "code",
   "execution_count": 56,
   "metadata": {},
   "outputs": [
    {
     "name": "stdout",
     "output_type": "stream",
     "text": [
      "1: Stock price shows a general upward trend with some fluctuations.\n",
      "2: Stock price experiences a significant increase.\n",
      "3: Stock price shows a downward trend with some fluctuations.\n"
     ]
    },
    {
     "data": {
      "application/vnd.plotly.v1+json": {
       "config": {
        "plotlyServerURL": "https://plot.ly"
       },
       "data": [
        {
         "hovertemplate": "date=%{x}<br>Price (USD)=%{y}<extra></extra>",
         "legendgroup": "",
         "line": {
          "color": "#636efa",
          "dash": "solid"
         },
         "marker": {
          "symbol": "circle"
         },
         "mode": "lines",
         "name": "",
         "orientation": "v",
         "showlegend": false,
         "type": "scatter",
         "x": [
          "2024-06-28",
          "2024-06-27",
          "2024-06-26",
          "2024-06-25",
          "2024-06-24",
          "2024-06-21",
          "2024-06-20",
          "2024-06-18",
          "2024-06-17",
          "2024-06-14",
          "2024-06-13",
          "2024-06-12",
          "2024-06-11",
          "2024-06-10",
          "2024-06-07",
          "2024-06-06",
          "2024-06-05",
          "2024-06-04",
          "2024-06-03",
          "2024-05-31",
          "2024-05-30",
          "2024-05-29",
          "2024-05-28",
          "2024-05-24",
          "2024-05-23",
          "2024-05-22",
          "2024-05-21",
          "2024-05-20",
          "2024-05-17",
          "2024-05-16",
          "2024-05-15",
          "2024-05-14",
          "2024-05-13",
          "2024-05-10",
          "2024-05-09",
          "2024-05-08",
          "2024-05-07",
          "2024-05-06",
          "2024-05-03",
          "2024-05-02",
          "2024-05-01",
          "2024-04-30",
          "2024-04-29",
          "2024-04-26",
          "2024-04-25",
          "2024-04-24",
          "2024-04-23",
          "2024-04-22",
          "2024-04-19",
          "2024-04-18",
          "2024-04-17",
          "2024-04-16",
          "2024-04-15",
          "2024-04-12",
          "2024-04-11",
          "2024-04-10",
          "2024-04-09",
          "2024-04-08",
          "2024-04-05",
          "2024-04-04",
          "2024-04-03",
          "2024-04-02",
          "2024-04-01",
          "2024-03-28",
          "2024-03-27",
          "2024-03-26",
          "2024-03-25",
          "2024-03-22",
          "2024-03-21",
          "2024-03-20",
          "2024-03-19",
          "2024-03-18",
          "2024-03-15",
          "2024-03-14",
          "2024-03-13",
          "2024-03-12",
          "2024-03-11",
          "2024-03-08",
          "2024-03-07",
          "2024-03-06",
          "2024-03-05",
          "2024-03-04",
          "2024-03-01",
          "2024-02-29",
          "2024-02-28",
          "2024-02-27",
          "2024-02-26",
          "2024-02-23",
          "2024-02-22",
          "2024-02-21",
          "2024-02-20",
          "2024-02-16",
          "2024-02-15",
          "2024-02-14",
          "2024-02-13",
          "2024-02-12",
          "2024-02-09",
          "2024-02-08",
          "2024-02-07",
          "2024-02-06",
          "2024-02-05",
          "2024-02-02",
          "2024-02-01",
          "2024-01-31",
          "2024-01-30",
          "2024-01-29",
          "2024-01-26",
          "2024-01-25",
          "2024-01-24",
          "2024-01-23",
          "2024-01-22",
          "2024-01-19",
          "2024-01-18",
          "2024-01-17",
          "2024-01-16",
          "2024-01-12",
          "2024-01-11",
          "2024-01-10",
          "2024-01-09",
          "2024-01-08",
          "2024-01-05",
          "2024-01-04",
          "2024-01-03",
          "2024-01-02",
          "2023-12-29",
          "2023-12-28",
          "2023-12-27",
          "2023-12-26",
          "2023-12-22",
          "2023-12-21",
          "2023-12-20",
          "2023-12-19",
          "2023-12-18",
          "2023-12-15",
          "2023-12-14",
          "2023-12-13",
          "2023-12-12",
          "2023-12-11",
          "2023-12-08",
          "2023-12-07",
          "2023-12-06",
          "2023-12-05",
          "2023-12-04",
          "2023-12-01",
          "2023-11-30",
          "2023-11-29",
          "2023-11-28",
          "2023-11-27",
          "2023-11-24",
          "2023-11-22",
          "2023-11-21",
          "2023-11-20",
          "2023-11-17",
          "2023-11-16",
          "2023-11-15",
          "2023-11-14",
          "2023-11-13",
          "2023-11-10",
          "2023-11-09",
          "2023-11-08",
          "2023-11-07",
          "2023-11-06",
          "2023-11-03",
          "2023-11-02",
          "2023-11-01",
          "2023-10-31",
          "2023-10-30",
          "2023-10-27",
          "2023-10-26",
          "2023-10-25",
          "2023-10-24",
          "2023-10-23",
          "2023-10-20",
          "2023-10-19",
          "2023-10-18",
          "2023-10-17",
          "2023-10-16",
          "2023-10-13",
          "2023-10-12",
          "2023-10-11",
          "2023-10-10",
          "2023-10-09",
          "2023-10-06",
          "2023-10-05",
          "2023-10-04",
          "2023-10-03",
          "2023-10-02",
          "2023-09-29",
          "2023-09-28",
          "2023-09-27",
          "2023-09-26",
          "2023-09-25",
          "2023-09-22",
          "2023-09-21",
          "2023-09-20",
          "2023-09-19",
          "2023-09-18",
          "2023-09-15",
          "2023-09-14",
          "2023-09-13",
          "2023-09-12",
          "2023-09-11",
          "2023-09-08",
          "2023-09-07",
          "2023-09-06",
          "2023-09-05",
          "2023-09-01",
          "2023-08-31",
          "2023-08-30",
          "2023-08-29",
          "2023-08-28",
          "2023-08-25",
          "2023-08-24",
          "2023-08-23",
          "2023-08-22",
          "2023-08-21",
          "2023-08-18",
          "2023-08-17",
          "2023-08-16",
          "2023-08-15",
          "2023-08-14",
          "2023-08-11",
          "2023-08-10",
          "2023-08-09",
          "2023-08-08",
          "2023-08-07",
          "2023-08-04",
          "2023-08-03",
          "2023-08-02",
          "2023-08-01",
          "2023-07-31",
          "2023-07-28",
          "2023-07-27",
          "2023-07-26",
          "2023-07-25",
          "2023-07-24",
          "2023-07-21",
          "2023-07-20",
          "2023-07-19",
          "2023-07-18",
          "2023-07-17",
          "2023-07-14",
          "2023-07-13",
          "2023-07-12",
          "2023-07-11",
          "2023-07-10",
          "2023-07-07",
          "2023-07-06",
          "2023-07-05",
          "2023-07-03"
         ],
         "xaxis": "x",
         "y": [
          172.95,
          170.85,
          171.87,
          172.6,
          175.01,
          172.46,
          173.92,
          170.55,
          169.5,
          169.21,
          169.12,
          169,
          169.32,
          170.38,
          170.01,
          168.2,
          167.38,
          165.81,
          165.28,
          166.85,
          165.63,
          167.05,
          169.66,
          170.89,
          170.67,
          173.69,
          173.47,
          169.92,
          169.03,
          168.97,
          168.26,
          167.36,
          167.56,
          167.15,
          166.27,
          169.9,
          168.38,
          168.61,
          165.71,
          164.69,
          164.43,
          166.2,
          167.43,
          167.13,
          168.91,
          184.1,
          182.19,
          181.9,
          181.58,
          181.47,
          183.1,
          183.75,
          181.25,
          182.27,
          185.9,
          186.04,
          189.31,
          189.82,
          189.14,
          187.94,
          190.9,
          188.88,
          189.83,
          190.96,
          190.8,
          188.5,
          188.79,
          190.84,
          191.9,
          193.96,
          193.34,
          191.69,
          191.07,
          193.43,
          196.7,
          197.78,
          191.73,
          195.95,
          196.54,
          196.16,
          191.95,
          193.06,
          188.2,
          185.03,
          185.3,
          184.87,
          184.13,
          185.72,
          184.21,
          179.7,
          183.44,
          187.64,
          186.87,
          183.57,
          183.7,
          186.16,
          186.34,
          184.36,
          183.74,
          183.41,
          183.42,
          185.79,
          186.9,
          183.66,
          187.87,
          187.14,
          187.42,
          190.43,
          173.93,
          173.94,
          172.83,
          171.48,
          166.84,
          166.08,
          166.96,
          165.8,
          162.16,
          161.23,
          160.08,
          161.14,
          159.16,
          160.86,
          160.1,
          161.5,
          163.55,
          163.75,
          163.46,
          163.21,
          162.14,
          160.78,
          160.05,
          161.56,
          162.74,
          162.23,
          162.91,
          163.62,
          164.71,
          163.51,
          161.96,
          160.22,
          160.28,
          161.39,
          161.1,
          160.55,
          158.56,
          156.41,
          155.65,
          155.57,
          155.18,
          155.13,
          153.91,
          154.35,
          152.89,
          153.06,
          152.58,
          150.41,
          148.1,
          149.02,
          146.62,
          148.03,
          148.83,
          148.97,
          147.9,
          147.01,
          145.4,
          144.64,
          142.63,
          142.52,
          143.76,
          137.08,
          137.79,
          136.38,
          137.16,
          138.01,
          139.97,
          140.32,
          139.21,
          138.46,
          141.24,
          143.23,
          142.11,
          142.2,
          142.03,
          141.52,
          141.07,
          140.39,
          140.8,
          140.3,
          141.58,
          143.17,
          143.24,
          146.48,
          146.91,
          147.38,
          149.83,
          146.52,
          145.09,
          145.99,
          147.35,
          146.55,
          146.3,
          148.38,
          147.68,
          147.52,
          148.06,
          148.13,
          147.94,
          146.83,
          146.86,
          146.45,
          146.02,
          145.35,
          143.55,
          143.41,
          141.49,
          142.28,
          141.41,
          140.66,
          140.64,
          141.87,
          141.91,
          143.12,
          143.25,
          142.49,
          145.91,
          146.18,
          144.24,
          144.45,
          144.17,
          143.33,
          144.18,
          143.45,
          142.97,
          141.07,
          140.33,
          139.54,
          138.94,
          138.38,
          135.48,
          135.36,
          134.24,
          133.4,
          133.92,
          132.84,
          134.44,
          132.9,
          132.08,
          132.16,
          134.24,
          133.67
         ],
         "yaxis": "y"
        }
       ],
       "layout": {
        "annotations": [
         {
          "showarrow": false,
          "text": "1",
          "x": "2023-11-01",
          "xanchor": "right",
          "xref": "x",
          "y": 1,
          "yanchor": "top",
          "yref": "y domain"
         },
         {
          "showarrow": false,
          "text": "2",
          "x": "2024-03-01",
          "xanchor": "right",
          "xref": "x",
          "y": 1,
          "yanchor": "top",
          "yref": "y domain"
         },
         {
          "showarrow": false,
          "text": "3",
          "x": "2024-06-30",
          "xanchor": "right",
          "xref": "x",
          "y": 1,
          "yanchor": "top",
          "yref": "y domain"
         }
        ],
        "legend": {
         "tracegroupgap": 0
        },
        "shapes": [
         {
          "fillcolor": "#1577bb",
          "layer": "below",
          "line": {
           "width": 0
          },
          "opacity": 0.5,
          "type": "rect",
          "x0": "2023-07-01",
          "x1": "2023-11-01",
          "xref": "x",
          "y0": 0,
          "y1": 1,
          "yref": "y domain"
         },
         {
          "fillcolor": "#16ac44",
          "layer": "below",
          "line": {
           "width": 0
          },
          "opacity": 0.5,
          "type": "rect",
          "x0": "2024-01-01",
          "x1": "2024-03-01",
          "xref": "x",
          "y0": 0,
          "y1": 1,
          "yref": "y domain"
         },
         {
          "fillcolor": "#a5c67f",
          "layer": "below",
          "line": {
           "width": 0
          },
          "opacity": 0.5,
          "type": "rect",
          "x0": "2024-03-01",
          "x1": "2024-06-30",
          "xref": "x",
          "y0": 0,
          "y1": 1,
          "yref": "y domain"
         }
        ],
        "template": {
         "data": {
          "bar": [
           {
            "error_x": {
             "color": "#2a3f5f"
            },
            "error_y": {
             "color": "#2a3f5f"
            },
            "marker": {
             "line": {
              "color": "#E5ECF6",
              "width": 0.5
             },
             "pattern": {
              "fillmode": "overlay",
              "size": 10,
              "solidity": 0.2
             }
            },
            "type": "bar"
           }
          ],
          "barpolar": [
           {
            "marker": {
             "line": {
              "color": "#E5ECF6",
              "width": 0.5
             },
             "pattern": {
              "fillmode": "overlay",
              "size": 10,
              "solidity": 0.2
             }
            },
            "type": "barpolar"
           }
          ],
          "carpet": [
           {
            "aaxis": {
             "endlinecolor": "#2a3f5f",
             "gridcolor": "white",
             "linecolor": "white",
             "minorgridcolor": "white",
             "startlinecolor": "#2a3f5f"
            },
            "baxis": {
             "endlinecolor": "#2a3f5f",
             "gridcolor": "white",
             "linecolor": "white",
             "minorgridcolor": "white",
             "startlinecolor": "#2a3f5f"
            },
            "type": "carpet"
           }
          ],
          "choropleth": [
           {
            "colorbar": {
             "outlinewidth": 0,
             "ticks": ""
            },
            "type": "choropleth"
           }
          ],
          "contour": [
           {
            "colorbar": {
             "outlinewidth": 0,
             "ticks": ""
            },
            "colorscale": [
             [
              0,
              "#0d0887"
             ],
             [
              0.1111111111111111,
              "#46039f"
             ],
             [
              0.2222222222222222,
              "#7201a8"
             ],
             [
              0.3333333333333333,
              "#9c179e"
             ],
             [
              0.4444444444444444,
              "#bd3786"
             ],
             [
              0.5555555555555556,
              "#d8576b"
             ],
             [
              0.6666666666666666,
              "#ed7953"
             ],
             [
              0.7777777777777778,
              "#fb9f3a"
             ],
             [
              0.8888888888888888,
              "#fdca26"
             ],
             [
              1,
              "#f0f921"
             ]
            ],
            "type": "contour"
           }
          ],
          "contourcarpet": [
           {
            "colorbar": {
             "outlinewidth": 0,
             "ticks": ""
            },
            "type": "contourcarpet"
           }
          ],
          "heatmap": [
           {
            "colorbar": {
             "outlinewidth": 0,
             "ticks": ""
            },
            "colorscale": [
             [
              0,
              "#0d0887"
             ],
             [
              0.1111111111111111,
              "#46039f"
             ],
             [
              0.2222222222222222,
              "#7201a8"
             ],
             [
              0.3333333333333333,
              "#9c179e"
             ],
             [
              0.4444444444444444,
              "#bd3786"
             ],
             [
              0.5555555555555556,
              "#d8576b"
             ],
             [
              0.6666666666666666,
              "#ed7953"
             ],
             [
              0.7777777777777778,
              "#fb9f3a"
             ],
             [
              0.8888888888888888,
              "#fdca26"
             ],
             [
              1,
              "#f0f921"
             ]
            ],
            "type": "heatmap"
           }
          ],
          "heatmapgl": [
           {
            "colorbar": {
             "outlinewidth": 0,
             "ticks": ""
            },
            "colorscale": [
             [
              0,
              "#0d0887"
             ],
             [
              0.1111111111111111,
              "#46039f"
             ],
             [
              0.2222222222222222,
              "#7201a8"
             ],
             [
              0.3333333333333333,
              "#9c179e"
             ],
             [
              0.4444444444444444,
              "#bd3786"
             ],
             [
              0.5555555555555556,
              "#d8576b"
             ],
             [
              0.6666666666666666,
              "#ed7953"
             ],
             [
              0.7777777777777778,
              "#fb9f3a"
             ],
             [
              0.8888888888888888,
              "#fdca26"
             ],
             [
              1,
              "#f0f921"
             ]
            ],
            "type": "heatmapgl"
           }
          ],
          "histogram": [
           {
            "marker": {
             "pattern": {
              "fillmode": "overlay",
              "size": 10,
              "solidity": 0.2
             }
            },
            "type": "histogram"
           }
          ],
          "histogram2d": [
           {
            "colorbar": {
             "outlinewidth": 0,
             "ticks": ""
            },
            "colorscale": [
             [
              0,
              "#0d0887"
             ],
             [
              0.1111111111111111,
              "#46039f"
             ],
             [
              0.2222222222222222,
              "#7201a8"
             ],
             [
              0.3333333333333333,
              "#9c179e"
             ],
             [
              0.4444444444444444,
              "#bd3786"
             ],
             [
              0.5555555555555556,
              "#d8576b"
             ],
             [
              0.6666666666666666,
              "#ed7953"
             ],
             [
              0.7777777777777778,
              "#fb9f3a"
             ],
             [
              0.8888888888888888,
              "#fdca26"
             ],
             [
              1,
              "#f0f921"
             ]
            ],
            "type": "histogram2d"
           }
          ],
          "histogram2dcontour": [
           {
            "colorbar": {
             "outlinewidth": 0,
             "ticks": ""
            },
            "colorscale": [
             [
              0,
              "#0d0887"
             ],
             [
              0.1111111111111111,
              "#46039f"
             ],
             [
              0.2222222222222222,
              "#7201a8"
             ],
             [
              0.3333333333333333,
              "#9c179e"
             ],
             [
              0.4444444444444444,
              "#bd3786"
             ],
             [
              0.5555555555555556,
              "#d8576b"
             ],
             [
              0.6666666666666666,
              "#ed7953"
             ],
             [
              0.7777777777777778,
              "#fb9f3a"
             ],
             [
              0.8888888888888888,
              "#fdca26"
             ],
             [
              1,
              "#f0f921"
             ]
            ],
            "type": "histogram2dcontour"
           }
          ],
          "mesh3d": [
           {
            "colorbar": {
             "outlinewidth": 0,
             "ticks": ""
            },
            "type": "mesh3d"
           }
          ],
          "parcoords": [
           {
            "line": {
             "colorbar": {
              "outlinewidth": 0,
              "ticks": ""
             }
            },
            "type": "parcoords"
           }
          ],
          "pie": [
           {
            "automargin": true,
            "type": "pie"
           }
          ],
          "scatter": [
           {
            "fillpattern": {
             "fillmode": "overlay",
             "size": 10,
             "solidity": 0.2
            },
            "type": "scatter"
           }
          ],
          "scatter3d": [
           {
            "line": {
             "colorbar": {
              "outlinewidth": 0,
              "ticks": ""
             }
            },
            "marker": {
             "colorbar": {
              "outlinewidth": 0,
              "ticks": ""
             }
            },
            "type": "scatter3d"
           }
          ],
          "scattercarpet": [
           {
            "marker": {
             "colorbar": {
              "outlinewidth": 0,
              "ticks": ""
             }
            },
            "type": "scattercarpet"
           }
          ],
          "scattergeo": [
           {
            "marker": {
             "colorbar": {
              "outlinewidth": 0,
              "ticks": ""
             }
            },
            "type": "scattergeo"
           }
          ],
          "scattergl": [
           {
            "marker": {
             "colorbar": {
              "outlinewidth": 0,
              "ticks": ""
             }
            },
            "type": "scattergl"
           }
          ],
          "scattermapbox": [
           {
            "marker": {
             "colorbar": {
              "outlinewidth": 0,
              "ticks": ""
             }
            },
            "type": "scattermapbox"
           }
          ],
          "scatterpolar": [
           {
            "marker": {
             "colorbar": {
              "outlinewidth": 0,
              "ticks": ""
             }
            },
            "type": "scatterpolar"
           }
          ],
          "scatterpolargl": [
           {
            "marker": {
             "colorbar": {
              "outlinewidth": 0,
              "ticks": ""
             }
            },
            "type": "scatterpolargl"
           }
          ],
          "scatterternary": [
           {
            "marker": {
             "colorbar": {
              "outlinewidth": 0,
              "ticks": ""
             }
            },
            "type": "scatterternary"
           }
          ],
          "surface": [
           {
            "colorbar": {
             "outlinewidth": 0,
             "ticks": ""
            },
            "colorscale": [
             [
              0,
              "#0d0887"
             ],
             [
              0.1111111111111111,
              "#46039f"
             ],
             [
              0.2222222222222222,
              "#7201a8"
             ],
             [
              0.3333333333333333,
              "#9c179e"
             ],
             [
              0.4444444444444444,
              "#bd3786"
             ],
             [
              0.5555555555555556,
              "#d8576b"
             ],
             [
              0.6666666666666666,
              "#ed7953"
             ],
             [
              0.7777777777777778,
              "#fb9f3a"
             ],
             [
              0.8888888888888888,
              "#fdca26"
             ],
             [
              1,
              "#f0f921"
             ]
            ],
            "type": "surface"
           }
          ],
          "table": [
           {
            "cells": {
             "fill": {
              "color": "#EBF0F8"
             },
             "line": {
              "color": "white"
             }
            },
            "header": {
             "fill": {
              "color": "#C8D4E3"
             },
             "line": {
              "color": "white"
             }
            },
            "type": "table"
           }
          ]
         },
         "layout": {
          "annotationdefaults": {
           "arrowcolor": "#2a3f5f",
           "arrowhead": 0,
           "arrowwidth": 1
          },
          "autotypenumbers": "strict",
          "coloraxis": {
           "colorbar": {
            "outlinewidth": 0,
            "ticks": ""
           }
          },
          "colorscale": {
           "diverging": [
            [
             0,
             "#8e0152"
            ],
            [
             0.1,
             "#c51b7d"
            ],
            [
             0.2,
             "#de77ae"
            ],
            [
             0.3,
             "#f1b6da"
            ],
            [
             0.4,
             "#fde0ef"
            ],
            [
             0.5,
             "#f7f7f7"
            ],
            [
             0.6,
             "#e6f5d0"
            ],
            [
             0.7,
             "#b8e186"
            ],
            [
             0.8,
             "#7fbc41"
            ],
            [
             0.9,
             "#4d9221"
            ],
            [
             1,
             "#276419"
            ]
           ],
           "sequential": [
            [
             0,
             "#0d0887"
            ],
            [
             0.1111111111111111,
             "#46039f"
            ],
            [
             0.2222222222222222,
             "#7201a8"
            ],
            [
             0.3333333333333333,
             "#9c179e"
            ],
            [
             0.4444444444444444,
             "#bd3786"
            ],
            [
             0.5555555555555556,
             "#d8576b"
            ],
            [
             0.6666666666666666,
             "#ed7953"
            ],
            [
             0.7777777777777778,
             "#fb9f3a"
            ],
            [
             0.8888888888888888,
             "#fdca26"
            ],
            [
             1,
             "#f0f921"
            ]
           ],
           "sequentialminus": [
            [
             0,
             "#0d0887"
            ],
            [
             0.1111111111111111,
             "#46039f"
            ],
            [
             0.2222222222222222,
             "#7201a8"
            ],
            [
             0.3333333333333333,
             "#9c179e"
            ],
            [
             0.4444444444444444,
             "#bd3786"
            ],
            [
             0.5555555555555556,
             "#d8576b"
            ],
            [
             0.6666666666666666,
             "#ed7953"
            ],
            [
             0.7777777777777778,
             "#fb9f3a"
            ],
            [
             0.8888888888888888,
             "#fdca26"
            ],
            [
             1,
             "#f0f921"
            ]
           ]
          },
          "colorway": [
           "#636efa",
           "#EF553B",
           "#00cc96",
           "#ab63fa",
           "#FFA15A",
           "#19d3f3",
           "#FF6692",
           "#B6E880",
           "#FF97FF",
           "#FECB52"
          ],
          "font": {
           "color": "#2a3f5f"
          },
          "geo": {
           "bgcolor": "white",
           "lakecolor": "white",
           "landcolor": "#E5ECF6",
           "showlakes": true,
           "showland": true,
           "subunitcolor": "white"
          },
          "hoverlabel": {
           "align": "left"
          },
          "hovermode": "closest",
          "mapbox": {
           "style": "light"
          },
          "paper_bgcolor": "white",
          "plot_bgcolor": "#E5ECF6",
          "polar": {
           "angularaxis": {
            "gridcolor": "white",
            "linecolor": "white",
            "ticks": ""
           },
           "bgcolor": "#E5ECF6",
           "radialaxis": {
            "gridcolor": "white",
            "linecolor": "white",
            "ticks": ""
           }
          },
          "scene": {
           "xaxis": {
            "backgroundcolor": "#E5ECF6",
            "gridcolor": "white",
            "gridwidth": 2,
            "linecolor": "white",
            "showbackground": true,
            "ticks": "",
            "zerolinecolor": "white"
           },
           "yaxis": {
            "backgroundcolor": "#E5ECF6",
            "gridcolor": "white",
            "gridwidth": 2,
            "linecolor": "white",
            "showbackground": true,
            "ticks": "",
            "zerolinecolor": "white"
           },
           "zaxis": {
            "backgroundcolor": "#E5ECF6",
            "gridcolor": "white",
            "gridwidth": 2,
            "linecolor": "white",
            "showbackground": true,
            "ticks": "",
            "zerolinecolor": "white"
           }
          },
          "shapedefaults": {
           "line": {
            "color": "#2a3f5f"
           }
          },
          "ternary": {
           "aaxis": {
            "gridcolor": "white",
            "linecolor": "white",
            "ticks": ""
           },
           "baxis": {
            "gridcolor": "white",
            "linecolor": "white",
            "ticks": ""
           },
           "bgcolor": "#E5ECF6",
           "caxis": {
            "gridcolor": "white",
            "linecolor": "white",
            "ticks": ""
           }
          },
          "title": {
           "x": 0.05
          },
          "xaxis": {
           "automargin": true,
           "gridcolor": "white",
           "linecolor": "white",
           "ticks": "",
           "title": {
            "standoff": 15
           },
           "zerolinecolor": "white",
           "zerolinewidth": 2
          },
          "yaxis": {
           "automargin": true,
           "gridcolor": "white",
           "linecolor": "white",
           "ticks": "",
           "title": {
            "standoff": 15
           },
           "zerolinecolor": "white",
           "zerolinewidth": 2
          }
         }
        },
        "title": {
         "text": "IBM stock price"
        },
        "xaxis": {
         "anchor": "y",
         "domain": [
          0,
          1
         ],
         "title": {
          "text": "date"
         }
        },
        "yaxis": {
         "anchor": "x",
         "domain": [
          0,
          1
         ],
         "title": {
          "text": "Price (USD)"
         }
        }
       }
      }
     },
     "metadata": {},
     "output_type": "display_data"
    }
   ],
   "source": [
    "from random import randint\n",
    "from copy import deepcopy\n",
    "\n",
    "\n",
    "def random_color():\n",
    "    return f\"#{randint(0, 0xFFFFFF):06x}\"\n",
    "\n",
    "\n",
    "annotated_graph = deepcopy(graph)\n",
    "\n",
    "for idx, review_item in enumerate(review_items):\n",
    "    annotated_graph.add_vrect(\n",
    "        x0=review_item[\"start_date\"],\n",
    "        x1=review_item[\"end_date\"],\n",
    "        fillcolor=random_color(),\n",
    "        opacity=0.5,\n",
    "        layer=\"below\",\n",
    "        line_width=0,\n",
    "        annotation_text=idx + 1,\n",
    "    )\n",
    "\n",
    "    print(f'{idx + 1}: {review_item[\"notes\"]}')\n",
    "\n",
    "annotated_graph.show()"
   ]
  },
  {
   "cell_type": "code",
   "execution_count": 57,
   "metadata": {},
   "outputs": [
    {
     "name": "stdout",
     "output_type": "stream",
     "text": [
      "Have 397 news items in the range 2023-07-01 - 2023-11-01\n"
     ]
    },
    {
     "data": {
      "text/plain": [
       "[NewsLink(title='IBM Stock Inches Higher On Q3 Earnings: The Details - IBM  ( NYSE:IBM ) ', url='https://www.benzinga.com/news/earnings/23/10/35425759/ibm-stock-inches-higher-on-q3-earnings-the-details', summary=\"International Business Machines Corp IBM reported third-quarter financial results after the bell. Here's a look at the key highlights from the quarter. Q3 Earnings: IBM said third-quarter revenue increased 4.6% year-over-year to $14.8 billion, versus the consensus estimate of $14.728 billion, ...\", overall_sentiment_score=0.280396, ticker_sentiment=[TickerSentiment(ticker='IBM', relevance_score=0.876064, ticker_sentiment_score=0.372697)]),\n",
       " NewsLink(title='IBM Considers Using In-House AI Chips to Reduce Cloud Service Costs - IBM  ( NYSE:IBM ) ', url='https://www.benzinga.com/news/23/07/33197115/ibm-considers-using-in-house-ai-chips-to-reduce-cloud-service-costs', summary='International Business Machines Corp IBM is weighing the use of artificial intelligence chips designed in-house to lower the costs of operating a cloud computing service it made available this week.', overall_sentiment_score=0.075997, ticker_sentiment=[TickerSentiment(ticker='SSNLF', relevance_score=0.259727, ticker_sentiment_score=0.0), TickerSentiment(ticker='IBM', relevance_score=0.864226, ticker_sentiment_score=0.164198), TickerSentiment(ticker='NVDA', relevance_score=0.259727, ticker_sentiment_score=0.0)]),\n",
       " NewsLink(title='IBM Extends Partnership With Microsoft To Accelerate Generative AI Deployment - IBM  ( NYSE:IBM ) ', url='https://www.benzinga.com/markets/equities/23/08/33894634/ibm-extends-partnership-with-microsoft-to-accelerate-generative-ai-deployment', summary='International Business Machines Corp IBM disclosed partnership expansion with Microsoft Corp MSFT to aid clients in accelerating the deployment of generative AI. The companies jointly plan to offer clients the expertise and technology to innovate their business processes and expand generative AI ...', overall_sentiment_score=0.330693, ticker_sentiment=[TickerSentiment(ticker='MSFT', relevance_score=0.540042, ticker_sentiment_score=0.508194), TickerSentiment(ticker='IBM', relevance_score=0.860547, ticker_sentiment_score=0.533446)]),\n",
       " NewsLink(title=\"IBM's Portfolio Makeover - Divests Weather Company Assets To Francisco Partners - IBM  ( NYSE:IBM ) \", url='https://www.benzinga.com/markets/equities/23/08/34001471/ibms-portfolio-makeover-divests-weather-company-assets-to-francisco-partners', summary='International Business Machines Corporation IBM inked a pact on Tuesday to sell The Weather Company assets to Francisco Partners, a leading global investment firm. Specific terms of the transaction were not disclosed. The Weather Company is the parent of Weather.com, Weather Underground, and ...', overall_sentiment_score=0.092215, ticker_sentiment=[TickerSentiment(ticker='IBM', relevance_score=0.850133, ticker_sentiment_score=0.180423)]),\n",
       " NewsLink(title='International Business Machines  ( NYSE:IBM )  Downgraded by StockNews.com to \"Hold\"', url='https://www.defenseworld.net/2023/08/26/international-business-machines-nyseibm-downgraded-by-stocknews-com-to-hold.html', summary='International Business Machines ( NYSE:IBM ) Downgraded by ... Defense World ...', overall_sentiment_score=0.142367, ticker_sentiment=[TickerSentiment(ticker='BAC', relevance_score=0.053992, ticker_sentiment_score=0.010943), TickerSentiment(ticker='IBM', relevance_score=0.845009, ticker_sentiment_score=0.255576), TickerSentiment(ticker='JPM', relevance_score=0.053992, ticker_sentiment_score=0.010943), TickerSentiment(ticker='MS', relevance_score=0.053992, ticker_sentiment_score=0.010943)])]"
      ]
     },
     "execution_count": 57,
     "metadata": {},
     "output_type": "execute_result"
    }
   ],
   "source": [
    "from dataclasses import asdict\n",
    "\n",
    "first_annotation = review_items[0]\n",
    "\n",
    "related_news = alpha_vantage.fetch_relevant_news(\n",
    "    ticker, first_annotation[\"start_date\"], first_annotation[\"end_date\"]\n",
    ")\n",
    "\n",
    "print(\n",
    "    f'Have {len(related_news)} news items in the range {first_annotation[\"start_date\"]} - {first_annotation[\"end_date\"]}'\n",
    ")\n",
    "related_news[:5]"
   ]
  },
  {
   "cell_type": "code",
   "execution_count": 58,
   "metadata": {},
   "outputs": [
    {
     "name": "stdout",
     "output_type": "stream",
     "text": [
      "Downloading: https://www.benzinga.com/news/earnings/23/10/35425759/ibm-stock-inches-higher-on-q3-earnings-the-details\n",
      "Extracting: https://www.benzinga.com/news/earnings/23/10/35425759/ibm-stock-inches-higher-on-q3-earnings-the-details\n",
      "Downloading: https://www.benzinga.com/news/23/07/33197115/ibm-considers-using-in-house-ai-chips-to-reduce-cloud-service-costs\n",
      "Extracting: https://www.benzinga.com/news/23/07/33197115/ibm-considers-using-in-house-ai-chips-to-reduce-cloud-service-costs\n",
      "Downloading: https://www.benzinga.com/markets/equities/23/08/33894634/ibm-extends-partnership-with-microsoft-to-accelerate-generative-ai-deployment\n",
      "Extracting: https://www.benzinga.com/markets/equities/23/08/33894634/ibm-extends-partnership-with-microsoft-to-accelerate-generative-ai-deployment\n",
      "Downloading: https://www.benzinga.com/markets/equities/23/08/34001471/ibms-portfolio-makeover-divests-weather-company-assets-to-francisco-partners\n",
      "Extracting: https://www.benzinga.com/markets/equities/23/08/34001471/ibms-portfolio-makeover-divests-weather-company-assets-to-francisco-partners\n",
      "Downloading: https://www.defenseworld.net/2023/08/26/international-business-machines-nyseibm-downgraded-by-stocknews-com-to-hold.html\n",
      "Downloading: https://www.defenseworld.net/2023/09/20/international-business-machines-nyseibm-downgraded-to-hold-at-stocknews-com.html\n",
      "Downloading: https://www.defenseworld.net/2023/10/01/international-business-machines-nyseibm-rating-increased-to-buy-at-stocknews-com.html\n",
      "Downloading: https://www.marketwatch.com/story/ibms-stock-jumps-as-rbc-sets-new-wall-street-high-target-at-a-9-year-high-2c7498b\n",
      "Downloading: https://www.defenseworld.net/2023/10/15/international-business-machines-nyseibm-rating-lowered-to-hold-at-stocknews-com.html\n",
      "Downloading: https://www.fool.com/investing/2023/08/23/ibm-dumps-weather-business-as-transformation-conti/\n",
      "Extracting: https://www.fool.com/investing/2023/08/23/ibm-dumps-weather-business-as-transformation-conti/\n",
      "Downloading: https://www.defenseworld.net/2023/07/19/international-business-machines-nyseibm-upgraded-by-stocknews-com-to-buy.html\n",
      "Downloading: https://www.marketwatch.com/story/ibms-stock-rises-after-earnings-beat-company-says-ai-adoption-is-growing-807064a7\n",
      "Downloading: https://www.defenseworld.net/2023/09/07/international-business-machines-nyseibm-upgraded-by-stocknews-com-to-buy.html\n",
      "Downloading: https://www.benzinga.com/analyst-ratings/analyst-color/23/07/33309756/ibms-double-digit-growth-in-tp-and-data-ai-not-sustainable-predicts-analyst\n",
      "Extracting: https://www.benzinga.com/analyst-ratings/analyst-color/23/07/33309756/ibms-double-digit-growth-in-tp-and-data-ai-not-sustainable-predicts-analyst\n",
      "Downloading: https://www.claytoncountyregister.com/news2/international-business-machines-nyseibm-raised-to-buy-at-stocknews-com/518898/\n",
      "Failed to download: https://www.claytoncountyregister.com/news2/international-business-machines-nyseibm-raised-to-buy-at-stocknews-com/518898/\n",
      "Downloading: https://www.kiplinger.com/invested-1000-in-IBM-stock-worth-how-much-now\n",
      "Extracting: https://www.kiplinger.com/invested-1000-in-IBM-stock-worth-how-much-now\n",
      "Downloading: https://www.barrons.com/articles/ibm-stock-ai-consulting-watson-f66a4555\n",
      "Downloading: https://www.benzinga.com/analyst-ratings/analyst-color/23/10/35446754/ibm-had-a-strong-q3-but-some-analysts-have-lowered-estimates-on-the-stock-heres-why\n",
      "Extracting: https://www.benzinga.com/analyst-ratings/analyst-color/23/10/35446754/ibm-had-a-strong-q3-but-some-analysts-have-lowered-estimates-on-the-stock-heres-why\n",
      "Downloading: https://www.fool.com/investing/2023/07/12/this-dividend-stock-yielding-5-is-a-screaming-buy/\n",
      "Extracting: https://www.fool.com/investing/2023/07/12/this-dividend-stock-yielding-5-is-a-screaming-buy/\n",
      "Downloading: https://www.fool.com/investing/2023/09/25/could-ibm-stock-soar-30/\n",
      "Extracting: https://www.fool.com/investing/2023/09/25/could-ibm-stock-soar-30/\n",
      "Downloading: https://www.barrons.com/articles/stock-market-movers-a6f31422\n",
      "Downloading: https://www.fool.com/investing/2023/08/26/this-dividend-stock-safe-bet-regardless-conditions/\n",
      "Extracting: https://www.fool.com/investing/2023/08/26/this-dividend-stock-safe-bet-regardless-conditions/\n",
      "Downloading: https://www.zacks.com/stock/news/2122143/can-healthy-consulting-revenues-benefit-ibms-q2-earnings\n",
      "Downloading: https://www.benzinga.com/trading-ideas/long-ideas/23/09/34939036/ibm-utilities-and-this-treasury-etf-cnbcs-final-trades\n",
      "Extracting: https://www.benzinga.com/trading-ideas/long-ideas/23/09/34939036/ibm-utilities-and-this-treasury-etf-cnbcs-final-trades\n",
      "Downloading: https://www.marketwatch.com/story/ibm-earnings-feature-double-digit-growth-from-ai-red-hat-software-1224d600\n",
      "Downloading: https://www.reuters.com/markets/deals/ibm-sells-weather-business-private-equity-firm-francisco-partners-2023-08-22/\n",
      "Downloading: https://www.benzinga.com/analyst-ratings/analyst-color/23/10/35400217/ibm-q3-preview-analyst-sees-margin-challenges-despite-steady-software-demand\n",
      "Extracting: https://www.benzinga.com/analyst-ratings/analyst-color/23/10/35400217/ibm-q3-preview-analyst-sees-margin-challenges-despite-steady-software-demand\n",
      "Downloading: https://www.fool.com/investing/2023/07/25/is-it-time-to-buy-ibm-stock-after-a-solid-earnings/\n",
      "Extracting: https://www.fool.com/investing/2023/07/25/is-it-time-to-buy-ibm-stock-after-a-solid-earnings/\n",
      "Downloading: https://www.zacks.com/stock/news/2170065/can-solid-consulting-revenues-benefit-ibms-q3-earnings\n",
      "Downloading: https://www.zacks.com/stock/news/2168169/will-healthy-top-line-improvement-buoy-ibms-q3-earnings\n",
      "Downloading: https://www.zacks.com/stock/news/2121497/will-marginally-higher-revenues-buoy-ibms-q2-earnings\n",
      "Downloading: https://www.marketwatch.com/story/ibm-has-been-talking-up-ai-but-heres-what-investors-should-really-focus-on-in-earnings-abc904ec\n",
      "Downloading: https://www.zacks.com/stock/news/2170067/will-software-revenue-improvement-buoy-ibms-q3-earnings\n",
      "Downloading: https://www.fool.com/investing/2023/07/20/why-ibm-stock-popped-after-earnings/\n",
      "Extracting: https://www.fool.com/investing/2023/07/20/why-ibm-stock-popped-after-earnings/\n",
      "Downloading: https://www.zacks.com/stock/news/2173662/company-news-for-oct-27-2023\n",
      "Downloading: https://www.fool.com/investing/2023/10/09/this-iconic-artificial-intelligence-ai-stock-is-hi/\n",
      "Extracting: https://www.fool.com/investing/2023/10/09/this-iconic-artificial-intelligence-ai-stock-is-hi/\n",
      "Downloading: https://www.zacks.com/stock/news/2122144/will-higher-software-revenues-aid-ibms-earnings-in-q2\n",
      "Downloading: https://www.cnbc.com/2023/08/17/this-tech-names-consulting-business-could-get-a-huge-boost-from-ai.html\n",
      "Extracting: https://www.cnbc.com/2023/08/17/this-tech-names-consulting-business-could-get-a-huge-boost-from-ai.html\n",
      "Downloading: https://www.zacks.com/stock/news/2125314/company-news-for-jul-21-2023\n",
      "Downloading: https://www.benzinga.com/23/10/35036959/accentures-earnings-beat-gets-overshadowed-by-pressured-it-spending\n",
      "Extracting: https://www.benzinga.com/23/10/35036959/accentures-earnings-beat-gets-overshadowed-by-pressured-it-spending\n",
      "Downloading: https://www.benzinga.com/news/23/08/33978453/ais-forefront-impact-on-white-collar-jobs-ibms-arvind-krishna\n",
      "Extracting: https://www.benzinga.com/news/23/08/33978453/ais-forefront-impact-on-white-collar-jobs-ibms-arvind-krishna\n",
      "Downloading: https://www.zacks.com/stock/news/2143421/ibm-collaborates-with-salesforce-to-accelerate-ai-adoption\n",
      "Downloading: https://stocknews.com/news/ibm-scgpy-gct-ntct-are-tech-investors-chasing-international-business-machines-ibm/\n",
      "Extracting: https://stocknews.com/news/ibm-scgpy-gct-ntct-are-tech-investors-chasing-international-business-machines-ibm/\n",
      "Downloading: https://www.fool.com/investing/2023/07/24/is-ibm-an-excellent-dividend-stock-to-buy/\n",
      "Extracting: https://www.fool.com/investing/2023/07/24/is-ibm-an-excellent-dividend-stock-to-buy/\n",
      "Downloading: https://www.fool.com/investing/2023/10/26/why-ibm-stock-is-gaining-today/\n",
      "Extracting: https://www.fool.com/investing/2023/10/26/why-ibm-stock-is-gaining-today/\n",
      "Downloading: https://www.wsj.com/articles/management-ai-job-postings-companies-c00452d3\n",
      "Downloading: https://www.fool.com/investing/2023/10/27/ibm-keeps-growing-on-software-and-consulting-stren/\n",
      "Extracting: https://www.fool.com/investing/2023/10/27/ibm-keeps-growing-on-software-and-consulting-stren/\n",
      "Downloading: https://www.fool.com/investing/2023/10/28/ibms-new-generative-artificial-intelligence-ai-too/\n",
      "Extracting: https://www.fool.com/investing/2023/10/28/ibms-new-generative-artificial-intelligence-ai-too/\n",
      "Downloading: https://www.fool.com/investing/2023/10/05/2-tech-stocks-that-can-thrive-in-a-recession/\n",
      "Extracting: https://www.fool.com/investing/2023/10/05/2-tech-stocks-that-can-thrive-in-a-recession/\n",
      "Downloading: https://stockmarket.com/featured/2-top-dividend-stocks-to-watch-right-now-2023-10-11\n",
      "Extracting: https://stockmarket.com/featured/2-top-dividend-stocks-to-watch-right-now-2023-10-11\n",
      "Downloading: https://stockmarket.com/featured/best-stocks-to-invest-in-right-now-3-high-dividend-stocks-to-watch-2023-09-28\n",
      "Extracting: https://stockmarket.com/featured/best-stocks-to-invest-in-right-now-3-high-dividend-stocks-to-watch-2023-09-28\n",
      "Downloading: https://stockmarket.com/featured/best-cheap-stocks-to-buy-now-2-quantum-computing-stocks-to-know-2023-07-27\n",
      "Extracting: https://stockmarket.com/featured/best-cheap-stocks-to-buy-now-2-quantum-computing-stocks-to-know-2023-07-27\n",
      "Downloading: https://www.zacks.com/stock/news/2124861/ibm-beats-on-q2-earnings-etfs-in-focus\n",
      "Downloading: https://www.zacks.com/stock/news/2116978/why-ibm-ibm-is-a-top-momentum-stock-for-the-long-term\n",
      "Downloading: https://www.zacks.com/stock/news/2172962/etfs-in-focus-post-ibms-q3-earnings-beat\n",
      "Downloading: https://www.business-standard.com/world-news/ibm-throws-weight-behind-japanese-chip-startup-it-sees-as-crucial-123070300090_1.html\n",
      "Downloading: https://www.fool.com/investing/2023/08/01/2-cheap-tech-stocks-to-buy-hand-over-fist/\n",
      "Extracting: https://www.fool.com/investing/2023/08/01/2-cheap-tech-stocks-to-buy-hand-over-fist/\n",
      "Downloading: https://www.fool.com/investing/2023/07/05/5-dow-stocks-high-yield-best-buy-sell/\n",
      "Extracting: https://www.fool.com/investing/2023/07/05/5-dow-stocks-high-yield-best-buy-sell/\n",
      "Downloading: https://www.zacks.com/stock/news/2143077/ibm-fujifilm-team-up-to-develop-50tb-native-tape-storage\n",
      "Downloading: https://www.zacks.com/stock/news/2146012/ibm-enhances-data-security-across-multi-cloud-environments\n",
      "Downloading: https://www.fool.com/investing/2023/09/07/3-unstoppable-artificial-intelligence-ai-stocks-to/\n",
      "Extracting: https://www.fool.com/investing/2023/09/07/3-unstoppable-artificial-intelligence-ai-stocks-to/\n",
      "Downloading: https://www.benzinga.com/news/23/08/33755088/amazon-cracks-down-on-remote-work-us-employees-reminded-of-return-to-office-rules\n",
      "Extracting: https://www.benzinga.com/news/23/08/33755088/amazon-cracks-down-on-remote-work-us-employees-reminded-of-return-to-office-rules\n",
      "Downloading: https://www.fool.com/investing/2023/08/23/2-bargain-artificial-intelligence-stocks-to-buy-no/\n",
      "Extracting: https://www.fool.com/investing/2023/08/23/2-bargain-artificial-intelligence-stocks-to-buy-no/\n",
      "Downloading: https://www.fool.com/investing/2023/07/31/10-spectacular-dividend-stocks-to-buy-in-august/\n",
      "Extracting: https://www.fool.com/investing/2023/07/31/10-spectacular-dividend-stocks-to-buy-in-august/\n",
      "Downloading: https://www.fool.com/investing/2023/07/07/3-high-yield-tech-stocks-to-buy-in-july/\n",
      "Extracting: https://www.fool.com/investing/2023/07/07/3-high-yield-tech-stocks-to-buy-in-july/\n",
      "Downloading: https://www.zacks.com/stock/news/2155234/berkshire-hathaway-brkb-continues-to-offload-hp-hpq-shares\n",
      "Downloading: https://www.zacks.com/stock/news/2152641/ibms-solution-streamlines-fda-regulation-for-enterprises\n",
      "Downloading: https://www.zacks.com/stock/news/2148971/ibm-boosts-espn-fantasy-football-experience-with-watsonxai\n",
      "Downloading: https://stocknews.com/news/ibm-cgemy-sanm-2-tech-stocks-to-consider-for-your-october-portfolio-1/\n",
      "Extracting: https://stocknews.com/news/ibm-cgemy-sanm-2-tech-stocks-to-consider-for-your-october-portfolio-1/\n",
      "Downloading: https://www.zacks.com/stock/news/2141797/ibm-unveils-enterprise-focused-advanced-ai-platform-watsonx\n",
      "Downloading: https://www.zacks.com/stock/news/2139530/ibm-sells-weather-assets-to-francisco-partners-for-core-focus\n",
      "Downloading: https://www.marketwatch.com/story/kyndryls-stock-rallies-more-than-15-after-ibm-spinoff-forecasts-pretax-profit-this-year-ec814de2\n",
      "Downloading: https://www.investors.com/news/seagate-technology-clears-technical-benchmark-hitting-80-plus-rs-rating/\n",
      "Downloading: https://www.benzinga.com/news/23/08/34042661/nvidia-backed-open-source-ai-startup-reaches-4-5b-valuation-with-tech-titans-support\n",
      "Extracting: https://www.benzinga.com/news/23/08/34042661/nvidia-backed-open-source-ai-startup-reaches-4-5b-valuation-with-tech-titans-support\n"
     ]
    },
    {
     "data": {
      "text/plain": [
       "[(NewsLink(title='IBM Stock Inches Higher On Q3 Earnings: The Details - IBM  ( NYSE:IBM ) ', url='https://www.benzinga.com/news/earnings/23/10/35425759/ibm-stock-inches-higher-on-q3-earnings-the-details', summary=\"International Business Machines Corp IBM reported third-quarter financial results after the bell. Here's a look at the key highlights from the quarter. Q3 Earnings: IBM said third-quarter revenue increased 4.6% year-over-year to $14.8 billion, versus the consensus estimate of $14.728 billion, ...\", overall_sentiment_score=0.280396, ticker_sentiment=[TickerSentiment(ticker='IBM', relevance_score=0.876064, ticker_sentiment_score=0.372697)]),\n",
       "  'International Business Machines Corp IBM reported third-quarter financial results after the bell. Here\\'s a look at the key highlights from the quarter.\\nQ3 Earnings: IBM said third-quarter revenue increased 4.6% year-over-year to $14.8 billion, versus the consensus estimate of $14.728 billion, according to Benzinga Pro.\\nThe company reported quarterly adjusted earnings of $2.20 per share versus estimates of $2.13 per share.\\nSoftware revenue was up 8% year-over-year and consulting revenue was up 6%, while infrastructure revenue decreased 2%.\\nCash flow from operations totaled $3.1 billion in the third quarter. Free cash flow came in at $1.7 billion. IBM ended the quarter with $11 billion in cash and marketable securities.\\n\"Clients are increasingly adopting our watsonx AI and data platform along with our hybrid cloud solutions to unlock productivity and operational efficiency,\" said Arvind Krishna, chairman and CEO of IBM.\\n\"This is helping drive solid growth in our software and consulting businesses. As a result, we remain confident in our revenue and free cash flow growth expectations for the full year.\"\\nOutlook: IBM continues to expect constant currency revenue growth of 3% to 5% for the full-year 2023. The company anticipates a full-year free cash flow of approximately $10.5 billion.\\nManagement will hold a conference call to discuss these results at 5 p.m. ET.\\nDon\\'t Miss This: Amazon Q3 Earnings Preview: What Analysts Are Saying, NFL, NBA, AI, Other Key Items To Watch\\nIBM Price Action: IBM shares were up 1.90% after hours at $139.69 at the time of publication, according to Benzinga Pro.\\nPhoto: courtesy of IBM.\\n© 2024 Benzinga.com. Benzinga does not provide investment advice. All rights reserved.\\nComments\\nDate | ticker | name | Actual EPS | EPS Surprise | Actual Rev | Rev Surprise |\\n---|\\nTrade confidently with insights and alerts from analyst ratings, free reports and breaking news that affects the stocks you care about.'),\n",
       " (NewsLink(title='IBM Considers Using In-House AI Chips to Reduce Cloud Service Costs - IBM  ( NYSE:IBM ) ', url='https://www.benzinga.com/news/23/07/33197115/ibm-considers-using-in-house-ai-chips-to-reduce-cloud-service-costs', summary='International Business Machines Corp IBM is weighing the use of artificial intelligence chips designed in-house to lower the costs of operating a cloud computing service it made available this week.', overall_sentiment_score=0.075997, ticker_sentiment=[TickerSentiment(ticker='SSNLF', relevance_score=0.259727, ticker_sentiment_score=0.0), TickerSentiment(ticker='IBM', relevance_score=0.864226, ticker_sentiment_score=0.164198), TickerSentiment(ticker='NVDA', relevance_score=0.259727, ticker_sentiment_score=0.0)]),\n",
       "  'International Business Machines Corp IBM is weighing the use of artificial intelligence chips designed in-house to lower the costs of operating a cloud computing service it made available this week.\\nMukesh Khare, general manager of IBM Semiconductors, said the company is contemplating using a chip called the Artificial Intelligence Unit as part of its new \"Watsonx\" cloud service, Reuters cites an interview at a semiconductor conference in San Francisco.\\nAlso Read: IBM Is A Leader In AI: Credit Suisse Analyst Praises Revenue Guidance, M&A Focus\\nIBM is looking to tap the generative AI technologies boom more than a decade after Watson, its first major AI system, failed to gain market traction.\\nKhare said using its chips could lower cloud service costs because they are power efficient.\\nIn October, IBM announced the chip\\'s existence without divulging further.\\nKhare said its partner in semiconductor research, Samsung Electronics Co, Ltd SSNLF, manufactured the chip, and IBM is considering using it in Watsonx.\\nKhare said the company has several thousand prototype chips already working.\\nIBM was not trying to design a direct replacement for semiconductors from Nvidia Corp NVDA, Khare added.\\nInstead, IBM\\'s chip aims to be cost-efficient at what AI industry insiders call inference, which is putting an already trained AI system to use to make real-world decisions.\\nIBM also looks to replace nearly 8,000 jobs with AI over the next few years, beginning with back-office functions, specifically in the human resources (HR) sector.\\nPrice Action: IBM shares traded higher by 0.30% at $134.85 premarket on the last check Wednesday.\\n© 2024 Benzinga.com. Benzinga does not provide investment advice. All rights reserved.\\nComments\\nTrade confidently with insights and alerts from analyst ratings, free reports and breaking news that affects the stocks you care about.'),\n",
       " (NewsLink(title='IBM Extends Partnership With Microsoft To Accelerate Generative AI Deployment - IBM  ( NYSE:IBM ) ', url='https://www.benzinga.com/markets/equities/23/08/33894634/ibm-extends-partnership-with-microsoft-to-accelerate-generative-ai-deployment', summary='International Business Machines Corp IBM disclosed partnership expansion with Microsoft Corp MSFT to aid clients in accelerating the deployment of generative AI. The companies jointly plan to offer clients the expertise and technology to innovate their business processes and expand generative AI ...', overall_sentiment_score=0.330693, ticker_sentiment=[TickerSentiment(ticker='MSFT', relevance_score=0.540042, ticker_sentiment_score=0.508194), TickerSentiment(ticker='IBM', relevance_score=0.860547, ticker_sentiment_score=0.533446)]),\n",
       "  'International Business Machines Corp IBM disclosed partnership expansion with Microsoft Corp MSFT to aid clients in accelerating the deployment of generative AI.\\nThe companies jointly plan to offer clients the expertise and technology to innovate their business processes and expand generative AI effectively.\\nAlong with the new offering, IBM and Microsoft have been deploying IBM Consulting skills and Azure OpenAI Service to develop potential solutions and address specific use cases.\\nThe cases include procurement and source to pay, summarization and content generation, streamlining healthcare processes, and enterprise search and knowledge base.\\nAs part of the new solution, enterprise clients can also access IBM Consulting experts, which includes 21,000 data, AI, and experienced consultants, who can aid in the efficient execution of generative AI models to boost business transformation.\\n\"Businesses are looking for responsible ways to adopt and integrate multi-model generative AI solutions that augment the work their teams are doing in areas such as creative content and code creation, content summarization and search. Our work with Microsoft is another example of IBM\\'s open ecosystem model designed to bring value to clients while helping them responsibly build and scale generative AI across their businesses,\" said Francesco Brenna, Global VP & Senior Partner, Microsoft Practice at IBM Consulting.\\nLast week, IBM completed its acquisition of Apptio Inc., which is expected to drive significant synergy across key growth areas, such as automation, Red Hat, IBM Consulting, and IBM\\'s broader AI portfolio.\\nLast month, IBM issued earnings of $2.18 per share, ahead of the $2.01 Street estimate, on revenues of $15.47 billion, which missed the $15.57 billion consensus estimate.\\nPrice Action: IBM shares are trading higher by 1.16% at $142.27 on the last check Thursday.\\n© 2024 Benzinga.com. Benzinga does not provide investment advice. All rights reserved.\\nComments\\nTrade confidently with insights and alerts from analyst ratings, free reports and breaking news that affects the stocks you care about.'),\n",
       " (NewsLink(title=\"IBM's Portfolio Makeover - Divests Weather Company Assets To Francisco Partners - IBM  ( NYSE:IBM ) \", url='https://www.benzinga.com/markets/equities/23/08/34001471/ibms-portfolio-makeover-divests-weather-company-assets-to-francisco-partners', summary='International Business Machines Corporation IBM inked a pact on Tuesday to sell The Weather Company assets to Francisco Partners, a leading global investment firm. Specific terms of the transaction were not disclosed. The Weather Company is the parent of Weather.com, Weather Underground, and ...', overall_sentiment_score=0.092215, ticker_sentiment=[TickerSentiment(ticker='IBM', relevance_score=0.850133, ticker_sentiment_score=0.180423)]),\n",
       "  'International Business Machines Corporation IBM inked a pact on Tuesday to sell The Weather Company assets to Francisco Partners, a leading global investment firm. Specific terms of the transaction were not disclosed.\\nThe Weather Company is the parent of Weather.com, Weather Underground, and Storm Radar, among others.\\nFrancisco Partners will acquire all digital consumer-facing offerings, including enterprise offerings for broadcast, media, aviation, advertising technology, and data solutions for other emerging industries.\\nIBM will keep its sustainability software business, including its Environmental Intelligence Suite (EIS).\\nAlso See: IBM\\'s Double-Digit Growth In TP And Data & AI Not Sustainable, Predicts Analyst\\n\"Over the last few years, we\\'ve evolved IBM to be a hybrid cloud and AI company. We regularly review our portfolio to make sure our business areas are core to that strategy, and today\\'s news reflects our continued focus on these two transformational technologies,\" said Rob Thomas, Senior Vice President, Software and Chief Commercial Officer, IBM.\\nThe transaction is expected to close by the end of Q1 2024.\\nAlso Read: AI\\'s Forefront Impact on White-Collar Jobs: IBM\\'s Arvind Krishna\\nPrice Action: IBM shares are trading higher by 0.55% to $142.27 on the last check Wednesday.\\n© 2024 Benzinga.com. Benzinga does not provide investment advice. All rights reserved.\\nComments\\nTrade confidently with insights and alerts from analyst ratings, free reports and breaking news that affects the stocks you care about.'),\n",
       " (NewsLink(title='IBM Dumps Weather Business as Transformation Continues', url='https://www.fool.com/investing/2023/08/23/ibm-dumps-weather-business-as-transformation-conti/', summary='IBM is doing some more streamlining as its strategy gains traction.', overall_sentiment_score=0.10773, ticker_sentiment=[TickerSentiment(ticker='IBM', relevance_score=0.801457, ticker_sentiment_score=0.17306)]),\n",
       "  \"International Business Machines (IBM 1.23%) made a multi-billion-dollar bet on data and the Internet of Things in 2016 with the acquisition of The Weather Company's business-to-business, mobile, and web properties. While IBM never disclosed the price tag, the deal was estimated at over $2 billion.\\nThe rationale for the acquisition revolved around data. The Weather Company's corporate clients used the company's data, collected from public sources as well as nearly 150,000 small weather stations, in a variety of ways. Airlines used it to minimize the impact of turbulence, and insurance companies used it as a risk assessment tool.\\nSince that deal, IBM's strategy has shifted. The company has narrowed its focus to two areas: Hybrid cloud computing and artificial intelligence. Through its software, hardware, and consulting segments, IBM helps enterprise customers increase productivity and decrease costs through its broad cloud and AI offerings.\\nThrowing in the towel\\nIBM announced on Tuesday that it had agreed to sell The Weather Company's assets to Francisco Partners. The terms of the deal weren't disclosed, which almost certainly means that IBM is taking a substantial loss. In April, The Wall Street Journal reported that IBM was exploring a sale that could fetch around $1 billion, about half what the company reportedly paid.\\nWhile the acquisition made some sense for IBM back in 2016, it included consumer-facing applications and websites. IBM is very much not a consumer-facing company. While these digital properties bring in 415 million visits each month, they just don't mesh with the rest of IBM's business. Those heavily trafficked properties likely provided little value to IBM.\\nIBM's reasoning for selling the weather business comes down to its hybrid cloud and AI strategy. The company has been investing heavily in both technologies, including the blockbuster $34 billion acquisition of Red Hat in 2019. As a stand-alone company owned by Francisco Partners, The Weather Company will get the resources and attention it needs to expand beyond forecasting and bring new functionality to users and businesses.\\nIBM's strategy is starting to work\\nWhile The Weather Company acquisition is hard to view as anything other than a mistake, IBM appears to be turning the corner after nearly a decade of transformation. The company is growing revenue against a difficult economic backdrop, and it's expanding its free cash flow generation. The company expects 3% to 5% revenue growth this year adjusted for currency, along with a $1 billion bump in free cash flow to $10.5 billion.\\nIBM is seeing a slowdown in demand for discretionary projects, but demand for larger transformational projects remains strong. In an uncertain economy, enterprise customers want projects that can deliver significant returns on investment. That's exactly what IBM's hybrid cloud platform can deliver, and the company's consulting arm is there to help guide clients to the right set of solutions.\\nWith the sale of The Weather Company, IBM is getting out of another line of business that just never worked well as part of the century-old tech giant. In early 2022, the company sold most of its Watson Health business, comprised of a series of pricey acquisitions that failed to deliver. Francisco Partners was the buyer in that case as well.\\nAs IBM sheds non-core businesses that no longer make sense as part of its hybrid cloud and AI strategy, the company frees up resources to go after its best growth opportunities. A more focused, less sprawling IBM is much more likely to succeed.\"),\n",
       " (NewsLink(title=\"IBM's Double-Digit Growth In TP And Data & AI Not Sustainable, Predicts Analyst - IBM  ( NYSE:IBM ) \", url='https://www.benzinga.com/analyst-ratings/analyst-color/23/07/33309756/ibms-double-digit-growth-in-tp-and-data-ai-not-sustainable-predicts-analyst', summary='BMO Capital Markets analyst Keith Bachman reiterated the Market Perform rating on International Business Machines Corporation IBM, raising the price target to $152 from $150.', overall_sentiment_score=0.199993, ticker_sentiment=[TickerSentiment(ticker='IBM', relevance_score=0.776097, ticker_sentiment_score=0.384459), TickerSentiment(ticker='AWON', relevance_score=0.160633, ticker_sentiment_score=0.0)]),\n",
       "  \"BMO Capital Markets analyst Keith Bachman reiterated the Market Perform rating on International Business Machines Corporation IBM, raising the price target to $152 from $150.\\nIBM reported second-quarter results recently, where earnings of $2.18 per share were ahead of the $2.01 Street estimate on revenues of $15.47 billion, which missed the $15.57 billion consensus estimate.\\nIn the software segment, the analyst thinks the upside was driven by two areas – transaction processing (TP) and Data & AI.\\nBachman had expected mid-single-digit growth in TP and low single-digit growth in Data & AI, and both generated double-digit growth of 10% to 11% y/y CC.\\nHowever, the analyst does not think the double-digit growth reported in the June quarter is sustainable. The analyst believes that IBM can sustain the low single-digit increase in TP given a captive audience.\\nBachman modestly raised FY24 Software growth expectations from 4.1% y/y to 4.7% y/y.\\nThe analyst adds that IBM generated 5% y/y consulting growth despite a weak economy.\\nThe analyst also highlights IBM's plan of building a $1 billion book of AI consulting business, though it will take time.\\nBased on the above, the analyst expects IBM's FY23 revenues to be $62.33 billion, with EPS of $9.60.\\nPrice Action: IBM shares are trading higher by 2.25% to $138.53 on the last check Thursday.\\n© 2024 Benzinga.com. Benzinga does not provide investment advice. All rights reserved.\\nComments\\ndate | ticker | name | Price Target | Upside/Downside | Recommendation | Firm |\\n---|\\nTrade confidently with insights and alerts from analyst ratings, free reports and breaking news that affects the stocks you care about.\"),\n",
       " (NewsLink(title=\"IBM Had A Strong Q3, But Some Analysts Have Lowered Estimates On The Stock - Here's Why - IBM  ( NYSE:IBM ) \", url='https://www.benzinga.com/analyst-ratings/analyst-color/23/10/35446754/ibm-had-a-strong-q3-but-some-analysts-have-lowered-estimates-on-the-stock-heres-why', summary='BMO Capital Markets analyst Keith Bachman reiterated the Market Perform rating on International Business Machines Corporation IBM, raising the price target to $155 from $152. IBM registered Q3 revenue of $14.752 billion versus estimate of $14.73 billion.', overall_sentiment_score=0.236732, ticker_sentiment=[TickerSentiment(ticker='IBM', relevance_score=0.744646, ticker_sentiment_score=0.382268)]),\n",
       "  \"BMO Capital Markets analyst Keith Bachman reiterated the Market Perform rating on International Business Machines Corporation IBM, raising the price target to $155 from $152.\\nIBM registered Q3 revenue of $14.752 billion versus estimate of $14.73 billion.\\nOn the positive side, Bachman highlights IBM's strategy, which focuses on investing in growth areas with a long-term view.\\nFCF was above the analyst's expectations, and Bachman increased confidence in IBM in reaching its $10.5 billion target for FY23.\\nAutomation growth was good at 13% y/y CC, helped by the Apptio closing, the analyst adds.\\nOverall, according to the analyst, IBM can garner mid-single-digit Software growth on an organic basis, with TPP growing 1-2% y/y on a sustainable basis.\\nOn the flip side, Red Hat decelerated below double-digits, hurt by its consumption business, though TPP growth remained solid at mid-single digits, the analyst notes.\\nBachman writes it may take a few quarters to return to double-digit growth in Red Hat.\\nThe analyst expects margin challenges to persist for IBM. In the recently reported quarter, Margins were hurt versus expectations by less FX.\\nThe analyst lowered the FY23 revenue estimate to $61.713 billion from $62.332 billion, reducing the EPS estimate to $9.48 from $9.60.\\nRBC Capital Markets analyst Matthew Swanson reiterated the Outperform rating on IBM, lowering the price target to $179 from $188.\\nMacro commentary around the consulting space sounded more positive than peers as highlighted by a >1.15 book-to-bill ratio with 32% bookings growth vs. 24% q/q, the analyst writes.\\nOverall, a good but not great quarter from software as ARR reaches $14 billion, +7% y/y, Swanson adds.\\nThe analyst lowered the FY23 revenue estimate to $61.680 billion from $61.936 billion, reducing the FY23 adjusted EPS estimate to $9.51 from $9.54.\\nPrice Action: IBM shares are trading higher by 5.00% to $143.93 on the last check Thursday.\\n© 2024 Benzinga.com. Benzinga does not provide investment advice. All rights reserved.\\nComments\\ndate | ticker | name | Price Target | Upside/Downside | Recommendation | Firm |\\n---|\\nTrade confidently with insights and alerts from analyst ratings, free reports and breaking news that affects the stocks you care about.\"),\n",
       " (NewsLink(title='This Dividend Stock Yielding 5% Is a Screaming Buy', url='https://www.fool.com/investing/2023/07/12/this-dividend-stock-yielding-5-is-a-screaming-buy/', summary='IBM stock is a bargain.', overall_sentiment_score=0.273743, ticker_sentiment=[TickerSentiment(ticker='IBM', relevance_score=0.731269, ticker_sentiment_score=0.403117)]),\n",
       "  \"The stock market doesn't quite know what to do with International Business Machines (IBM 1.23%). Shares of the century-old tech company have been treading water since before the pandemic. As of July 10, IBM stock is just a few percentage points off from where it traded five years ago.\\nA lot has changed in those five years, though. Notably, IBM poured $34 billion into the acquisition of Red Hat to boost its hybrid cloud business, and it spun off its slow-growing, low-margin managed infrastructure services business. The IBM of today is starkly different than the IBM of five years ago.\\nThese moves, part of IBM's decade-long transformation effort, have made the company simpler and more focused. Revenue growth has returned, and free cash flow is on the rise. Even in a tough economy, the critical products and services IBM sells to its enterprise client base are in high demand.\\nThrough it all, IBM has maintained its impressive dividend streak. The company has paid quarterly dividends without fail since 1916, and it's increased its dividend annually for 28 consecutive years. The most recent quarterly dividend of $1.66 per share works out to a dividend yield of 5%.\\nA simpler company\\nIBM is still a mix of legacy businesses and newer businesses, but the company is now much more aligned with its best growth opportunities.\\nThree-quarters of IBM's revenue now comes from software and consulting, and more than half of revenue is recurring in nature. In the software segment, IBM has diversified away from transaction processing software. Most of IBM's software revenue now comes from security, data analytics, artificial intelligence, automation, and hybrid cloud solutions.\\nRed Hat's OpenShift hybrid cloud platform has reached a $1 billion annual recurring revenue run rate, while total non-transaction processing software has reached a $13.5 billion annual recurring revenue run rate. Software is the highest-margin part of IBM, with the segment generating pre-tax income of $1.2 billion on revenue of $5.9 billion in the first quarter of 2023.\\nConsulting is less profitable, but it ties in nicely with the software business. IBM's consulting arm helps clients navigate digital transformations and adopt cloud-based infrastructures, which drives some revenue to IBM's software and hardware businesses. Consulting generated $5.0 billion of revenue in the first quarter, along with $0.4 billion of pre-tax income.\\nThe infrastructure segment, which includes hardware and support, is the smallest revenue contributor, but it's still important for IBM. Financial institutions and a wide array of other large organizations still rely on IBM's mainframe systems, and that's unlikely to change anytime soon. IBM's latest mainframe systems can be integrated into a hybrid cloud infrastructure, and mainframe sales drive additional sales of software and services.\\nGrowth, free cash flow, and the dividend\\nIBM has struggled to grow over the past decade, but that's now changing. The company expects to produce revenue growth between 3% and 5% this year, excluding the impact of currency; not a bad result, given the current economic environment. Many of IBM's products and services are ultimately aimed at saving clients money or improving productivity, both of which should play well when cost-cutting is the order of the day.\\nFree cash flow is also improving, thanks in part to the high-margin software business. IBM expects to generate $10.5 billion of free cash flow this year, up more than $1 billion compared to 2022. With a market capitalization of $120 billion, the stock trades for less than 12 times free cash flow.\\nThis free cash flow easily supports IBM's dividend, although the dividend isn't going to grow much faster than free cash flow. The current quarterly dividend requires about $6.1 billion annually, based on the share count at the end of the first quarter. That leaves plenty left over for debt reduction and the occasional acquisition, like the recent $4.6 billion acquisition of Apptio.\\nTo be fair, IBM stock has looked cheap for a long time. But the company is now in a good position to steadily grow its revenue and free cash flow over time. Eventually, the market will wise up and award IBM stock a valuation that isn't so pessimistic.\"),\n",
       " (NewsLink(title='Could IBM Stock Soar 30%?', url='https://www.fool.com/investing/2023/09/25/could-ibm-stock-soar-30/', summary=\"One analyst thinks IBM's software and consulting businesses are not being fully appreciated.\", overall_sentiment_score=0.135639, ticker_sentiment=[TickerSentiment(ticker='IBM', relevance_score=0.718177, ticker_sentiment_score=0.275525), TickerSentiment(ticker='ORCL', relevance_score=0.053629, ticker_sentiment_score=0.08707), TickerSentiment(ticker='AMZN', relevance_score=0.053629, ticker_sentiment_score=0.08707)]),\n",
       "  'International Business Machines (IBM 1.23%) has spent the better part of the past decade repositioning itself for the era of cloud computing and artificial intelligence. The $2 billion acquisition of SoftLayer in 2013 kick-started the company\\'s cloud business, and the $34 billion acquisition of Red Hat in 2019 was a bet that enterprises would gravitate toward multi-cloud and hybrid cloud deployments.\\nIBM has shed plenty of underperforming businesses as well. The company unloaded its semiconductor manufacturing operation and its x86 server operations back in 2014, spun-off its managed infrastructure services business in 2021, dumped its Watson Health business in 2022, and largely gave up on its enterprise blockchain efforts earlier this year. The IBM of today is leaner and more focused than the IBM of a decade ago.\\nWhile IBM stock is still stuck in the doldrums, one analyst sees happier days ahead for shareholders. Matthew Swanson of RBC Capital started IBM with an \"outperform\" rating last week and attached a $188 price target. That\\'s the highest price target among Wall Street analysts.\\nThat price target represents an upside of nearly 30% from the current stock price. While IBM stock could do anything in the short term, Swanson\\'s target certainly doesn\\'t look far-fetched given IBM\\'s valuation and growth prospects.\\nUnderappreciated businesses\\nFollowing IBM\\'s spin-off of its managed infrastructure services business, the company\\'s two largest segments are software and consulting. The software business generated $6.6 billion of revenue in the second quarter and grew by 8% at constant currency, while the consulting business generated $5 billion of revenue and grew by 6%. Together, these segments accounted for about three-quarters of IBM\\'s total revenue.\\nSwanson believes these two segments are not being fully appreciated by investors as IT environments become more complex. For large organizations with sprawling IT infrastructures, modernization is not a simple matter of moving everything to a single public cloud. Mixing and matching multiple public clouds along with on-premises hardware requires software solutions as well as guidance and know-how. IBM\\'s software business handles the former, while its consulting business handles the latter.\\nThese businesses can help fuel each other. If IBM wins a consulting contract to help a client adopt a hybrid cloud architecture, it\\'s likely that a portion of the solution is going to involve IBM software or hardware.\\nThat won\\'t always be the case, as one of the strengths of IBM\\'s consulting arm is that won\\'t hesitate to recommend non-IBM solutions. IBM has partnerships with Amazon Web Services, Oracle, SAP, and other direct competitors, and it leads customers to those competing solutions when it makes sense to do so.\\nNonetheless, the explosion of complexity in IT environments is a tailwind for IBM. In addition to helping clients with hybrid cloud deployments, the company is aiming to be the partner of choice for enterprise AI. IBM\\'s watsonx platform enables clients to train and deploy AI models while keeping transparency, privacy, and regulatory concerns in mind.\\nA dirt cheap stock\\nIBM expects to grow total revenue by 3% to 5% this year after adjusting for currency, a solid result given the macroeconomic backdrop. With software and consulting segments that are heavily focused on hybrid cloud and AI, the company\\'s long-term growth prospects look solid.\\nFree cash flow should come in at around $10.5 billion this year, according to IBM\\'s guidance. That puts the price-to-free-cash-flow ratio at less than 13. The high-margin software business can drive profit margins higher as time goes on, so IBM should be able to grow its free cash flow over time.\\nIBM also pays a sustainable dividend that yields about 4.5%. Dividend payments will eat up just over $6 billion over the next year, leaving plenty left over for acquisitions and debt reduction. The company has halted share buybacks as it works to pay down debt from the Red Hat deal, but buybacks could be restarted down the road.\\nIBM\\'s valuation would still be reasonable if the stock were to rise nearly 30% to Swanson\\'s price target, and it could still look cheap if the company grows its free cash flow in the years ahead. While IBM\\'s turnaround is still a work in progress, the company has come a long way as it stakes a claim in the cloud computing and artificial intelligence markets.'),\n",
       " (NewsLink(title='This Dividend Stock Is a Safe Bet, Regardless of Market Conditions', url='https://www.fool.com/investing/2023/08/26/this-dividend-stock-safe-bet-regardless-conditions/', summary='With a high yield, investors should think of IBM as the dividend stock of the cloud.', overall_sentiment_score=0.139121, ticker_sentiment=[TickerSentiment(ticker='MSFT', relevance_score=0.12165, ticker_sentiment_score=0.081984), TickerSentiment(ticker='IBM', relevance_score=0.716023, ticker_sentiment_score=0.300816), TickerSentiment(ticker='KD', relevance_score=0.12165, ticker_sentiment_score=0.054284)]),\n",
       "  \"In recent years, International Business Machines (IBM 1.23%) fell out of favor as tech investors turned away from the company in favor of faster-growing names.\\nNonetheless, even in those times, the company proved its reliability as a dividend stock, with the payout rising for 28 consecutive years. Moreover, IBM pivoted heavily into the cloud with its $34 billion purchase of Red Hat in 2019, following that up with numerous cloud-related acquisitions and spinning off slower-growth businesses, such as the one that became Kyndryl (KD 1.00%).\\nAs IBM continues with this transformation, it should not only drive growth in the cloud but also reinforce its reliability as a long-term dividend play.\\nIBM and the dividend\\nAfter its recent increase, IBM pays shareholders at a rate of $6.64 per share annually, amounting to a dividend yield of 4.7% at its current share price. This is nearly triple the 1.6% average yield for the S&P 500. Additionally, of its larger rivals, only Microsoft (MSFT -1.30%) offers a payout, but its yield of 0.9% is far below that of IBM. So, when it comes to cloud stocks, IBM is in a league of its own when it comes to dividend payments.\\nAdmittedly, that has come at a price for long-term shareholders. The stock has risen by only 6% since it closed the Red Hat purchase in July 2019, and over the last 10 years, the stock price has fallen 20%.\\nHowever, when adding the dividend payments over that time, investors still claimed a return of more than 30% since the deal closed.\\nMoreover, despite a long streak of payout hikes, IBM has created a sustainable payout. In the first two quarters of this year, IBM has generated $3.4 billion in free cash flow, enough to cover the $3 billion in dividend expenses.\\nWhy IBM may improve as a dividend stock\\nAlso, IBM's dividend appears safe in nearly any economic environment. Even if conditions deteriorate for a time, IBM holds over $16 billion in liquidity. That cash could fund the dividend for over 10 quarters without free cash flows. The sluggish economy has slowed but not stopped cloud revenue growth for competitors, so such an outcome is unlikely.\\nMoreover, Fortune Business Insights forecasts the cloud computing market will grow at a compound annual growth rate (CAGR) of 20% through 2030. This implies a secular growth trend for the industry that makes a sustained industry downturn improbable.\\nFurthermore, conditions are on track to improve for the venerable tech giant. With IBM investing more heavily in high-growth endeavors and raising productivity, it expects $10.5 billion in free cash flow for 2023. If it meets this target, IBM will generate more than $4 billion in free cash flow not tied to its dividend costs.\\nIndeed, IBM's $30 billion in revenue for the first six months of this year is at approximately the same level as in the same time frame in 2022. Nonetheless, that comes at a time of lower tech spending amid a sluggish economy.\\nStill, the 5% yearly revenue growth in 2022 shows serves as a sign that the company's condition has improved. Yes, growth investors will probably bypass IBM stock amid the single-digit revenue growth. But if one's primary focus is income, investors should have fewer reasons to worry about a falling stock price, reinforcing IBM's appeal to dividend investors.\\nIBM as an income investment\\nIBM's ability to sustain dividend increases over 28 years shows it can produce income in times of prosperity or struggles. Indeed, IBM's legacy businesses caused it to fall behind some peers in the past.\\nHowever, IBM maintained payout hikes amid those conditions. Moreover, a move into the cloud has improved its competitiveness amid that industry's secular growth. That appears to have stopped the long-term decline in the stock price.\\nBy buying now, investors could earn a significant cash return, and with the stock less likely to fall in value, dividend investors should be more inclined to buy this stock for income.\"),\n",
       " (NewsLink(title=\"IBM, Utilities And This Treasury ETF: CNBC's 'Final Trades' - IBM  ( NYSE:IBM ) , iShares 1-3 Year Treasury Bond ETF  ( NASDAQ:SHY ) \", url='https://www.benzinga.com/trading-ideas/long-ideas/23/09/34939036/ibm-utilities-and-this-treasury-etf-cnbcs-final-trades', summary='On CNBC\\'s \"Halftime Report Final Trades,\" Liz Young of BNY Mellon Investment Management named Utilities Select Sector SPDR Fund XLU as her final trade. Stephanie Link of Hightower said International Business Machines Corporation IBM has a good yield.', overall_sentiment_score=0.156452, ticker_sentiment=[TickerSentiment(ticker='IBM', relevance_score=0.71174, ticker_sentiment_score=0.256414)]),\n",
       "  'On CNBC’s \"Halftime Report Final Trades,\" Liz Young of BNY Mellon Investment Management named Utilities Select Sector SPDR Fund XLU as her final trade.\\nStephanie Link of Hightower said International Business Machines Corporation IBM has a good yield. The company’s stock is up just 2% year-to-date, but is up 25% from its recent lows. \"I like the software and consulting mix, which is 75% of the total revenue,\" she added.\\nRBC Capital analyst Amit Daryanani initiated coverage on IBM with an Outperform rating and announced a price target of $188. The Armonk, New York-based company recently reported second-quarter earnings of $2.18 per share, ahead of the $2.01 Street estimate, on revenues of $15.47 billion, which missed the $15.57 billion consensus estimate.\\nDon’t forget to check out our premarket coverage here\\nJosh Brown of Ritholtz Wealth Management picked iShares 1-3 Year Treasury Bond ETF SHY.\\nPrice Action: IBM shares were down 0.3% to $142.68 at the time of publication Wednesday.\\nCheck This Out: SLB, Splunk And 2 Other Stocks Insiders Are Selling\\nPhoto: Shutterstock\\n© 2024 Benzinga.com. Benzinga does not provide investment advice. All rights reserved.\\nComments\\nTrade confidently with insights and alerts from analyst ratings, free reports and breaking news that affects the stocks you care about.'),\n",
       " (NewsLink(title='IBM Q3 Preview: Analyst Sees Margin Challenges Despite Steady Software Demand - IBM  ( NYSE:IBM ) ', url='https://www.benzinga.com/analyst-ratings/analyst-color/23/10/35400217/ibm-q3-preview-analyst-sees-margin-challenges-despite-steady-software-demand', summary='BMO Capital Markets analyst Keith Bachman reiterated the Market Perform rating on International Business Machines Corporation IBM with a price target of $152. IBM will discuss its third-quarter 2023 financial results on Wednesday, October 25, 2023.', overall_sentiment_score=0.280405, ticker_sentiment=[TickerSentiment(ticker='IBM', relevance_score=0.691995, ticker_sentiment_score=0.527235)]),\n",
       "  'BMO Capital Markets analyst Keith Bachman reiterated the Market Perform rating on International Business Machines Corporation IBM with a price target of $152.\\nIBM will discuss its third-quarter 2023 financial results on Wednesday, October 25, 2023.\\nOn the positive, Bachman notes that Software demand has been steady and that IBM can meet the estimate/consensus forecasts in 2HFY23 and even deliver some upside helped by M&A.\\nAlso Read: Amazon, Alphabet, Meta, Intel Q3 Earnings This Week: Will Mega-Caps Shatter Forecasts And Revive Market?\\nAccording to the analyst, software trends have remained relatively stable, and thus, Hybrid Platform can continue to grow mid-to-high single digits over the next two quarters.\\nMoreover, IBM closed the Apptio deal in mid-August versus expectations of a 4QFY23 close and embedded guidance of a 0.5pt help to FY2023 Software growth, adds the analyst.\\nThe analyst notes that Apptio was guided to add about $125 million of revs in 4QFY2023, which Bachman estimates to be about a $400 million annual run rate if typical software seasonality persists.\\nBachman writes the early close could provide a slight upside to the September quarter and FY2023 in Hybrid Platform to go along with steady demand.\\nIn TPP, the analyst forecasts 5.5% y/y CC growth versus 10% y/y CC growth in the June quarter, though on a ~10pt harder organic compare.\\nThe analyst is \"more confident\" in the growth trajectory of TPP in the medium-term of low-to-mid single digits, though note there is variance in growth in any given quarter.\\nBachman estimates that growth will moderate to mid-to-low single-digits in TPP in the long term.\\nOn the other side, some risks to IBM Consulting estimates in 2HFY23 imply consistent growth even against easier comps versus the broader industry exhibiting meaningful deceleration.\\nBachman remains skeptical, adding that margin challenges will persist.\\nPrice Action: IBM shares are trading higher by 0.30% to $136.76 on the last check Tuesday.\\n© 2024 Benzinga.com. Benzinga does not provide investment advice. All rights reserved.\\nComments\\ndate | ticker | name | Price Target | Upside/Downside | Recommendation | Firm |\\n---|\\nTrade confidently with insights and alerts from analyst ratings, free reports and breaking news that affects the stocks you care about.'),\n",
       " (NewsLink(title='Is It Time to Buy IBM Stock After a Solid Earnings Report?', url='https://www.fool.com/investing/2023/07/25/is-it-time-to-buy-ibm-stock-after-a-solid-earnings/', summary='While revenue flatlined, the company stuck with its guidance.', overall_sentiment_score=0.233987, ticker_sentiment=[TickerSentiment(ticker='IBM', relevance_score=0.688096, ticker_sentiment_score=0.318531)]),\n",
       "  'On the surface, International Business Machines\\' (IBM 1.23%) second-quarter earnings report was a mixed bag. While the century-old tech giant beat analyst expectations for profit, a slight revenue decline came up short of what analysts were expecting in the July 19 report.\\nUnder the surface, IBM\\'s results paint a picture of a company making solid progress. The revenue decline was due solely to the hardware business and the product life cycle dynamics of the company\\'s mainframe business. Both software and consulting posted strong growth, and IBM stuck with its guidance for the full year.\\nThe AI opportunity\\nIBM has put two technologies at the center of its transformation efforts: hybrid cloud computing and artificial intelligence.\\nOne of the core strengths of IBM\\'s business model is that all the pieces of the company feed back into each other. A client that wants to move its IT infrastructure to a cloud-based architecture may tap IBM\\'s consulting arm for guidance and help with implementation. That engagement can then drive sales of IBM\\'s software, particularly Red Hat\\'s OpenShift container platform.\\nOpenShift is now at a $1.1 billion annual recurring revenue run rate, but that\\'s not the only way IBM leverages its acquisition of Red Hat. Within the consulting segment, IBM has built a multibillion-dollar consulting business around Red Hat\\'s hybrid cloud platform.\\nIBM is looking to do the same with AI. The company is positioning Watsonx, its new AI platform aimed at helping enterprises deploy and manage AI models, as the core of its AI business. While the platform itself will generate revenue for the software segment, the company has staffed a \"Center of Excellence for Generative AI\" within its consulting arm with 1,000 AI specialists.\\nThe goal is to not only provide the technology and software to enable clients to deploy AI, but also to provide guidance navigating a rapidly changing technological landscape. IBM has the potential to build a massive consulting business around AI, which will help drive consulting revenue higher in the years ahead.\\nGood results and a rock-bottom valuation\\nOverall, IBM\\'s second-quarter results looked just fine. Total revenue of $15.5 billion was down slightly thanks to a double-digit decline in infrastructure revenue, but both software and consulting performed well. Total software revenue jumped 7% year over year adjusted for currency to $6.6 billion, driven by growth in transaction processing, Red Hat, and AI solutions.\\nMeanwhile, consulting revenue rose 6% year over year to $5 billion, with growth across the board. Business transformations, the biggest piece of the consulting segment, enjoyed 5% growth. The tough macroeconomic environment is causing clients to pull back on smaller, more discretionary projects, but IBM is seeing persistent demand for the kind of large transformation projects that produce meaningful returns on investment for clients.\\nOne reason IBM can produce good results even in deteriorating economic conditions is its focus on helping clients save money and increase productivity. The company stuck with its guidance for the full year, which calls for revenue growth between 3% and 5% adjusted for currency and free cash flow growth of more than $1 billion to approximately $10.5 billion.\\nIBM is valued at about $125 billion following a post-earnings rally. That puts the price-to-free-cash-flow ratio at just 12. Add in a dividend that yields close to 5%, and it\\'s hard to argue that IBM isn\\'t a bargain for value investors and dividend investors alike.'),\n",
       " (NewsLink(title='Why IBM Stock Popped After Earnings', url='https://www.fool.com/investing/2023/07/20/why-ibm-stock-popped-after-earnings/', summary='IBM stock is close enough to \"cheap\" that investors should start paying attention.', overall_sentiment_score=0.241725, ticker_sentiment=[TickerSentiment(ticker='BAC', relevance_score=0.087185, ticker_sentiment_score=-0.042135), TickerSentiment(ticker='CURN', relevance_score=0.087185, ticker_sentiment_score=0.033472), TickerSentiment(ticker='IBM', relevance_score=0.618922, ticker_sentiment_score=0.364683)]),\n",
       "  'What happened\\nShares of tech legend International Business Machines (IBM 1.23%) rose a respectable 2.9% through 12:05 p.m. ET after the company reported mixed earnings for its fiscal second quarter 2023.\\nAnalysts had forecast IBM would earn only $2.01 per share in \"adjusted\" profits for the quarter, and IBM beat that guess with a stick, earning $2.18 per share. Sales that were supposed to approach $15.6 billion, however, fell just short of that mark, coming in at $15.5 billion instead.\\nSo what\\nWall Street didn\\'t mind the revenue miss, however, with The Fly reporting that three separate analysts (Bank of America, BMO Capital, and Stifel) all hiked their price targets on the stock after earnings. Investors don\\'t seem to mind much, either.\\nAfter all, while IBM\\'s sales declined 0.4% year over year, this was mainly because of currency exchange rates. In \"constant currency,\" IBM recorded revenue growth of 0.4%, arguably making this the second quarter of growth for the tech giant -- and perhaps the start of a trend. What\\'s more, two of the company\\'s three main business divisions (software and consulting) recorded revenue growth despite currency headwinds, with only the smallest division, infrastructure, seeing sales down (albeit down a sizable 15%).\\nGross profit margin also improved, up 160 basis points at 54.9%, helping GAAP earnings to climb 13%. However, these bottom-line profits weren\\'t quite as strong as the adjusted number suggests. Earnings per share were only $1.74.\\nNow what\\nBest of all was the forecast. Reinforcing the idea that revenue growth is a new -- and improving -- trend at IBM, management predicted that constant currency revenue will grow from 3% to 5% this year in comparison to 2022. And while management didn\\'t give a forecast for GAAP earnings, it did say that free cash flow this year should approach $10.5 billion -- better than a 10% improvement year over year -- meaning that cash profits are growing at more than twice the pace of revenue growth.\\nApplied to the stock\\'s current market capitalization, this means IBM stock is selling for a cheap 12.1 times current-year free cash flow -- not bad for a 10% grower paying a 4.9% dividend yield. The only caveat I\\'d add to that is that once you factor in IBM\\'s $44 billion in net debt, its enterprise value grows past $171 billion, giving the stock an enterprise value-to-free cash flow ratio of 17.\\nEven valued on that more conservative metric, though, I see IBM stock today as not unreasonably priced. Not \"cheap\" exactly, but close enough to cheap that it\\'s a stock worth watching, with the potential to become a buy on any pullback in price.'),\n",
       " (NewsLink(title='This Iconic Artificial Intelligence Stock Is Hiding in Plain Sight', url='https://www.fool.com/investing/2023/10/09/this-iconic-artificial-intelligence-ai-stock-is-hi/', summary='Big Blue has been fiddling with AI for a very long time.', overall_sentiment_score=0.197245, ticker_sentiment=[TickerSentiment(ticker='BAC', relevance_score=0.060848, ticker_sentiment_score=0.129849), TickerSentiment(ticker='IBM', relevance_score=0.59892, ticker_sentiment_score=0.362793), TickerSentiment(ticker='NVDA', relevance_score=0.060848, ticker_sentiment_score=0.228141)]),\n",
       "  'There may be no other company that has been working on artificial intelligence (AI) longer than International Business Machines (IBM 1.23%). As Bank of America analysts noted last week, IBM has been building specialized AI applications for decades. The company\\'s highest-profile AI achievement was its 2011 win on Jeopardy! with its Watson system, which could understand natural language.\\nIBM\\'s attempts to turn Watson into a real business over the years have largely failed. The company talked up the potential for AI in the healthcare industry, but it sold its Watson Health business after that potential went unrealized. The company has since pared back its ambitions, mostly focusing its AI efforts on helping its clients improve their own operations.\\nA multibillion-dollar opportunity\\nWhile IBM\\'s attempts to turn Watson into a household name fell flat, the company is well positioned to be a major player in the AI market. IBM trotted out the Watson name earlier this year with its new watsonx platform, but the company\\'s strategy is very different this time around. The original incarnation of Watson was a solution in search of a problem. This new platform enables clients to build, train, and deploy large language models while maintaining control of their data. Much like the rest of IBM\\'s business these days, watsonx is aimed at helping clients do things better.\\nThe BofA analysts see AI as the key to IBM\\'s ongoing turnaround, calling the company\\'s AI portfolio \"underappreciated.\" AI is complicated, especially for large organizations that must take data privacy, compliance, and regulatory issues into account. On top of selling software in the form of the watsonx platform, IBM\\'s vast consulting business should benefit from increasing demand for AI guidance and know-how.\\nIBM announced that its consulting division had established a Center of Excellence for generative AI earlier this year, complete with more than 1,000 consultants with generative AI expertise. While IBM\\'s consulting business will push some customers to the watsonx platform, the company also has partnerships with other technology providers.\\nThe AI opportunity in consulting alone is significant. The BofA analysts expect AI to contribute $1 billion in consulting revenue in 2024 and $2 billion in 2025. For reference, IBM\\'s consulting segment generated $19.1 billion of revenue in 2022. It may take longer for AI to meaningfully boost IBM\\'s software revenue, but there should be plenty of demand in the coming years from enterprises looking to deploy advanced AI models.\\nAn attractive stock\\nWhile IBM isn\\'t going to ever grow as fast as Nvidia, which leads the market for AI chips, the company\\'s AI efforts should help drive solid, sustainable growth in the long run. The BofA analysts maintained a $160 price target on the stock, which is about 12% higher than the current stock price.\\nOutside of AI, IBM\\'s portfolio of products and services should hold up in nearly any economic environment. IBM is seeing sustained demand for transformational projects that deliver meaningful cost savings or boosts to productivity. While the appetite for big tech projects during tough times can be understandably muted, the exception is when there\\'s a clear return on investment.\\nWith IBM expecting to generate $10.5 billion in free cash flow this year, the stock trades for just over 12 times that metric. The company also pays a generous dividend. Based on the most recent dividend payment, IBM stock currently yields about 4.7%.\\nIBM has been on a long journey to turn its vast experience with AI into a real, revenue-generating business. By helping clients take advantage of the latest AI advancements, and by providing a software platform to make deploying AI models simple, IBM looks like it\\'s finally on the right track. Over the next few years, AI has the potential to add billions of dollars to the company\\'s top line.'),\n",
       " (NewsLink(title=\"This old-school tech name's consulting business could get a huge boost from AI\", url='https://www.cnbc.com/2023/08/17/this-tech-names-consulting-business-could-get-a-huge-boost-from-ai.html', summary=\"Analysts at Melius Research think IBM's consulting business could use AI to cut labor costs through automation ...\", overall_sentiment_score=0.346556, ticker_sentiment=[TickerSentiment(ticker='ACN', relevance_score=0.407844, ticker_sentiment_score=0.294336), TickerSentiment(ticker='IBM', relevance_score=0.578355, ticker_sentiment_score=0.539386), TickerSentiment(ticker='NOW', relevance_score=0.211191, ticker_sentiment_score=0.151886)]),\n",
       "  'This old-school tech name’s consulting business could get a huge boost from AI\\nA new Wall Street report shows how International Business Machines (IBM) could benefit from artificial intelligence.\\nAnalysts at Melius Research think IBM\\'s consulting business could use AI to cut labor costs through automation, describing the transformation as a potential \"golden age\" for the industry.\\nIf you like this story, sign up for Jim Cramer\\'s Top 10 Morning Thoughts on the Market email newsletter for free.\\nWhile Accenture (ACN) may be the classic consulting behemoth to benefit from AI, given the company\\'s recent announcement of a $3 billion investment in the space, CNBC\\'s Jim Cramer said that others, like IBM, could also get a piece of the pie.\\nThe \"Mad Money\" host also says to watch stocks that help onboard customers like Salesforce (CRM), a CNBC Investing Club stock, and ServiceNow (NOW), which could get a boost down the line from AI as well.\\nHere\\'s a full list of the stocks in Jim\\'s Charitable Trust, the portfolio used by the CNBC Investing Club.'),\n",
       " (NewsLink(title=\"Accenture's Earnings Beat Gets Overshadowed By Pressured IT Spending - Accenture  ( NYSE:ACN ) \", url='https://www.benzinga.com/23/10/35036959/accentures-earnings-beat-gets-overshadowed-by-pressured-it-spending', summary='Last Thursday, Accenture plc ACN is the latest from the IT sector to flag the industry pressures as its latest quarter revenue came short of expectations.', overall_sentiment_score=0.153598, ticker_sentiment=[TickerSentiment(ticker='ACN', relevance_score=0.511734, ticker_sentiment_score=0.282139), TickerSentiment(ticker='IBM', relevance_score=0.571686, ticker_sentiment_score=0.455653)]),\n",
       "  'Last Thursday, Accenture plc ACN is the latest from the IT sector to flag the industry pressures as its latest quarter revenue came short of expectations. Meanwhile, International Business Machines Corporation IBM general manager of Asia Pacific, Paul Burton, spoke today, expressing his belief that there is a $10 trillion productivity to be reaped from AI if it is leveraged correctly. IBM is more focused on upgrading business operations with AI technology as opposed to merely offering a generally accessible tool. IBM aims to empower its clients to become AI creators so that with the help of IBM, their clients can use AI in a smart and trusted way. Back in May, IBM CEO Arvind Krishna stated that he expects about 7,800 back-office jobs at IBM to be replaced by AI over the next five years but that the potential for new work and job improvement will outweigh these downsides. On September 18th, IBM committed to providing AI training for two million workers, specifically from underrepresented communities, by the end of 2026.\\nUnfortunately for Accenture, its earnings beat was overshadowed by the revenue miss and lower than expected guidance that pressured the stock 5% on Thursday. However, its stock rose 14% over the past 12 months, bringing the company market valuation of nearly $200 billion as it paves its way forward towards responsible AI innovations.\\nFiscal Fourth Quarter And Annual Highlights\\nFor the quarter that ended on August 31st , bookings fell 10% YoY to $16.6 billion despite consulting bookings surprisingly grew 1% but managed services contracted nearly 20%.\\nThe IT consulting and outsourcing company reported revenue rose 4% but the consulting business which accounts for 51% of the revenue contracted 2% with particularly weakened demand from communications, media and tech industries with revenue dropping as much as 12%. The Dublin-based company made a net income of $2.15 per share. Adjusted earnings amounted to to $2.71 per share, translating to a 4% rise.\\nFor the full year, Accenture made a profit of $6.87 billion, or $10.77 per share on the back of $64.11 billion in revenue.\\nFiscal First Quarter Guidance And 2024 Outlook\\nFor the undergoing November quarter, Accenture guided for revenue in the range between $15.85 billion to $16.45 billion.\\nThe fiscal 2024 did not ease concerns about the weakened IT spending with the guidance of 2% to 5% revenue growth, with the mid-range being below analyst estimates of $67.2 billion which translate to 4.6% growth. Full-year adjusted earnings per share are expected to be in the range of $11.97 to $12.32, also coming short of estimates of $12.45.\\nWeathering The Slowdown\\nUnlike standalone consultancies or outsourcing firms, Accenture made itself into a one-stop shop as it goes beyond making IT strategies for its clients by supporting coders, designers and marketing throughout their execution paths. Accenture continues its expansion into digital marketing, blockchain, cloud computing services and cybersecurity products, while boosting its AI with the planned $3 billion investment.\\nDISCLAIMER: This content is for informational purposes only. It is not intended as investing advice.\\n© 2024 Benzinga.com. Benzinga does not provide investment advice. All rights reserved.\\nComments\\nTrade confidently with insights and alerts from analyst ratings, free reports and breaking news that affects the stocks you care about.'),\n",
       " (NewsLink(title=\"AI's Forefront Impact on White-Collar Jobs: IBM's Arvind Krishna - IBM  ( NYSE:IBM ) \", url='https://www.benzinga.com/news/23/08/33978453/ais-forefront-impact-on-white-collar-jobs-ibms-arvind-krishna', summary='International Business Machines Corp IBM CEO Arvind Krishna highlighted in a recent discussion that white-collar roles, particularly those within the back office, are likely to be the foremost affected by the advances in artificial intelligence ( AI ) .', overall_sentiment_score=0.261721, ticker_sentiment=[TickerSentiment(ticker='LNVGF', relevance_score=0.087503, ticker_sentiment_score=-0.050407), TickerSentiment(ticker='IBM', relevance_score=0.558244, ticker_sentiment_score=0.397322)]),\n",
       "  'International Business Machines Corp IBM CEO Arvind Krishna highlighted in a recent discussion that white-collar roles, particularly those within the back office, are likely to be the foremost affected by the advances in artificial intelligence (AI).\\nThis technological evolution will likely streamline enterprise operations, leading to heightened productivity but potentially fewer human resources.\\nAlso Read: IBM Considers Using In-House AI Chips to Reduce Cloud Service Costs\\nWhile discussing the evolving dynamics of AI on CNBC\\'s \"Squawk Box Asia,\" Krishna elaborated on AI\\'s potential to revamp traditional office operations. AI\\'s emergence will likely address the demographic challenges by optimizing tasks, especially in the wake of a diminishing working-age populace.\\nKrishna believes such enhancements are pivotal to sustaining quality of life and productivity. \"And AI, I think, is the only answer we got.\"\\nSurging interest in AI-driven solutions, like OpenAI\\'s ChatGPT, has prompted many enterprises to create their large-language models. IBM, however, wasn\\'t a mere participant in this race.\\nThe tech giant invested in AI and introduced Watson, its pioneering supercomputer, between 2004 and 2011. This strategic focus paralleled IBM\\'s pivot away from computer hardware, evident when they parted with their PC division, selling it to Lenovo in 2005.\\nIn its recent endeavors, IBM unveiled WatsonX in May, a tool tailored to assist clients in cultivating machine learning models. This announcement followed roughly a year after IBM divested its data and analytics segment, Watson Health, due to consistent non-profitability.\\nMeanwhile, speculations arose around IBM\\'s employment strategies. Reports inferred that the firm contemplated halting recruitments for positions potentially replaceable with AI, impacting nearly 7,800 roles, especially in domains like HR.\\nAddressing these speculations, Krishna clarified that the organization isn\\'t merely looking to replace but augment human roles with AI. \"It\\'s absolutely not displacing — it\\'s augmenting,\" he stressed.\\nEmphasizing the broader picture, he shared his optimism about AI\\'s potential to fuel GDP growth and enhance the quality of life.\\nIn a previous dialogue with CNBC, reiterating his confidence in AI\\'s potential, Krishna expressed that AI is poised to generate more employment opportunities than it would replace.\\nThis sentiment resonates with views shared by Singapore\\'s Deputy Prime Minister, Lawrence Wong, who emphasized in June that AI might reshape the labor market and wouldn\\'t annihilate jobs.\\nSince joining IBM in 1990, Krishna has been an avid proponent of AI.\\nPrice Action: IBM shares are trading higher by 0.56% at $143.11 on the last check Tuesday.\\nDisclaimer: This content was partially produced with the help of AI tools and was reviewed and published by Benzinga editors.\\n© 2024 Benzinga.com. Benzinga does not provide investment advice. All rights reserved.\\nComments\\nTrade confidently with insights and alerts from analyst ratings, free reports and breaking news that affects the stocks you care about.'),\n",
       " (NewsLink(title='Why IBM Stock Is Gaining Today Despite a Big Sell-Off for Tech Stocks', url='https://www.fool.com/investing/2023/10/26/why-ibm-stock-is-gaining-today/', summary=\"IBM's recent earnings report is helping its stock defy bearish market trends.\", overall_sentiment_score=0.351717, ticker_sentiment=[TickerSentiment(ticker='IBM', relevance_score=0.519002, ticker_sentiment_score=0.393698), TickerSentiment(ticker='SPGI', relevance_score=0.080188, ticker_sentiment_score=0.211273)]),\n",
       "  \"International Business Machines (IBM 1.23%) stock is gaining Thursday despite the broader tech sector seeing substantial sell-offs. The company's share price was up 3.9% as of 1:15 p.m. ET, according to data from S&P Global Market Intelligence. Meanwhile, the Nasdaq Composite index was down roughly 1.8%.\\nOn Wednesday, IBM reported its third-quarter financial results. The company posted non-GAAP (adjusted) earnings per share of $2.20 on sales of $14.8 billion. Meanwhile, the average analyst estimate had called for per-share earnings of $2.13 on revenue of roughly $14.7 billion. In addition to the Q3 beat, the tech giant also announced a new generative artificial intelligence (AI) tool for coding.\\nIBM is bucking the trend on a bad day for tech stocks\\nIBM's revenue rose 5% year over year in Q3. Software sales were up 8%, and consulting revenue was up 6%. On the other hand, infrastructure revenue was down 2%.\\nFor the full year, the company reiterated its guidance for revenue to be up between 3% and 5% on a constant currency basis. Management also continues to anticipate that it will end the year with approximately $10.5 billion in free cash flow, representing an increase of more than $1 billion compared to last year's figure.\\nAll in all, it was a solid quarterly performance for Big Blue -- and the company followed it up by debuting its new generative AI coding tool. IBM's Code Assistant has been designed to make it easier for enterprise developers to code more quickly and efficiently. Given how hot the AI trend has been lately, investors were likely excited to see the new offering launch today.\\nWhat comes next for IBM stock?\\nToday's tech sell-off is hitting companies with growth-dependent valuations hardest. Notably, IBM still looks quite cheap based on some valuation metrics even on the heels of today's gains.\\nThe company is currently valued at just 15 times this year's expected earnings. It also pays a dividend yielding 3.5%.\\nOn the other hand, the company's growth has been very muted in recent years, and it's not clear whether its recent uptick in performance will be sustainable. IBM has streamlined its business through spinoffs and has restructured the company to focus on areas with stronger expansion prospects. It's also moved into the open-source software services through its acquisition of Red Hat, and the unit delivered an encouraging performance last quarter.\\nBut the company's ability to innovate and execute growth strategies over the last decade has been uninspiring. It's possible that the company will be able to score some meaningful wins in the AI space, but it's likely still at a significant disadvantage compared to other big tech rivals that have invested more heavily in innovation and established stronger foundations for success in the promising technology trend.\\nIBM stock could continue to climb thanks in large part to its non-prohibitive valuation, but it's still too soon to herald a major turnaround for the company.\"),\n",
       " (NewsLink(title='IBM Keeps Growing on Software and Consulting Strength', url='https://www.fool.com/investing/2023/10/27/ibm-keeps-growing-on-software-and-consulting-stren/', summary='The tech giant is sticking with its guidance as demand for digital transformation projects holds up.', overall_sentiment_score=0.252375, ticker_sentiment=[TickerSentiment(ticker='CURN', relevance_score=0.06515, ticker_sentiment_score=0.098364), TickerSentiment(ticker='IBM', relevance_score=0.486857, ticker_sentiment_score=0.450099)]),\n",
       "  \"Given this economic environment, marked by elevated inflation, historically high interest rates, and significant uncertainty, it shouldn't be surprising that many enterprises are pulling back on their tech spending. Projects that would have been green-lit even a year ago are being delayed or shelved as organizations look to cut spending and preserve cash.\\nTech projects that align with those new priorities, however, are still in demand. International Business Machines (IBM 1.23%) has been seeing weak demand for discretionary projects all year, but it's enjoying a tailwind from the kind of digital transformation and application modernization projects that aim to boost efficiency and productivity.\\nBeating expectations\\nThis solid demand helped IBM deliver third-quarter results that were above analysts' expectations. IBM reported revenue of $14.8 billion, up 4.6% and $70 million ahead of the consensus estimate. Adjusted earnings per share came in at $2.20, up 22% year over year and $0.07 ahead of analysts' average expectations.\\nThree-quarters of IBM's revenue comes from software and consulting, and both of those segments produced robust growth during the third quarter. Software revenue was up 6% year over year (adjusted for foreign currency shifts) to $6.3 billion. Transaction processing revenue grew by 5%, while revenue from its hybrid platform and solutions segment (which includes Red Hat, AI, data analytics, and security) rose by 7%. Annual recurring revenue for the software business jumped by 7% to $14 billion.\\nThe consulting segment posted 5% revenue growth adjusted for currency exchange changes. Technology consulting was a weak spot with just 1% growth, but business transformation revenue rose 5% and application operations revenue jumped 7%. Strategic partnerships drove a big chunk of this growth, generating 40% of consulting revenue. This portion of consulting revenue is expanding by a double-digit percentage.\\nThe infrastructure segment's revenue declined by 3%, but the mainframe business performed well with 9% growth. IBM's mainframe systems are still widely used in certain industries, including financial services. The z16 mainframe was launched in April 2022, triggering an upgrade cycle that appears to still have legs.\\nPretax profit margins expanded in each of IBM's three core segments. Software generated a 23.7% pretax margin, up 1.2 percentage points year over year; consulting had a 10.2% pretax margin, up 0.4 percentage points year over year; and infrastructure enjoyed an 11.8% pretax margin, up 3.5 percentage points year over year.\\nSticking with its guidance\\nIBM maintained its full-year guidance for both revenue and free cash flow. The company expects revenue to grow by 3% to 5% after adjusting for currency, and it anticipates free cash flow of approximately $10.5 billion. If it hits its free cash flow target, this metric will increase by about $1 billion from 2022.\\nThe tailwinds more than compensate for the headwinds, according to IBM CEO Arvind Krishna. IBM expects technology spending to grow faster than GDP even with organizations pulling back in certain areas. IBM's hybrid cloud and artificial intelligence (AI) products and services should continue to thrive as customers look to leverage those technologies to become more efficient.\\nIBM stock trades for roughly 12 times free cash flow guidance, a valuation that doesn't give the company much credit for its software and consulting-fueled turnaround. While IBM's growth isn't going to be earth-shattering, the company is capable of consistently pushing revenue and earnings higher thanks to strong demand for hybrid cloud solutions and AI.\"),\n",
       " (NewsLink(title=\"IBM's New Generative Artificial Intelligence  ( AI )  Tool Is a Game Changer\", url='https://www.fool.com/investing/2023/10/28/ibms-new-generative-artificial-intelligence-ai-too/', summary='IBM has found a great use case for generative AI.', overall_sentiment_score=0.19215, ticker_sentiment=[TickerSentiment(ticker='IBM', relevance_score=0.485711, ticker_sentiment_score=0.37779)]),\n",
       "  \"Large language models capable of writing and refactoring computer code have proliferated over the past year. These tools don't really replace programmers -- writing code is as much art as science. But they can make programmers dramatically more efficient by handling tedious tasks.\\nInternational Business Machines (IBM 1.23%) has been rolling out its watsonx artificial intelligence (AI) platform over the past few months. The company is focused on helping its enterprise customers train and deploy generative AI models while keeping data privacy and regulatory requirements in mind. On Thursday, IBM officially launched watsonx Code Assistant. This new generative AI-powered assistant is not a general-purpose tool. Instead, it's tailored for very specific use cases.\\nOne of those use cases is converting decades-old code that runs on IBM's mainframe systems to a more modern programming language. This may seem like a boring application of such a transformative technology, but it represents an enormous opportunity for IBM to keep its mainframe systems relevant and generate additional revenue from its enterprise customer base.\\nFrom COBOL to Java\\nCOBOL, or Common Business Oriented Language, is a programming language that has been around since 1959. COBOL isn't commonly used to write new applications, given the preponderance of modern programming languages available. However, it's still prolific in certain industries. IBM estimates that 70% of global banking transactions are processed on mainframe systems running COBOL. Another estimate puts the total number of lines of COBOL code in daily use at around 800 billion.\\nThe problem is that no one learns COBOL anymore. It's not widely taught in U.S. universities, and even if it was, learning COBOL is likely viewed as a bad career move. This puts companies running COBOL-powered workloads in a bind. Rewriting decades-old COBOL code requires specialized talent that's hard to find, and it creates a risk of disrupting mission-critical systems. As time goes on, the talent pool of programmers capable of modernizing COBOL applications dwindles.\\nIBM has a solution with watsonx Code Assistant for Z. This specialized version of its code assistant uses generative AI to map out a COBOL application and its dependencies, split up a COBOL application into modular parts, and convert those parts into modern Java code. The product doesn't yet support validation testing, but that feature is planned for a future release.\\nThis new AI tool from IBM accomplishes multiple things. First, it gives mainframe customers a path to modernize their applications without abandoning the mainframe as a platform. Second, it allows IBM to expand its relationship with mainframe customers. And third, it will provide a boost to IBM's consulting business. IBM's consulting arm will help customers identify applications ripe for modernization, and it will work alongside other parts of the company to build custom solutions for clients with specialized needs.\\nOne big benefit for clients is data privacy. Some of these COBOL-powered applications are at the heart of sensitive and critical systems in the banking and financial services industry. By partnering with IBM and using its watsonx platform, clients can ensure their data remains secure.\\nAn enterprise-first AI strategy\\nMuch like its hybrid cloud strategy, IBM's AI strategy centers around helping clients boost productivity, become more efficient, and lower costs. The cost in time, money, and potential for disruption to manually convert legacy COBOL applications to a modern language is likely too high for many mainframe customers to seriously consider taking that path. With this new AI tool, mainframe customers have another option for modernizing mission-critical applications.\\nIBM's mainframe business is resilient, but the lack of COBOL developers has become a thorny problem for clients. This new AI tool will help clients bring their mainframe applications into the 21st century, strengthening IBM's mainframe business in the process.\"),\n",
       " (NewsLink(title='2 Tech Stocks That Can Thrive in a Recession', url='https://www.fool.com/investing/2023/10/05/2-tech-stocks-that-can-thrive-in-a-recession/', summary='CrowdStrike and IBM sell things that customers will still want when times are tough.', overall_sentiment_score=0.078765, ticker_sentiment=[TickerSentiment(ticker='IBM', relevance_score=0.484881, ticker_sentiment_score=0.260646), TickerSentiment(ticker='CRWD', relevance_score=0.405651, ticker_sentiment_score=0.088565)]),\n",
       "  \"The U.S. economy has been spared a post-pandemic recession so far, but that may not remain true forever. Inflation remains peskily high, and all signs point to higher interest rates for a longer time. Add in the return of student-loan payments and dwindling household savings, and you have a recipe for an unpredictable economic environment.\\nFew companies are entirely immune from recessions, but some will hold up better than others. Cybersecurity provider CrowdStrike (CRWD -1.06%) and tech giant International Business Machines (IBM 1.23%) will certainly feel some pain, but they're capable of performing well against a tough economic backdrop.\\nCrowdStrike\\nWhen economic uncertainty looms, businesses often start looking for ways to cut costs. One line item that is unlikely to be anywhere near the top of the list is cybersecurity. The potential cost of phoning it in is just too high.\\nThe average total cost of a data breach in 2023 reached an all-time high of $4.45 million, according to a report from IBM. The potential cost savings from taking proactive steps are significant. Companies that adopt security testing within the software-development process cut the average cost of a breach by $1.68 million. There was also a strong correlation between security complexity and data-breach costs. The more convoluted a company's security systems are, the costlier breaches tend to be.\\nCrowdStrike and its Falcon platform aim to be a one-stop cybersecurity shop for modern businesses making heavy use of cloud computing. The company's AI-powered Threat Graph churns through trillions of signals each week, getting smarter and more capable as time goes on. Customers can adopt any number of modules, with each providing a key piece of functionality.\\nThe power of CrowdStrike's business model is its ability to increase customer spending over time. A full 63% of subscription customers now use at least five modules, and 24% use at least seven modules. Even as other enterprise-facing software companies have faced slowdowns this year, CrowdStrike continues to grow swiftly. Revenue soared 37% year over year in the second quarter, and the company's dollar-based net-retention rate is hovering right around its target of 120%.\\nCrowdStrike won't be completely immune from tough economic conditions. While cybersecurity spending is unlikely to be slashed right away, any company facing a dire outlook will be forced to make difficult choices to bring costs down. But compared to other types of enterprise-software providers, CrowdStrike should hold up better than most.\\nOne thing to note is that CrowdStrike stock is expensive. With a market capitalization near $40 billion, the stock trades for around 13 times forward sales and more than 50 times forward-adjusted earnings. This sky-high valuation leaves little room for error.\\nCrowdStrike stock may be volatile, but the company is well positioned to continue to grow regardless of the economic backdrop.\\nInternational Business Machines\\nIBM is not a fast-growing company. The tech giant expects to grow revenue by between 3% and 5% this year after adjusting for currency. Its fortunes are partly tied to global IT spending, which can ebb and flow with the global economy.\\nIBM sells software, hardware, and consulting services, but there's a common thread running through all those businesses. Clients look to IBM to help them save money, boost productivity, and eke out efficiencies. While demand for some types of products and services will falter as economic conditions deteriorate, demand for others will rise as customers focus on doing more with less.\\nIBM's hybrid cloud-computing effort, which spans all its segments and is anchored by Red Hat's software platform, is a great example. Companies move to the cloud to save money, simplify operations, and make deploying and iterating faster and easier. For any big organization with a sprawling IT infrastructure, any kind of digital-transformation project is complex. IBM's consulting arm provides guidance and know-how, and its software arm provides the underlying platform. IBM isn't selling a service; it's selling a solid return on investment through lower costs or improved productivity.\\nIn Q2, IBM noted that demand for discretionary projects from clients was waning, particularly in the U.S. However, demand for large transformation projects that had clear and well-defined benefits for clients remained strong. The net result was solid revenue growth and expanding profit margins. IBM expects its free cash flow to expand by about $1 billion to $10.5 billion this year despite an uncertain economic environment.\\nLike CrowdStrike, IBM is not immune from a severe downturn. But in a mild recession where companies are still willing to invest in big tech projects aimed at reducing costs, IBM should do just fine. The stock is not particularly expensive, trading for just 12 times free-cash-flow guidance. For investors with some patience, buying and holding looks like a good move.\"),\n",
       " (NewsLink(title='2 Top Dividend Stocks To Watch Right Now', url='https://stockmarket.com/featured/2-top-dividend-stocks-to-watch-right-now-2023-10-11', summary=\"Dividends symbolize the tangible rewards that come from investing in the stock market. They represent a company's decision to distribute a part of its earnings back to its shareholders. While some companies might reinvest their profits to fuel expansion or reduce debt, others recognize the value ...\", overall_sentiment_score=0.301783, ticker_sentiment=[TickerSentiment(ticker='IBM', relevance_score=0.471856, ticker_sentiment_score=0.444226), TickerSentiment(ticker='WBA', relevance_score=0.42503, ticker_sentiment_score=0.283201)]),\n",
       "  'Dividends symbolize the tangible rewards that come from investing in the stock market. They represent a company’s decision to distribute a part of its earnings back to its shareholders. While some companies might reinvest their profits to fuel expansion or reduce debt, others recognize the value of giving back. They do this by using dividends as a means to share their success. These payouts can come in various forms. For example, as cash or additional stock shares. Furthermore, this typically occurs on a fixed schedule, often quarterly.\\nDividend stocks are particularly attractive to a subset of investors who prioritize steady income over potential capital gains. The allure of these stocks lies not just in the immediate returns from the periodic payouts. But also in the typically lower volatility associated with dividend-paying companies. Such firms are often well-established with a robust financial structure, making them relatively stable in turbulent market conditions. For retirees or those nearing retirement, these stocks offer a way to derive consistent income. While still participating in the market’s potential appreciation.\\nHowever, investing in dividend stocks isn’t as simple as selecting companies with the highest yields. A high dividend yield can sometimes be a red flag, indicating potential underlying issues within the company. Therefore, successful dividend investing requires a balanced approach, focusing on the stability of the dividend, the health of the company, and the sustainability of its payout ratio. Moreover, understanding the tax implications of dividends and the overall sectoral trends can influence dividend payouts. This makes it essential for potential investors to undertake comprehensive research before diving into this investment strategy. That said, here are two dividend stocks to watch in the stock market right now.\\nDividend Stocks To Watch In The Stock Market Now\\n- International Business Machines Corporation (NYSE: IBM)\\n- Walgreens Boots Alliance Inc. (NASDAQ: WBA)\\nInternational Business Machines Corp. (IBM Stock)\\nTo begin, International Business Machines Corporation (IBM), commonly known as IBM, is a global technology and consulting company. With a history that spans over a century, IBM specializes in providing hardware, software, cloud-based services, and cognitive computing solutions for a diverse range of industries. Currently, IBM offers its shareholders a quarterly dividend of $1.66, which results in an annual dividend yield of 4.66%.\\nEarlier this month, IBM announced its collaboration with the UN Energy Compact through the IBM Sustainability Accelerator Clean Energy cohort. This initiative, launched in 2022, aims to address pressing clean energy concerns, including electricity access, energy transition, and renewable strategies, aligned with the UN’s goal of ensuring universal access to sustainable energy by 2030. IBM’s technology and expertise are being employed across various regions, including Africa, Japan, and Canada, with an emphasis on supporting vulnerable communities facing environmental threats.\\nIn the last six months of trading, shares of IBM stock are up 9.50%. Meanwhile, during Wednesday morning’s trading session, IBM stock opened higher by 0.49% at $142.81 a share.\\n[Read More] 3 Defense Stocks For Your October 2023 Watchlist\\nWalgreens Boots Alliance (WBA Stock)\\nNext, Walgreens Boots Alliance Inc. (WBA) is a multinational health and wellness company, playing a central role in both the pharmacy and retail sectors. The company operates one of the largest pharmacy chains in the U.S. and has a significant presence worldwide, offering a range of products and services related to health and well-being. Today, WBA offers its shareholders a quarterly dividend in the amount of $0.48, which results in an annual dividend yield of 8.47%.\\nOn Tuesday this week, Walgreens announced the appointment of Tim Wentworth as their new Chief Executive Officer, effective from October 23. Mr. Wentworth, who boasts nearly thirty years of leadership in the healthcare sector, will also join the Walgreens Boots Alliance (WBA) Board of Directors. Before this appointment, Wentworth served as the founding CEO of Evernorth, a health services branch of Cigna. He also previously held the position of CEO at Express Scripts, a major pharmacy benefit manager in the U.S., transforming it into a prominent company with over $100 billion in revenue.\\nIn the last month of trading, shares of WBA stock have started to recover by 5.73%, though year-to-date, WBA stock have fallen by 30.51% so far. Meanwhile, during Wednesday morning’s trading session, WBA stock is trading up on the day so far by 1.22% at $22.65 a share.\\nIf you enjoyed this article and you’re interested in learning how to trade so you can have the best chance to profit consistently then you need to checkout this YouTube channel. CLICK HERE RIGHT NOW!!'),\n",
       " (NewsLink(title='Best Stocks To Invest In Right Now? 3 High Dividend Stocks To Watch', url='https://stockmarket.com/featured/best-stocks-to-invest-in-right-now-3-high-dividend-stocks-to-watch-2023-09-28', summary=\"Dividends are like bonuses for investors who want a regular income on top of any increase in their stock's value. Simply put, dividends are a part of a company's earnings given to shareholders, usually every three months.\", overall_sentiment_score=0.308506, ticker_sentiment=[TickerSentiment(ticker='IBM', relevance_score=0.450354, ticker_sentiment_score=0.360786), TickerSentiment(ticker='PXD', relevance_score=0.330876, ticker_sentiment_score=0.280094), TickerSentiment(ticker='PRU', relevance_score=0.202366, ticker_sentiment_score=0.126306)]),\n",
       "  'Dividends are like bonuses for investors who want a regular income on top of any increase in their stock’s value. Simply put, dividends are a part of a company’s earnings given to shareholders, usually every three months. Many see investing in these dividend-paying stocks as a smart move because it provides both safety and a steady income.\\nNowadays, there are stocks called “high-yield dividend stocks” that offer bigger dividends. But with the bigger rewards come bigger risks. So, if someone is thinking of investing in these high-yield stocks, they need to do their homework.\\nChoosing the right kind of dividend stock isn’t just about picking the one with the biggest payout. It’s vital to understand how the company works if it can keep paying that dividend, and what its future looks like. Other big-picture stuff, like the overall economy and what’s happening in that company’s industry, can affect the dividend too. Considering all this, here are three high-yield dividend stocks that are trending in the stock market now.\\nHigh Dividend Stocks To Watch Right Now\\n- Prudential Financial Inc. (NYSE: PRU)\\n- Pioneer Natural Resources Company (NYSE: PXD)\\n- International Business Machines Corporation (NYSE: IBM)\\nPrudential Financial (PRU Stock)\\nFirst up, Prudential Financial Inc. (PRU) is a multinational financial services leader known for its wide array of insurance, investment management, and other financial products and services. They cater to both individual and institutional customers. Currently, the company offers shareholders a quarterly dividend of $1.25 per common share, which equates to an annual dividend yield of 5.27%.\\nAt the beginning of last month, Prudential reported its second quarter 2023 financial results. Diving in, the company posted Q2 2023 earnings of $2.94 per share with revenue of $12.64 billion. This is versus analysts’ consensus estimates which were earnings per share of $3.04 with revenue estimates of $12.66 billion.\\nMoreover, during Thursday’s mid-morning trading session, shares of PRU stock are trading higher on the day so far by 0.47% at $94.96 a share.\\n[Read More] Good Stocks To Invest In Now? 3 Copper Stocks To Check Out\\nPioneer Natural Resources (PXD Stock)\\nSecond, Pioneer Natural Resources Company (PXD) stands as an industry-leading energy firm, specializing in the exploration, development, and production of oil and gas. Their primary operations are situated in the Permian Basin of West Texas. As of today, PXD has a quarterly dividend of $4.12, which results in an annual dividend yield of 7.00%.\\nJust last month, Pioneer Natural Resources announced a better-than-expected second quarter of 2023 financial results. In detail, the company notched in Q2 2023 earnings of $4.49 per share, with revenue of $4.60 billion. This is compared to Wall Street’s estimates for the quarter which were earnings of $4.12 per share, on revenue of $3.58 billion.\\nAdditionally, during Thursday’s late-morning trading session, shares of PXD stock are trading up on the day so far by 0.64% at $235.28 per share.\\n[Read More] 3 Dow Jones Industrial Average Stocks To Watch Ahead Of October 2023\\nInternational Business Machines Corp. (IBM Stock)\\nFinally, International Business Machines Corporation (IBM), widely recognized as IBM, is a global technology and consulting powerhouse. They provide a broad spectrum of solutions in software, hardware, and services. Today, IBM has a quarterly dividend of $1.66, which equals an annual dividend yield of 4.71%.\\nToday, Thursday, IBM announced the launch of its Watsonx Granite model series, a set of generative AI models designed to enhance business applications and processes. This release underscores IBM’s commitment to incorporating generative AI into the business landscape. In addition to the new models, IBM is extending its usual intellectual property protections to these AI models and has also shared detailed information about the training data sets used for these Granite models to promote transparency and responsible AI practices.\\nMeanwhile, during Thursday’s late morning trading session, shares of IBM stock are trading lower so far by 1.55% at $140.95 a share.\\nIf you enjoyed this article and you’re interested in learning how to trade so you can have the best chance to profit consistently then you need to checkout this YouTube channel. CLICK HERE RIGHT NOW!!'),\n",
       " (NewsLink(title='Best Cheap Stocks To Buy Now? 2 Quantum Computing Stocks To Know', url='https://stockmarket.com/featured/best-cheap-stocks-to-buy-now-2-quantum-computing-stocks-to-know-2023-07-27', summary=\"In the ever-evolving landscape of technology, one sector that is capturing the attention of investors and industry experts alike is quantum computing. This revolutionary approach to computing is pushing boundaries of what's currently possible, transforming the way data is processed.\", overall_sentiment_score=0.292088, ticker_sentiment=[TickerSentiment(ticker='THNOF', relevance_score=0.07913, ticker_sentiment_score=0.129093), TickerSentiment(ticker='IBM', relevance_score=0.448842, ticker_sentiment_score=0.423766), TickerSentiment(ticker='HON', relevance_score=0.448842, ticker_sentiment_score=0.357747)]),\n",
       "  'In the ever-evolving landscape of technology, one sector that is capturing the attention of investors and industry experts alike is quantum computing. This revolutionary approach to computing is pushing boundaries of what’s currently possible, transforming the way data is processed. Quantum computing leverages principles of quantum mechanics to process information at an exponentially faster rate compared to traditional computers. This breakthrough has the potential to disrupt industries, from cryptography and drug discovery to artificial intelligence and beyond.\\nAs a budding field, quantum computing presents attractive investment opportunities. A handful of publicly traded companies are leading the charge in this sector, pioneering technologies that could redefine our digital age. Investing in quantum computing stocks gives investors the chance to be part of a transformative tech revolution. It is, however, still in its nascent stages with a high degree of risk and uncertainty, as well as tremendous potential for reward.\\nInvesting in quantum computing stocks requires a thorough understanding of the technology and the companies spearheading its development. While the rewards could be substantial for early adopters of this technology, the risks are also significant. Quantum computing is a complex, rapidly evolving field, and its practical, large-scale implementation is still years away. Therefore, potential investors need to conduct careful research, consider expert insights, and closely monitor the developments in this groundbreaking field. That said, let’s look at two quantum computing stocks to watch in the stock market now.\\nQuantum Computing Stocks To Watch Now\\n- Honeywell International Inc. (NASDAQ: HON)\\n- IBM Corporation (NYSE: IBM)\\nHoneywell International (HON Stock)\\nFirst up, Honeywell International (HON) is a globally recognized conglomerate that operates across various sectors, including aerospace, building technologies, performance materials, and safety and productivity solutions. Recently, Honeywell has emerged as a front-runner in the quantum computing industry through its Honeywell Quantum Solutions division.\\nOn Thursday, morning Honeywell reported its most recent second-quarter earnings report. In detail, the company posted Q2 2023 earnings of $2.23 per share, on revenue of $9.15 billion. This was versus consensus estimates for the quarter which were earnings per share of $2.20, along with revenue estimates of $9.18 billion. As a result, revenue increased by 2.16% versus the same period, the previous year.\\nMoreover, during Thursday’s afternoon trading session, shares of HON stock are trading down by 8.60% at $195.86 a share.\\n[Read More] What Stocks To Buy Today? 2 Dow Jones Industrial Average Stocks To Watch\\nIBM Corporation (IBM Stock)\\nNext, International Business Machines Corporation (IBM), is a multinational technology and consulting company. IBM is acknowledged for its continual innovation in technology, with significant contributions in fields like artificial intelligence through IBM Watson, cloud computing, and, notably, quantum computing.\\nJust last week, IBM also announced its most recent second quarter 2023 financial results. Diving in, the company reported Q2 2023 earnings per share of $2.18 and revenue of $15.48 billion. For context, analysts’ consensus estimates for the quarter were earnings of $2.00 per share, on revenue estimates of $15.56 billion.\\nClosing out Thursday’s trading session, shares of IBM stock closed the day up 1.34% at $142.95 a share.\\nIf you enjoyed this article and you’re interested in learning how to trade so you can have the best chance to profit consistently then you need to checkout this YouTube channel. CLICK HERE RIGHT NOW!!'),\n",
       " (NewsLink(title='2 Cheap Tech Stocks to Buy Hand Over Fist', url='https://www.fool.com/investing/2023/08/01/2-cheap-tech-stocks-to-buy-hand-over-fist/', summary='AT&T and IBM still look like great deals in a rising stock market.', overall_sentiment_score=0.075294, ticker_sentiment=[TickerSentiment(ticker='T', relevance_score=0.355588, ticker_sentiment_score=-0.07571), TickerSentiment(ticker='VZ', relevance_score=0.05257, ticker_sentiment_score=-0.106024), TickerSentiment(ticker='IBM', relevance_score=0.402135, ticker_sentiment_score=0.251597)]),\n",
       "  \"The stock market has surged this year, and tech stocks have done particularly well. While the S&P 500 is up about 19% year to date, the tech-heavy Nasdaq Composite has soared roughly 37 %.\\nThe number of tech stocks that look cheap relative to earnings or free cash flow has shrunk as the stock market has rallied. However, there are still some good options for value investors. Telecom giant AT&T (T 1.92%) and hybrid cloud leader International Business Machines (IBM 1.23%) remain solid bargains in a rising market.\\nAT&T\\nWhile rival Verizon continues to lose consumer wireless customers, AT&T is having little trouble snagging new subscribers. The telecom giant added 326,000 net postpaid phone subscribers during the second quarter, and it tacked on 167,000 prepaid subscribers as well. Importantly, the company's churn rate remained low. For postpaid phones, churn was just 0.79%.\\nBeyond the wireless business, AT&T's fiber internet business is now big enough to largely offset ongoing declines in legacy wireline services. The company added 251,000 fiber customers in the second quarter, bringing the total customer count to 7.7 million. The consumer fiber business now generates more than $1.5 billion in revenue each quarter, and the average revenue per user has been steadily increasing.\\nWhile AT&T's growth strategy is working, there are two major risks to consider. First, the company's balance sheet is overflowing with debt. Net debt stood at $132 billion at the end of the second quarter. AT&T is working to reduce this debt, but it will be a slow process. The interest AT&T pays may ultimately trend upward because of rising rates as old debt is refinanced, potentially putting pressure on free cash flow.\\nSecond, AT&T faces an unknown exposure to the Federal investigation into lead-covered telecom cables. The company has said that less than 10% of its network uses lead-covered cables, and that most such cables are either buried or in conduit. But there's always the chance that this blows up into a nightmare involving legal settlements and costly mitigation.\\nWhile investors shouldn't ignore these risks, AT&T's rock-bottom valuation provides a big margin of safety. The company expects to generate at least $16 billion of free cash flow this year, which puts the price-to-free-cash-flow ratio at a paltry 6.5. A dividend yield that tops 7.5% is also enticing.\\nFree cash flow growth may be slowed down by a tough economy and rising interest payments, but AT&T stock is so cheap that it barely matters.\\nInternational Business Machines\\nIBM's decade-long turnaround has been gaining traction, fueled by the company's hybrid cloud computing business. The tech giant, now unencumbered by the low-margin managed infrastructure services business it spun off in 2021, is in a far better position today than it was even a few years ago.\\nThere are still plenty of legacy businesses within IBM, including transaction processing software and mainframe systems. But three-quarters of revenue now comes from software and consulting, and half of all revenue is now recurring in nature.\\nNon-transaction-processing software revenue grew by 7% year over year in the second quarter adjusted for currency, led by double-digit growth for Red Hat, data analytics, and AI. Red Hat's OpenShift is a leading containerization platform that forms the foundation of IBM's hybrid cloud offerings, and the company is looking to grow its AI business with the launch of its watsonx platform this year.\\nThe consulting business is also growing, with revenue up 6% in the second quarter. While IBM is seeing less interest among clients in some areas due to a tough economy, digital transformation projects that can deliver significant cost savings and efficiency gains remain in demand. Big organizations looking to modernize their IT operations need not only software but also guidance. IBM can deliver both.\\nOn top of growing revenue by 3% to 5% this year adjusted for currency, IBM expects to boost its free cash flow by more than $1 billion to $10.5 billion . The stock trades for just over 12 times this free cash flow guidance. That's not nearly as cheap as AT&T, but IBM faces fewer risks and will likely prove more resilient in a recession. For investors searching for value, IBM stock is tough to beat.\"),\n",
       " (NewsLink(title='Amazon Cracks Down on Remote Work: US Employees Reminded of Return-to-Office Rules - Amazon.com  ( NASDAQ:AMZN ) ', url='https://www.benzinga.com/news/23/08/33755088/amazon-cracks-down-on-remote-work-us-employees-reminded-of-return-to-office-rules', summary=\"Amazon.Com, Inc AMZN became the latest company to crack the whip on its return-to-office policy for U.S. workers who have been working remotely. The company emailed some U.S. employees reminding them of their noncompliance with Amazon's policy of spending at least three days a week in the office, ...\", overall_sentiment_score=0.159102, ticker_sentiment=[TickerSentiment(ticker='BLK', relevance_score=0.371523, ticker_sentiment_score=0.386783), TickerSentiment(ticker='ZM', relevance_score=0.532043, ticker_sentiment_score=0.279351), TickerSentiment(ticker='CMG', relevance_score=0.371523, ticker_sentiment_score=0.386783), TickerSentiment(ticker='IBM', relevance_score=0.371523, ticker_sentiment_score=0.344474)]),\n",
       "  \"Amazon.Com, Inc AMZN became the latest company to crack the whip on its return-to-office policy for U.S. workers who have been working remotely.\\nThe company emailed some U.S. employees reminding them of their noncompliance with Amazon's policy of spending at least three days a week in the office, Bloomberg reports.\\nAlso Read: New Era In Commercial Real Estate? Amazon Taps We-Work For Expansion Of Office Space In London\\nOther companies, like International Business Machines Corp IBM and Zoom Video Communications, Inc ZM, went aggressive on their remote work policies encouraging employees to spend more time in the office.\\nZoom recently urged employees living near an office to report on-site for two days a week.\\nThis trend extends beyond tech companies; even traditional companies like Chipotle Mexican Grill, Inc CMG and BlackRock, Inc BLK have increased office attendance requirements.\\nDespite the pandemic recovery, many employees prefer remote work.\\nMcKinsey Global Institute reported that office attendance is still around 30% below pre-pandemic levels.\\nPrice Action: AMZN shares are trading higher by 0.02% at $138.58 on the last check Friday.\\nDisclaimer: This content was partially produced with the help of AI tools and was reviewed and published by Benzinga editors.\\n© 2024 Benzinga.com. Benzinga does not provide investment advice. All rights reserved.\\nComments\\nTrade confidently with insights and alerts from analyst ratings, free reports and breaking news that affects the stocks you care about.\"),\n",
       " (NewsLink(title='2 Bargain Artificial Intelligence Stocks to Buy Now', url='https://www.fool.com/investing/2023/08/23/2-bargain-artificial-intelligence-stocks-to-buy-no/', summary='These AI stocks have so far been left behind.', overall_sentiment_score=0.187208, ticker_sentiment=[TickerSentiment(ticker='IBM', relevance_score=0.367865, ticker_sentiment_score=0.190539), TickerSentiment(ticker='INTC', relevance_score=0.441524, ticker_sentiment_score=0.245961)]),\n",
       "  \"Given the run-up in stocks that benefit from booming interest in artificial intelligence (AI), bargains aren't exactly plentiful. But there are a few AI stocks that haven't yet won over investors. Intel (INTC 1.24%) and International Business Machines (IBM 1.23%) have both put AI at the forefront, and both stocks look like great deals for long-term investors.\\nIntel\\nIntel stock doesn't look cheap, based on the company's current results. A gloomy PC market has been knocking down Intel's revenue and profit this year, and the company has been losing market share to rival AMD in the server chip market. Based on the average analyst estimate for full-year earnings per share, Intel stock trades at a price-to-earnings ratio of nearly 60.\\nBut Intel's bottom line has the potential to soar in the coming years for multiple reasons. First, the PC market is finally starting to bottom out, with inventory levels among Intel's customers largely back to healthy levels. While the PC isn't Intel's best growth opportunity, it remains a core market for the company.\\nSecond, Intel can regain market share in the server CPU market, thanks to its aggressive manufacturing roadmap. The company struggled to bring its latest Sapphire Rapids server chips to market, and chronic delays helped AMD steal share.\\nBy the end of 2024, Intel expects to have regained its manufacturing advantage over TSMC. Combined with multiple upcoming server CPU launches, the company should be able to knock back AMD in the server CPU market.\\nThose investments in manufacturing will also fuel Intel's efforts to build its own foundry business. The company is going after customers that need the most advanced process nodes available with its aggressive manufacturing push, and it's also leaning on modified versions of mature processes to score customers looking for cost-effective solutions. The global semiconductor foundry market could top $200 billion by 2028, representing a massive growth opportunity for Intel.\\nWhere does artificial intelligence come in? Everywhere.\\nIn the PC market, Intel's upcoming Meteor Lake chips will be its first with built-in AI acceleration. These chips, manufactured on the Intel 4 process, will sport what Intel is calling a VPU. The VPU can handle certain AI tasks that would typically be handled by the CPU or GPU, such as noise suppression in video calls, freeing up resources, and leading to a generally snappier experience for users.\\nIn the server market, Intel is going after the AI opportunity in two ways: Sapphire Rapids CPUs come with AI accelerators for light-duty AI tasks and the company's server GPUs and specialized Gaudi AI chips can be used for heavy-duty AI training.\\nGaudi is leading the way, driving much of the 6x increase in Intel's AI accelerator pipeline in the second quarter. On top of selling its own AI accelerators, Intel's foundry business could potentially manufacture AI chips for other companies down the road.\\nWhile Intel stock looks expensive today, the company's profits have the potential to rocket higher, thanks to a recovering PC market, a soon-to-be-booming foundry business, and the growth opportunities presented by the surge in demand for AI accelerators.\\nInternational Business Machines\\nIBM has been in the AI weeds for a long time. While the company hasn't been in the spotlight as large language models proliferate, IBM's 2011 Jeopardy! victory with its Watson question-answering system was an impressive feat at the time.\\nTurning that achievement into a real business has been a struggle for IBM. The company tried and failed to apply its Watson AI technology to the healthcare industry, for example, ultimately selling the Watson Health business last year.\\nIBM's AI strategy is now focused on what the company does best: helping its customers succeed. While AI is infused into various parts of IBM's sprawling software segment, the company's watsonx platform looks particularly promising.\\nUsing watsonx, IBM's customers can train and deploy advanced AI models while greatly reducing the risks associated with this powerful technology. Enterprises deploying AI need to worry about legal and regulatory issues, and watsonx takes those concerns largely off the table.\\nIBM's consulting arm is also a big part of its AI strategy. Just like in the company's hybrid cloud computing business, providing a software platform isn't enough on its own. Enterprise customers often need guidance and help with implementation. With more than 1,000 AI experts within its consulting organization, IBM will be able to lead its customers to the AI era.\\nThis AI tailwind should help IBM consistently grow revenue in the years ahead. For 2023, the company expects constant-currency revenue growth between 3% and 5%. That doesn't sound all that impressive, but remember that many enterprise-facing technology companies are seeing customers become more cautious about spending in an uncertain economy.\\nIBM also expects to generate $10.5 billion in free cash flow this year. Based on the current market capitalization of about $130 billion, IBM sports a price-to-free-cash-flow ratio of just over 12. That looks like a solid deal even without the AI opportunity, and it's an even better deal given IBM's AI potential.\\nIBM isn't the most exciting AI stock, but the company is in a great position to win over enterprises looking to jump aboard the AI train.\"),\n",
       " (NewsLink(title='3 High-Yield Tech Stocks to Buy in July', url='https://www.fool.com/investing/2023/07/07/3-high-yield-tech-stocks-to-buy-in-july/', summary='Investors can enjoy 3% to 5% dividend yields from these proven tech stocks.', overall_sentiment_score=0.338281, ticker_sentiment=[TickerSentiment(ticker='IBM', relevance_score=0.359014, ticker_sentiment_score=0.232417), TickerSentiment(ticker='KD', relevance_score=0.061949, ticker_sentiment_score=0.124263), TickerSentiment(ticker='CSCO', relevance_score=0.184363, ticker_sentiment_score=0.198026)]),\n",
       "  \"July is the month when Americans celebrate freedom each year. Passive income from dividends can be a powerful tool for investors working toward financial independence.\\nIt might seem counterintuitive to look at the technology sector when you're talking about dividend stocks, but some very fundamentally sound tech stocks can offer generous dividend yields at today's prices.\\nHere are three names you can consider adding to any long-term dividend portfolio this month.\\n1. HP\\nYou might be familiar with HP (HPQ 0.89%), which sells computers, printers, supplies, and services for personal and commercial uses. The company's history goes back to the earliest tech days, with its founding in 1939. HP has raised its dividend for 14 consecutive years, and the dividend yield is a solid 3.4%. More importantly, management has hit the accelerator, issuing more aggressive increases in recent years while keeping the dividend payout ratio manageable at 45%.\\nAnalysts believe HP will grow earnings per share (EPS) by an average of 4% annually over the next three to five years. That growth won't light the world on fire, but HP's stock is reasonably valued at just 9 times earnings, and the anticipated growth is enough to continue supporting solid dividend growth over the coming years.\\n2. Cisco Systems\\nThe world is becoming increasingly digital, which could mean big things for a networking solutions company like Cisco Systems (CSCO 0.13%). The company sells hardware, software, and services for creating and operating secure networks. Cisco's dividend yields a solid 3% at today's share prices, and management's raised the payout for 13 consecutive years. You can see below that the company pulled back on dividend growth over the past few years but could reasonably expect more significant increases moving forward. The payout ratio has fallen to just 37%, its lowest in recent memory.\\nThose future dividend increases should come with the support of solid earnings growth, which analysts believe will average between 6% and 7% annually over the next three to five years. Additionally, Cisco is transitioning to a recurring revenue model by selling software subscriptions and service contracts. Approximately $23.8 billion of its $55 billion in annual revenue is recurring, which should make its financials more predictable and bode well for its dividend stability. The company's solid growth outlook and recurring sales model arguably justify the stock's current price-to-earnings ratio (P/E) of 14.\\n3. International Business Machines\\nWhile no longer the technology powerhouse it was in the 1980s and 1990s, International Business Machines (IBM 1.23%) remains very relevant. Its business today focuses on cloud and hybrid computing, software, and consulting. IBM's stock offers investors the highest yield of these three names, roughly 5% at its current share price. Additionally, IBM has the longest dividend growth streak at 28 years of consecutive increases. You might notice that dividend growth has slowed in recent years as the payout ratio increased, but it's begun recovering and the payout ratio is back down to 66%.\\nMost high-yield dividend stocks don't grow very quickly, but you want to see a dividend at least keep up with inflation. Fortunately, the lower payout ratio gives IBM more flexibility moving forward, and analysts are looking for approximately 4% in annual earnings growth over the coming years.\\nThe stock trades at 14 times earnings, which seems fair given its conservative growth outlook. IBM has been restructuring to position itself for long-term growth, including hiring a new CEO in 2020, spinning off its infrastructure services business as Kyndryl, and leaning into higher-growth software applications via products like Red Hat and IBM Watson.\"),\n",
       " (NewsLink(title=\"Nvidia-Backed Open-Source AI Startup Reaches $4.5B Valuation with Tech Titans' Support - Advanced Micro Devices  ( NASDAQ:AMD ) , Amazon.com  ( NASDAQ:AMZN ) \", url='https://www.benzinga.com/news/23/08/34042661/nvidia-backed-open-source-ai-startup-reaches-4-5b-valuation-with-tech-titans-support', summary=\"Nvidia Corp NVDA backed open-source AI firm Hugging Face raised $235 million at a $4.5 billion valuation from some of technology's biggest companies.\", overall_sentiment_score=0.39065, ticker_sentiment=[TickerSentiment(ticker='MSFT', relevance_score=0.407844, ticker_sentiment_score=0.453963), TickerSentiment(ticker='GOOG', relevance_score=0.407844, ticker_sentiment_score=0.51417), TickerSentiment(ticker='META', relevance_score=0.407844, ticker_sentiment_score=-0.329291), TickerSentiment(ticker='NVDA', relevance_score=0.279015, ticker_sentiment_score=0.32275), TickerSentiment(ticker='IBM', relevance_score=0.279015, ticker_sentiment_score=0.401722), TickerSentiment(ticker='QCOM', relevance_score=0.279015, ticker_sentiment_score=0.401722), TickerSentiment(ticker='INTC', relevance_score=0.279015, ticker_sentiment_score=0.401722), TickerSentiment(ticker='AMD', relevance_score=0.279015, ticker_sentiment_score=0.401722)]),\n",
       "  'Nvidia Corp NVDA backed open-source AI firm Hugging Face raised $235 million at a $4.5 billion valuation from some of technology\\'s biggest companies.\\nThe other backers included Alphabet Inc GOOG GOOGL Google, Amazon.Com Inc AMZN, Salesforce, Inc CRM, Advanced Micro Devices, Inc AMD, Intel Corp INTC, International Business Machines Corp IBM and Qualcomm Inc QCOM contributed to the funding round. Hugging Face CEO Clement Delangue said the funds will help hire talent to compete in the artificial intelligence space, CNBC reports.\\nStartups working on AI models saw soaring valuations courtesy of Microsoft Corp MSFT-backed OpenAI\\'s release of its ChatGPT chatbot.\\nHugging Face\\'s extensive valuation and crop of prominent backers reflect the effectiveness of a collaborative approach to AI building.\\nFacebook parent Meta Platforms Inc META intensified the AI rivalry with its open-source Llama large language model.\\nOther highly valued AI startups, like OpenAI or Cohere, work on the technology directly and charge customers to access them through application programming interfaces or APIs.\\nHugging Face is similar in theme and practice to code-repository GitHub (which Microsoft acquired in 2018), where coders worldwide post their projects while working on them.\\n\"AI builders are using Hugging Face all day, every day,\" Delangue said. He predicted that the number of software developers working with AI models would grow in the coming years.\\n© 2024 Benzinga.com. Benzinga does not provide investment advice. All rights reserved.\\nComments\\nTrade confidently with insights and alerts from analyst ratings, free reports and breaking news that affects the stocks you care about.')]"
      ]
     },
     "execution_count": 58,
     "metadata": {},
     "output_type": "execute_result"
    }
   ],
   "source": [
    "from itertools import islice\n",
    "from llm_agents_introduction.alpha_vantage import NewsLink\n",
    "from llm_agents_introduction.article_summarization import news_links_with_text\n",
    "\n",
    "links_with_text: list[(NewsLink, str)] = list(\n",
    "    islice(news_links_with_text(related_news), 30)\n",
    ")\n",
    "\n",
    "links_with_text"
   ]
  },
  {
   "cell_type": "code",
   "execution_count": 59,
   "metadata": {},
   "outputs": [
    {
     "name": "stdout",
     "output_type": "stream",
     "text": [
      "Stock price shows a general upward trend with some fluctuations.\n",
      "Summarizing article: IBM Stock Inches Higher On Q3 Earnings: The Details - IBM  ( NYSE:IBM ) \n",
      "Summarizing article: IBM Considers Using In-House AI Chips to Reduce Cloud Service Costs - IBM  ( NYSE:IBM ) \n",
      "Summarizing article: IBM Extends Partnership With Microsoft To Accelerate Generative AI Deployment - IBM  ( NYSE:IBM ) \n",
      "Summarizing article: IBM's Portfolio Makeover - Divests Weather Company Assets To Francisco Partners - IBM  ( NYSE:IBM ) \n",
      "Summarizing article: IBM Dumps Weather Business as Transformation Continues\n",
      "Summarizing article: IBM's Double-Digit Growth In TP And Data & AI Not Sustainable, Predicts Analyst - IBM  ( NYSE:IBM ) \n",
      "Summarizing article: IBM Had A Strong Q3, But Some Analysts Have Lowered Estimates On The Stock - Here's Why - IBM  ( NYSE:IBM ) \n",
      "Summarizing article: This Dividend Stock Yielding 5% Is a Screaming Buy\n",
      "Summarizing article: Could IBM Stock Soar 30%?\n",
      "Summarizing article: This Dividend Stock Is a Safe Bet, Regardless of Market Conditions\n"
     ]
    },
    {
     "data": {
      "text/plain": [
       "[(NewsLink(title='IBM Stock Inches Higher On Q3 Earnings: The Details - IBM  ( NYSE:IBM ) ', url='https://www.benzinga.com/news/earnings/23/10/35425759/ibm-stock-inches-higher-on-q3-earnings-the-details', summary=\"International Business Machines Corp IBM reported third-quarter financial results after the bell. Here's a look at the key highlights from the quarter. Q3 Earnings: IBM said third-quarter revenue increased 4.6% year-over-year to $14.8 billion, versus the consensus estimate of $14.728 billion, ...\", overall_sentiment_score=0.280396, ticker_sentiment=[TickerSentiment(ticker='IBM', relevance_score=0.876064, ticker_sentiment_score=0.372697)]),\n",
       "  ['IBM reported third-quarter revenue increased 4.6% year-over-year to $14.8 billion, surpassing the consensus estimate.',\n",
       "   'The company reported quarterly adjusted earnings of $2.20 per share, beating estimates of $2.13 per share.',\n",
       "   \"IBM's software and consulting revenue showed significant growth, with software revenue up 8% and consulting revenue up 6% year-over-year.\"]),\n",
       " (NewsLink(title='IBM Considers Using In-House AI Chips to Reduce Cloud Service Costs - IBM  ( NYSE:IBM ) ', url='https://www.benzinga.com/news/23/07/33197115/ibm-considers-using-in-house-ai-chips-to-reduce-cloud-service-costs', summary='International Business Machines Corp IBM is weighing the use of artificial intelligence chips designed in-house to lower the costs of operating a cloud computing service it made available this week.', overall_sentiment_score=0.075997, ticker_sentiment=[TickerSentiment(ticker='SSNLF', relevance_score=0.259727, ticker_sentiment_score=0.0), TickerSentiment(ticker='IBM', relevance_score=0.864226, ticker_sentiment_score=0.164198), TickerSentiment(ticker='NVDA', relevance_score=0.259727, ticker_sentiment_score=0.0)]),\n",
       "  ['IBM is considering using in-house AI chips to reduce the costs of operating its new \"Watsonx\" cloud service, which could improve profitability and attract more customers.',\n",
       "   'The company is looking to capitalize on the generative AI technologies boom, which could drive future revenue growth.',\n",
       "   'IBM plans to replace nearly 8,000 jobs with AI, starting with back-office functions, potentially leading to significant cost savings.']),\n",
       " (NewsLink(title='IBM Extends Partnership With Microsoft To Accelerate Generative AI Deployment - IBM  ( NYSE:IBM ) ', url='https://www.benzinga.com/markets/equities/23/08/33894634/ibm-extends-partnership-with-microsoft-to-accelerate-generative-ai-deployment', summary='International Business Machines Corp IBM disclosed partnership expansion with Microsoft Corp MSFT to aid clients in accelerating the deployment of generative AI. The companies jointly plan to offer clients the expertise and technology to innovate their business processes and expand generative AI ...', overall_sentiment_score=0.330693, ticker_sentiment=[TickerSentiment(ticker='MSFT', relevance_score=0.540042, ticker_sentiment_score=0.508194), TickerSentiment(ticker='IBM', relevance_score=0.860547, ticker_sentiment_score=0.533446)]),\n",
       "  ['IBM extended its partnership with Microsoft to accelerate the deployment of generative AI, which could drive innovation and business transformation.',\n",
       "   'IBM completed its acquisition of Apptio Inc., expected to create significant synergies in key growth areas like automation and AI.',\n",
       "   'IBM reported earnings of $2.18 per share, surpassing the $2.01 estimate, although revenues slightly missed expectations.']),\n",
       " (NewsLink(title=\"IBM's Portfolio Makeover - Divests Weather Company Assets To Francisco Partners - IBM  ( NYSE:IBM ) \", url='https://www.benzinga.com/markets/equities/23/08/34001471/ibms-portfolio-makeover-divests-weather-company-assets-to-francisco-partners', summary='International Business Machines Corporation IBM inked a pact on Tuesday to sell The Weather Company assets to Francisco Partners, a leading global investment firm. Specific terms of the transaction were not disclosed. The Weather Company is the parent of Weather.com, Weather Underground, and ...', overall_sentiment_score=0.092215, ticker_sentiment=[TickerSentiment(ticker='IBM', relevance_score=0.850133, ticker_sentiment_score=0.180423)]),\n",
       "  ['IBM inked a pact to sell The Weather Company assets to Francisco Partners, indicating a strategic focus on core areas like hybrid cloud and AI.',\n",
       "   \"The transaction reflects IBM's continued focus on transformational technologies, which may positively influence investor sentiment.\",\n",
       "   'IBM shares are trading higher by 0.55% following the announcement, suggesting a positive market reaction to the divestiture.']),\n",
       " (NewsLink(title='IBM Dumps Weather Business as Transformation Continues', url='https://www.fool.com/investing/2023/08/23/ibm-dumps-weather-business-as-transformation-conti/', summary='IBM is doing some more streamlining as its strategy gains traction.', overall_sentiment_score=0.10773, ticker_sentiment=[TickerSentiment(ticker='IBM', relevance_score=0.801457, ticker_sentiment_score=0.17306)]),\n",
       "  [\"IBM's strategy shift to focus on hybrid cloud computing and artificial intelligence is starting to show positive results, with expected revenue growth of 3% to 5% and a $1 billion increase in free cash flow.\",\n",
       "   \"The sale of The Weather Company's assets is part of IBM's broader effort to shed non-core businesses and streamline its operations, which could improve overall efficiency and profitability.\",\n",
       "   'Despite economic challenges, IBM is experiencing strong demand for its transformational projects, which aligns with its strategic focus and could drive further growth.']),\n",
       " (NewsLink(title=\"IBM's Double-Digit Growth In TP And Data & AI Not Sustainable, Predicts Analyst - IBM  ( NYSE:IBM ) \", url='https://www.benzinga.com/analyst-ratings/analyst-color/23/07/33309756/ibms-double-digit-growth-in-tp-and-data-ai-not-sustainable-predicts-analyst', summary='BMO Capital Markets analyst Keith Bachman reiterated the Market Perform rating on International Business Machines Corporation IBM, raising the price target to $152 from $150.', overall_sentiment_score=0.199993, ticker_sentiment=[TickerSentiment(ticker='IBM', relevance_score=0.776097, ticker_sentiment_score=0.384459), TickerSentiment(ticker='AWON', relevance_score=0.160633, ticker_sentiment_score=0.0)]),\n",
       "  ['IBM reported second-quarter earnings of $2.18 per share, surpassing the $2.01 Street estimate, which could contribute to the upward trend in stock price.',\n",
       "   'The software segment showed double-digit growth in transaction processing (TP) and Data & AI, which was higher than expected and likely positively impacted the stock price.',\n",
       "   'IBM shares were trading higher by 2.25% following the report, indicating a positive market reaction to the earnings and growth figures.']),\n",
       " (NewsLink(title=\"IBM Had A Strong Q3, But Some Analysts Have Lowered Estimates On The Stock - Here's Why - IBM  ( NYSE:IBM ) \", url='https://www.benzinga.com/analyst-ratings/analyst-color/23/10/35446754/ibm-had-a-strong-q3-but-some-analysts-have-lowered-estimates-on-the-stock-heres-why', summary='BMO Capital Markets analyst Keith Bachman reiterated the Market Perform rating on International Business Machines Corporation IBM, raising the price target to $155 from $152. IBM registered Q3 revenue of $14.752 billion versus estimate of $14.73 billion.', overall_sentiment_score=0.236732, ticker_sentiment=[TickerSentiment(ticker='IBM', relevance_score=0.744646, ticker_sentiment_score=0.382268)]),\n",
       "  ['IBM registered Q3 revenue of $14.752 billion versus an estimate of $14.73 billion, indicating better-than-expected performance.',\n",
       "   'Free Cash Flow (FCF) was above analyst expectations, increasing confidence in IBM reaching its $10.5 billion target for FY23.',\n",
       "   'IBM shares are trading higher by 5.00% to $143.93, reflecting positive market reaction to the Q3 results.']),\n",
       " (NewsLink(title='This Dividend Stock Yielding 5% Is a Screaming Buy', url='https://www.fool.com/investing/2023/07/12/this-dividend-stock-yielding-5-is-a-screaming-buy/', summary='IBM stock is a bargain.', overall_sentiment_score=0.273743, ticker_sentiment=[TickerSentiment(ticker='IBM', relevance_score=0.731269, ticker_sentiment_score=0.403117)]),\n",
       "  [\"IBM's acquisition of Red Hat and the spin-off of its low-margin managed infrastructure services business have simplified and focused the company, leading to revenue growth and increased free cash flow.\",\n",
       "   \"IBM's high-margin software segment, particularly in areas like security, data analytics, artificial intelligence, automation, and hybrid cloud solutions, is driving profitability and recurring revenue.\",\n",
       "   \"IBM's consistent and high dividend yield of 5%, supported by strong free cash flow, makes the stock attractive to income-focused investors, potentially contributing to the upward trend in stock price.\"]),\n",
       " (NewsLink(title='Could IBM Stock Soar 30%?', url='https://www.fool.com/investing/2023/09/25/could-ibm-stock-soar-30/', summary=\"One analyst thinks IBM's software and consulting businesses are not being fully appreciated.\", overall_sentiment_score=0.135639, ticker_sentiment=[TickerSentiment(ticker='IBM', relevance_score=0.718177, ticker_sentiment_score=0.275525), TickerSentiment(ticker='ORCL', relevance_score=0.053629, ticker_sentiment_score=0.08707), TickerSentiment(ticker='AMZN', relevance_score=0.053629, ticker_sentiment_score=0.08707)]),\n",
       "  ['**Analyst Upgrade and Price Target**: RBC Capital\\'s Matthew Swanson initiated coverage with an \"outperform\" rating and a $188 price target, representing a potential 30% upside from the current stock price.',\n",
       "   \"**Business Focus and Growth**: IBM's focus on software and consulting, particularly in hybrid cloud and AI, is driving revenue growth (8% in software and 6% in consulting in the second quarter).\",\n",
       "   \"**Valuation and Financial Health**: IBM's strong free cash flow ($10.5 billion expected this year) and sustainable dividend yield (about 4.5%) make the stock appear undervalued, supporting the potential for future price increases.\"]),\n",
       " (NewsLink(title='This Dividend Stock Is a Safe Bet, Regardless of Market Conditions', url='https://www.fool.com/investing/2023/08/26/this-dividend-stock-safe-bet-regardless-conditions/', summary='With a high yield, investors should think of IBM as the dividend stock of the cloud.', overall_sentiment_score=0.139121, ticker_sentiment=[TickerSentiment(ticker='MSFT', relevance_score=0.12165, ticker_sentiment_score=0.081984), TickerSentiment(ticker='IBM', relevance_score=0.716023, ticker_sentiment_score=0.300816), TickerSentiment(ticker='KD', relevance_score=0.12165, ticker_sentiment_score=0.054284)]),\n",
       "  [\"IBM's pivot into the cloud, including the $34 billion purchase of Red Hat and other cloud-related acquisitions, is driving growth and reinforcing its reliability as a long-term dividend play.\",\n",
       "   \"IBM's strong dividend yield of 4.7%, significantly higher than the S&P 500 average and its larger rivals, makes it an attractive option for income-focused investors, potentially driving up demand for the stock.\",\n",
       "   \"IBM's financial stability, with $16 billion in liquidity and a forecasted $10.5 billion in free cash flow for 2023, suggests a secure dividend and potential for continued stock price growth, even in a sluggish economy.\"])]"
      ]
     },
     "execution_count": 59,
     "metadata": {},
     "output_type": "execute_result"
    }
   ],
   "source": [
    "from typing import Iterator, Optional, Sequence\n",
    "from llm_agents_introduction.chains.news_article_summarizer import (\n",
    "    create_news_article_summarizer,\n",
    "    NewsArticleSummarizerInput,\n",
    ")\n",
    "\n",
    "news_article_summarizer = create_news_article_summarizer()\n",
    "\n",
    "\n",
    "trend = first_annotation[\"notes\"]\n",
    "print(trend)\n",
    "\n",
    "\n",
    "def trend_summary_from_article(\n",
    "    link: NewsLink, text: str\n",
    ") -> Optional[tuple[NewsLink, list[str]]]:\n",
    "    summarizer_input = NewsArticleSummarizerInput(\n",
    "        company_name=company_name, trend=trend, title=link.title, article_content=text\n",
    "    )\n",
    "\n",
    "    print(f\"Summarizing article: {link.title}\")\n",
    "    summary_points = news_article_summarizer.invoke(summarizer_input)\n",
    "\n",
    "    if summary_points:\n",
    "        return link, summary_points\n",
    "    else:\n",
    "        return None\n",
    "\n",
    "\n",
    "def summarize_links(\n",
    "    links_with_text: Sequence[tuple[NewsLink, str]],\n",
    ") -> Iterator[tuple[NewsLink, list[str]]]:\n",
    "    for link, text in links_with_text:\n",
    "        summary = trend_summary_from_article(link, text)\n",
    "        if summary:\n",
    "            yield summary\n",
    "\n",
    "\n",
    "first_summaries = list(islice(summarize_links(links_with_text), 10))\n",
    "\n",
    "first_summaries"
   ]
  },
  {
   "cell_type": "code",
   "execution_count": 60,
   "metadata": {},
   "outputs": [
    {
     "name": "stdout",
     "output_type": "stream",
     "text": [
      "**IBM's Upward Momentum: Earnings, AI, and Strategic Shifts Drive Growth**\n",
      "\n",
      "IBM's stock is climbing, fueled by strong earnings, strategic divestitures, and a focus on AI and cloud services. Beating revenue and earnings estimates, leveraging in-house AI chips, and extending partnerships with tech giants like Microsoft are bolstering investor confidence. High-margin software growth, cost-saving measures, and a robust dividend yield make IBM a compelling buy, despite some analyst caution.\n"
     ]
    }
   ],
   "source": [
    "from llm_agents_introduction.chains.summaries_summarizer import (\n",
    "    create_summaries_summarizer,\n",
    "    SummariesSummarizerInput,\n",
    ")\n",
    "\n",
    "summaries_summarizer = create_summaries_summarizer()\n",
    "\n",
    "final_summarize_input = SummariesSummarizerInput(\n",
    "    trend=trend,\n",
    "    company_name=company_name,\n",
    "    title_with_points=[(link.title, summary) for link, summary in first_summaries],\n",
    ")\n",
    "\n",
    "final_summary = summaries_summarizer.invoke(final_summarize_input)\n",
    "\n",
    "print(final_summary)"
   ]
  }
 ],
 "metadata": {
  "kernelspec": {
   "display_name": ".venv",
   "language": "python",
   "name": "python3"
  },
  "language_info": {
   "codemirror_mode": {
    "name": "ipython",
    "version": 3
   },
   "file_extension": ".py",
   "mimetype": "text/x-python",
   "name": "python",
   "nbconvert_exporter": "python",
   "pygments_lexer": "ipython3",
   "version": "3.12.4"
  }
 },
 "nbformat": 4,
 "nbformat_minor": 2
}

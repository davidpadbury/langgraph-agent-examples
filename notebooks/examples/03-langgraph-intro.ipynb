{
 "cells": [
  {
   "cell_type": "code",
   "execution_count": 2,
   "metadata": {},
   "outputs": [],
   "source": [
    "%load_ext autoreload\n",
    "%autoreload 2"
   ]
  },
  {
   "cell_type": "code",
   "execution_count": 3,
   "metadata": {},
   "outputs": [],
   "source": [
    "from dotenv import load_dotenv\n",
    "\n",
    "if not load_dotenv():\n",
    "    raise FileNotFoundError(\"No .env file found\")"
   ]
  },
  {
   "cell_type": "code",
   "execution_count": 4,
   "metadata": {},
   "outputs": [],
   "source": [
    "from llm_agents_introduction.alpha_vantage import AlphaVantageService\n",
    "from llm_agents_introduction.tools.market_data_tools import create_market_data_tools\n",
    "\n",
    "# create basic set of stock data tools\n",
    "alpha_vantage = AlphaVantageService.create()\n",
    "# slightly more advanced set of stock data tools\n",
    "tools = create_market_data_tools(alpha_vantage)"
   ]
  },
  {
   "cell_type": "code",
   "execution_count": 5,
   "metadata": {},
   "outputs": [],
   "source": [
    "from datetime import date\n",
    "from langchain_openai import ChatOpenAI\n",
    "from langchain_core.prompts import MessagesPlaceholder\n",
    "from langchain_core.prompts.chat import ChatPromptTemplate\n",
    "\n",
    "# define assistant chain\n",
    "model = ChatOpenAI(\n",
    "    model=\"gpt-4o\",\n",
    "    temperature=0,\n",
    ").bind_tools(tools)\n",
    "\n",
    "system_prompt = \"\"\"\n",
    "You are an assistant who answers questions about the stock market.\n",
    "\n",
    "The current date is: {current_date}\n",
    "\"\"\".strip()\n",
    "\n",
    "agent_prompt = ChatPromptTemplate.from_messages(\n",
    "    [\n",
    "        (\"system\", system_prompt),\n",
    "        MessagesPlaceholder(\"messages\"),\n",
    "    ]\n",
    ")\n",
    "\n",
    "agent_chain = (\n",
    "    agent_prompt.partial(current_date=date.today().isoformat()) \n",
    "    | model\n",
    ")"
   ]
  },
  {
   "cell_type": "markdown",
   "metadata": {},
   "source": [
    "## Building a basic agent from scratch\n",
    "\n",
    "LangGraph provides \"prebuilts\" to make these typical simple agents much easier to build than I am demonstrating. This is intended to highlight the foundational components of LangGraph in a simple usecase."
   ]
  },
  {
   "cell_type": "code",
   "execution_count": 6,
   "metadata": {},
   "outputs": [],
   "source": [
    "from typing import Annotated, TypedDict\n",
    "from langgraph.graph import END, StateGraph\n",
    "from langgraph.checkpoint import MemorySaver\n",
    "from langchain_core.messages import BaseMessage\n",
    "import operator\n",
    "from llm_agents_introduction.tools import call_tool\n",
    "\n",
    "\n",
    "# define the state of the graph\n",
    "# note the use of operator.add as a \"reducer\" to make state updates easier\n",
    "class AgentState(TypedDict):\n",
    "    messages: Annotated[list[BaseMessage], operator.add]\n",
    "\n",
    "\n",
    "# define nodes\n",
    "def agent(state: AgentState):\n",
    "    ai_message = agent_chain.invoke(state)\n",
    "\n",
    "    # note how we're only returning the last message\n",
    "    # but due to the application of the reducer the eventual state is the full list of messages\n",
    "    return {\"messages\": [ai_message]}\n",
    "\n",
    "\n",
    "def tool_executor(state: AgentState):\n",
    "    # run the tool calls from the last message\n",
    "    tool_calls = state[\"messages\"][-1].tool_calls\n",
    "    tool_call_messages = [call_tool(tool_call, tools) for tool_call in tool_calls]\n",
    "\n",
    "    return {\"messages\": tool_call_messages}\n",
    "\n",
    "\n",
    "# define graph\n",
    "graph = StateGraph(AgentState)\n",
    "\n",
    "graph.add_node(\"agent\", agent)\n",
    "graph.add_node(\"tool_executor\", tool_executor)\n",
    "\n",
    "graph.set_entry_point(\"agent\")\n",
    "graph.add_conditional_edges(\n",
    "    \"agent\",\n",
    "    lambda state: \"tool_executor\" if state[\"messages\"][-1].tool_calls else END,\n",
    "    [ \"tool_executor\", END ]\n",
    ")\n",
    "graph.add_edge(\"tool_executor\", \"agent\")\n",
    "\n",
    "\n",
    "# create checkpointer\n",
    "checkpointer = MemorySaver()\n",
    "\n",
    "\n",
    "# create app\n",
    "app = graph.compile(checkpointer=checkpointer)"
   ]
  },
  {
   "cell_type": "code",
   "execution_count": 7,
   "metadata": {},
   "outputs": [
    {
     "data": {
      "image/jpeg": "[encoded data removed]",
      "text/plain": [
       "<IPython.core.display.Image object>"
      ]
     },
     "metadata": {},
     "output_type": "display_data"
    }
   ],
   "source": [
    "from IPython.display import Image, display\n",
    "from langchain_core.runnables.graph import MermaidDrawMethod\n",
    "\n",
    "display(\n",
    "    Image(\n",
    "        app.get_graph().draw_mermaid_png(\n",
    "            draw_method=MermaidDrawMethod.API,\n",
    "        )\n",
    "    )\n",
    ")"
   ]
  },
  {
   "cell_type": "code",
   "execution_count": 8,
   "metadata": {},
   "outputs": [
    {
     "name": "stdout",
     "output_type": "stream",
     "text": [
      "{'agent': {'messages': [AIMessage(content='', additional_kwargs={'tool_calls': [{'id': 'call_k7H06ij7nIqYhrUOm1c2Fee2', 'function': {'arguments': '{\"company_name\": \"Apple\"}', 'name': 'search_for_symbol'}, 'type': 'function'}, {'id': 'call_L74VmG3ppLPA5pjQsScs6wbG', 'function': {'arguments': '{\"company_name\": \"Webtoon Entertainment\"}', 'name': 'search_for_symbol'}, 'type': 'function'}]}, response_metadata={'token_usage': {'completion_tokens': 50, 'prompt_tokens': 267, 'total_tokens': 317}, 'model_name': 'gpt-4o-2024-05-13', 'system_fingerprint': 'fp_d33f7b429e', 'finish_reason': 'tool_calls', 'logprobs': None}, id='run-58a97208-4aff-4059-adc4-2067286bcf60-0', tool_calls=[{'name': 'search_for_symbol', 'args': {'company_name': 'Apple'}, 'id': 'call_k7H06ij7nIqYhrUOm1c2Fee2'}, {'name': 'search_for_symbol', 'args': {'company_name': 'Webtoon Entertainment'}, 'id': 'call_L74VmG3ppLPA5pjQsScs6wbG'}], usage_metadata={'input_tokens': 267, 'output_tokens': 50, 'total_tokens': 317})]}}\n",
      "{'tool_executor': {'messages': [ToolMessage(content='[\\n  {\\n    \"symbol\": \"APLE\",\\n    \"name\": \"Apple Hospitality REIT Inc\"\\n  },\\n  {\\n    \"symbol\": \"AAPL\",\\n    \"name\": \"Apple Inc\"\\n  },\\n  {\\n    \"symbol\": \"AGPL\",\\n    \"name\": \"Apple Green Holding Inc\"\\n  }\\n]', tool_call_id='call_k7H06ij7nIqYhrUOm1c2Fee2'),\n",
      "                                ToolMessage(content='[\\n  {\\n    \"symbol\": \"WBTN\",\\n    \"name\": \"Webtoon Entertainment Inc\"\\n  }\\n]', tool_call_id='call_L74VmG3ppLPA5pjQsScs6wbG')]}}\n",
      "{'agent': {'messages': [AIMessage(content='', additional_kwargs={'tool_calls': [{'id': 'call_ppOMugjyTsmCWnu9hc4vYDRL', 'function': {'arguments': '{\"symbol\": \"AAPL\", \"date\": \"2024-07-15\"}', 'name': 'get_share_price_on_date'}, 'type': 'function'}, {'id': 'call_1m4Bn9zWc9tzvnJ5XgG9ZXrg', 'function': {'arguments': '{\"symbol\": \"WBTN\", \"date\": \"2024-07-15\"}', 'name': 'get_share_price_on_date'}, 'type': 'function'}]}, response_metadata={'token_usage': {'completion_tokens': 70, 'prompt_tokens': 393, 'total_tokens': 463}, 'model_name': 'gpt-4o-2024-05-13', 'system_fingerprint': 'fp_dd932ca5d1', 'finish_reason': 'tool_calls', 'logprobs': None}, id='run-e24554c8-5038-4b1d-aa4d-a022547b50f9-0', tool_calls=[{'name': 'get_share_price_on_date', 'args': {'symbol': 'AAPL', 'date': '2024-07-15'}, 'id': 'call_ppOMugjyTsmCWnu9hc4vYDRL'}, {'name': 'get_share_price_on_date', 'args': {'symbol': 'WBTN', 'date': '2024-07-15'}, 'id': 'call_1m4Bn9zWc9tzvnJ5XgG9ZXrg'}], usage_metadata={'input_tokens': 393, 'output_tokens': 70, 'total_tokens': 463})]}}\n",
      "{'tool_executor': {'messages': [ToolMessage(content='230.54', tool_call_id='call_ppOMugjyTsmCWnu9hc4vYDRL'),\n",
      "                                ToolMessage(content='20.14', tool_call_id='call_1m4Bn9zWc9tzvnJ5XgG9ZXrg')]}}\n",
      "{'agent': {'messages': [AIMessage(content='As of July 15, 2024, Apple Inc. (AAPL) has a higher stock price at $230.54 compared to Webtoon Entertainment Inc. (WBTN), which has a stock price of $20.14.', response_metadata={'token_usage': {'completion_tokens': 50, 'prompt_tokens': 483, 'total_tokens': 533}, 'model_name': 'gpt-4o-2024-05-13', 'system_fingerprint': 'fp_d33f7b429e', 'finish_reason': 'stop', 'logprobs': None}, id='run-abaf5f50-7ca0-4777-b209-e22c34e750c0-0', usage_metadata={'input_tokens': 483, 'output_tokens': 50, 'total_tokens': 533})]}}\n"
     ]
    }
   ],
   "source": [
    "from langchain_core.messages import HumanMessage\n",
    "from pprint import pprint\n",
    "\n",
    "message_text = \"Which has the higher stock price - Apple or Webtoon Entertainment?\"\n",
    "\n",
    "initial_state = {\"messages\": [HumanMessage(content=message_text)]}\n",
    "config = {\"configurable\": {\"thread_id\": \"demo\"}}\n",
    "\n",
    "for update in app.stream(initial_state, config=config):\n",
    "    pprint(update)"
   ]
  },
  {
   "cell_type": "code",
   "execution_count": 9,
   "metadata": {},
   "outputs": [
    {
     "name": "stdout",
     "output_type": "stream",
     "text": [
      "{'agent': {'messages': [AIMessage(content='', additional_kwargs={'tool_calls': [{'id': 'call_00L1I0MjmOMbKeG5DIf9HY1t', 'function': {'arguments': '{\"company_name\":\"Google\"}', 'name': 'search_for_symbol'}, 'type': 'function'}]}, response_metadata={'token_usage': {'completion_tokens': 16, 'prompt_tokens': 544, 'total_tokens': 560}, 'model_name': 'gpt-4o-2024-05-13', 'system_fingerprint': 'fp_d33f7b429e', 'finish_reason': 'tool_calls', 'logprobs': None}, id='run-727ad705-6d0b-460c-9a9b-993ade3ca6fb-0', tool_calls=[{'name': 'search_for_symbol', 'args': {'company_name': 'Google'}, 'id': 'call_00L1I0MjmOMbKeG5DIf9HY1t'}], usage_metadata={'input_tokens': 544, 'output_tokens': 16, 'total_tokens': 560})]}}\n",
      "{'tool_executor': {'messages': [ToolMessage(content='[]', tool_call_id='call_00L1I0MjmOMbKeG5DIf9HY1t')]}}\n",
      "{'agent': {'messages': [AIMessage(content='It appears there are no direct results for \"Google.\" The company is officially known as Alphabet Inc. Let me search for Alphabet Inc. instead.', additional_kwargs={'tool_calls': [{'id': 'call_L9eYIMuR5I5GuLVFbBnbQQMx', 'function': {'arguments': '{\"company_name\":\"Alphabet\"}', 'name': 'search_for_symbol'}, 'type': 'function'}]}, response_metadata={'token_usage': {'completion_tokens': 46, 'prompt_tokens': 570, 'total_tokens': 616}, 'model_name': 'gpt-4o-2024-05-13', 'system_fingerprint': 'fp_dd932ca5d1', 'finish_reason': 'tool_calls', 'logprobs': None}, id='run-0d2b9e10-390f-4981-8db6-c93a46a8fba6-0', tool_calls=[{'name': 'search_for_symbol', 'args': {'company_name': 'Alphabet'}, 'id': 'call_L9eYIMuR5I5GuLVFbBnbQQMx'}], usage_metadata={'input_tokens': 570, 'output_tokens': 46, 'total_tokens': 616})]}}\n",
      "{'tool_executor': {'messages': [ToolMessage(content='[\\n  {\\n    \"symbol\": \"GOOGL\",\\n    \"name\": \"Alphabet Inc - Class A\"\\n  },\\n  {\\n    \"symbol\": \"GOOG\",\\n    \"name\": \"Alphabet Inc - Class C\"\\n  }\\n]', tool_call_id='call_L9eYIMuR5I5GuLVFbBnbQQMx')]}}\n",
      "{'agent': {'messages': [AIMessage(content='', additional_kwargs={'tool_calls': [{'id': 'call_rMIpsJiDvisLpNa6KT3qyWhJ', 'function': {'arguments': '{\"symbol\": \"GOOGL\", \"date\": \"2024-07-15\"}', 'name': 'get_share_price_on_date'}, 'type': 'function'}, {'id': 'call_P8CQnLJFElsW6ETE9D6gBTbu', 'function': {'arguments': '{\"symbol\": \"GOOG\", \"date\": \"2024-07-15\"}', 'name': 'get_share_price_on_date'}, 'type': 'function'}]}, response_metadata={'token_usage': {'completion_tokens': 71, 'prompt_tokens': 677, 'total_tokens': 748}, 'model_name': 'gpt-4o-2024-05-13', 'system_fingerprint': 'fp_298125635f', 'finish_reason': 'tool_calls', 'logprobs': None}, id='run-fe245457-8c24-42ad-b67a-6ac2d94ce966-0', tool_calls=[{'name': 'get_share_price_on_date', 'args': {'symbol': 'GOOGL', 'date': '2024-07-15'}, 'id': 'call_rMIpsJiDvisLpNa6KT3qyWhJ'}, {'name': 'get_share_price_on_date', 'args': {'symbol': 'GOOG', 'date': '2024-07-15'}, 'id': 'call_P8CQnLJFElsW6ETE9D6gBTbu'}], usage_metadata={'input_tokens': 677, 'output_tokens': 71, 'total_tokens': 748})]}}\n",
      "{'tool_executor': {'messages': [ToolMessage(content='185.07', tool_call_id='call_rMIpsJiDvisLpNa6KT3qyWhJ'),\n",
      "                                ToolMessage(content='186.78', tool_call_id='call_P8CQnLJFElsW6ETE9D6gBTbu')]}}\n",
      "{'agent': {'messages': [AIMessage(content='As of July 15, 2024, the stock prices for Alphabet Inc. are as follows:\\n- Alphabet Inc. Class A (GOOGL): $185.07\\n- Alphabet Inc. Class C (GOOG): $186.78\\n\\nComparing these to Apple Inc. (AAPL) and Webtoon Entertainment Inc. (WBTN):\\n- Apple Inc. (AAPL): $230.54\\n- Webtoon Entertainment Inc. (WBTN): $20.14\\n\\nApple Inc. has the highest stock price among the three companies, followed by Alphabet Inc. Class C, Alphabet Inc. Class A, and then Webtoon Entertainment Inc.', response_metadata={'token_usage': {'completion_tokens': 136, 'prompt_tokens': 768, 'total_tokens': 904}, 'model_name': 'gpt-4o-2024-05-13', 'system_fingerprint': 'fp_dd932ca5d1', 'finish_reason': 'stop', 'logprobs': None}, id='run-a7b593c0-617c-402f-9e2a-66a2957e3f3b-0', usage_metadata={'input_tokens': 768, 'output_tokens': 136, 'total_tokens': 904})]}}\n"
     ]
    }
   ],
   "source": [
    "new_message_state = {\"messages\": [HumanMessage(content=\"Compare those to Google\")]}\n",
    "\n",
    "for update in app.stream(new_message_state, config=config):\n",
    "    pprint(update)"
   ]
  },
  {
   "cell_type": "markdown",
   "metadata": {},
   "source": [
    "## Check Pointed State"
   ]
  },
  {
   "cell_type": "code",
   "execution_count": 10,
   "metadata": {},
   "outputs": [
    {
     "name": "stdout",
     "output_type": "stream",
     "text": [
      "{'channel_values': {'agent': 'agent',\n",
      "                    'messages': [HumanMessage(content='Which has the higher stock price - Apple or Webtoon Entertainment?'),\n",
      "                                 AIMessage(content='', additional_kwargs={'tool_calls': [{'id': 'call_k7H06ij7nIqYhrUOm1c2Fee2', 'function': {'arguments': '{\"company_name\": \"Apple\"}', 'name': 'search_for_symbol'}, 'type': 'function'}, {'id': 'call_L74VmG3ppLPA5pjQsScs6wbG', 'function': {'arguments': '{\"company_name\": \"Webtoon Entertainment\"}', 'name': 'search_for_symbol'}, 'type': 'function'}]}, response_metadata={'token_usage': {'completion_tokens': 50, 'prompt_tokens': 267, 'total_tokens': 317}, 'model_name': 'gpt-4o-2024-05-13', 'system_fingerprint': 'fp_d33f7b429e', 'finish_reason': 'tool_calls', 'logprobs': None}, id='run-58a97208-4aff-4059-adc4-2067286bcf60-0', tool_calls=[{'name': 'search_for_symbol', 'args': {'company_name': 'Apple'}, 'id': 'call_k7H06ij7nIqYhrUOm1c2Fee2'}, {'name': 'search_for_symbol', 'args': {'company_name': 'Webtoon Entertainment'}, 'id': 'call_L74VmG3ppLPA5pjQsScs6wbG'}], usage_metadata={'input_tokens': 267, 'output_tokens': 50, 'total_tokens': 317}),\n",
      "                                 ToolMessage(content='[\\n  {\\n    \"symbol\": \"APLE\",\\n    \"name\": \"Apple Hospitality REIT Inc\"\\n  },\\n  {\\n    \"symbol\": \"AAPL\",\\n    \"name\": \"Apple Inc\"\\n  },\\n  {\\n    \"symbol\": \"AGPL\",\\n    \"name\": \"Apple Green Holding Inc\"\\n  }\\n]', tool_call_id='call_k7H06ij7nIqYhrUOm1c2Fee2'),\n",
      "                                 ToolMessage(content='[\\n  {\\n    \"symbol\": \"WBTN\",\\n    \"name\": \"Webtoon Entertainment Inc\"\\n  }\\n]', tool_call_id='call_L74VmG3ppLPA5pjQsScs6wbG'),\n",
      "                                 AIMessage(content='', additional_kwargs={'tool_calls': [{'id': 'call_ppOMugjyTsmCWnu9hc4vYDRL', 'function': {'arguments': '{\"symbol\": \"AAPL\", \"date\": \"2024-07-15\"}', 'name': 'get_share_price_on_date'}, 'type': 'function'}, {'id': 'call_1m4Bn9zWc9tzvnJ5XgG9ZXrg', 'function': {'arguments': '{\"symbol\": \"WBTN\", \"date\": \"2024-07-15\"}', 'name': 'get_share_price_on_date'}, 'type': 'function'}]}, response_metadata={'token_usage': {'completion_tokens': 70, 'prompt_tokens': 393, 'total_tokens': 463}, 'model_name': 'gpt-4o-2024-05-13', 'system_fingerprint': 'fp_dd932ca5d1', 'finish_reason': 'tool_calls', 'logprobs': None}, id='run-e24554c8-5038-4b1d-aa4d-a022547b50f9-0', tool_calls=[{'name': 'get_share_price_on_date', 'args': {'symbol': 'AAPL', 'date': '2024-07-15'}, 'id': 'call_ppOMugjyTsmCWnu9hc4vYDRL'}, {'name': 'get_share_price_on_date', 'args': {'symbol': 'WBTN', 'date': '2024-07-15'}, 'id': 'call_1m4Bn9zWc9tzvnJ5XgG9ZXrg'}], usage_metadata={'input_tokens': 393, 'output_tokens': 70, 'total_tokens': 463}),\n",
      "                                 ToolMessage(content='230.54', tool_call_id='call_ppOMugjyTsmCWnu9hc4vYDRL'),\n",
      "                                 ToolMessage(content='20.14', tool_call_id='call_1m4Bn9zWc9tzvnJ5XgG9ZXrg'),\n",
      "                                 AIMessage(content='As of July 15, 2024, Apple Inc. (AAPL) has a higher stock price at $230.54 compared to Webtoon Entertainment Inc. (WBTN), which has a stock price of $20.14.', response_metadata={'token_usage': {'completion_tokens': 50, 'prompt_tokens': 483, 'total_tokens': 533}, 'model_name': 'gpt-4o-2024-05-13', 'system_fingerprint': 'fp_d33f7b429e', 'finish_reason': 'stop', 'logprobs': None}, id='run-abaf5f50-7ca0-4777-b209-e22c34e750c0-0', usage_metadata={'input_tokens': 483, 'output_tokens': 50, 'total_tokens': 533}),\n",
      "                                 HumanMessage(content='Compare those to Google'),\n",
      "                                 AIMessage(content='', additional_kwargs={'tool_calls': [{'id': 'call_00L1I0MjmOMbKeG5DIf9HY1t', 'function': {'arguments': '{\"company_name\":\"Google\"}', 'name': 'search_for_symbol'}, 'type': 'function'}]}, response_metadata={'token_usage': {'completion_tokens': 16, 'prompt_tokens': 544, 'total_tokens': 560}, 'model_name': 'gpt-4o-2024-05-13', 'system_fingerprint': 'fp_d33f7b429e', 'finish_reason': 'tool_calls', 'logprobs': None}, id='run-727ad705-6d0b-460c-9a9b-993ade3ca6fb-0', tool_calls=[{'name': 'search_for_symbol', 'args': {'company_name': 'Google'}, 'id': 'call_00L1I0MjmOMbKeG5DIf9HY1t'}], usage_metadata={'input_tokens': 544, 'output_tokens': 16, 'total_tokens': 560}),\n",
      "                                 ToolMessage(content='[]', tool_call_id='call_00L1I0MjmOMbKeG5DIf9HY1t'),\n",
      "                                 AIMessage(content='It appears there are no direct results for \"Google.\" The company is officially known as Alphabet Inc. Let me search for Alphabet Inc. instead.', additional_kwargs={'tool_calls': [{'id': 'call_L9eYIMuR5I5GuLVFbBnbQQMx', 'function': {'arguments': '{\"company_name\":\"Alphabet\"}', 'name': 'search_for_symbol'}, 'type': 'function'}]}, response_metadata={'token_usage': {'completion_tokens': 46, 'prompt_tokens': 570, 'total_tokens': 616}, 'model_name': 'gpt-4o-2024-05-13', 'system_fingerprint': 'fp_dd932ca5d1', 'finish_reason': 'tool_calls', 'logprobs': None}, id='run-0d2b9e10-390f-4981-8db6-c93a46a8fba6-0', tool_calls=[{'name': 'search_for_symbol', 'args': {'company_name': 'Alphabet'}, 'id': 'call_L9eYIMuR5I5GuLVFbBnbQQMx'}], usage_metadata={'input_tokens': 570, 'output_tokens': 46, 'total_tokens': 616}),\n",
      "                                 ToolMessage(content='[\\n  {\\n    \"symbol\": \"GOOGL\",\\n    \"name\": \"Alphabet Inc - Class A\"\\n  },\\n  {\\n    \"symbol\": \"GOOG\",\\n    \"name\": \"Alphabet Inc - Class C\"\\n  }\\n]', tool_call_id='call_L9eYIMuR5I5GuLVFbBnbQQMx'),\n",
      "                                 AIMessage(content='', additional_kwargs={'tool_calls': [{'id': 'call_rMIpsJiDvisLpNa6KT3qyWhJ', 'function': {'arguments': '{\"symbol\": \"GOOGL\", \"date\": \"2024-07-15\"}', 'name': 'get_share_price_on_date'}, 'type': 'function'}, {'id': 'call_P8CQnLJFElsW6ETE9D6gBTbu', 'function': {'arguments': '{\"symbol\": \"GOOG\", \"date\": \"2024-07-15\"}', 'name': 'get_share_price_on_date'}, 'type': 'function'}]}, response_metadata={'token_usage': {'completion_tokens': 71, 'prompt_tokens': 677, 'total_tokens': 748}, 'model_name': 'gpt-4o-2024-05-13', 'system_fingerprint': 'fp_298125635f', 'finish_reason': 'tool_calls', 'logprobs': None}, id='run-fe245457-8c24-42ad-b67a-6ac2d94ce966-0', tool_calls=[{'name': 'get_share_price_on_date', 'args': {'symbol': 'GOOGL', 'date': '2024-07-15'}, 'id': 'call_rMIpsJiDvisLpNa6KT3qyWhJ'}, {'name': 'get_share_price_on_date', 'args': {'symbol': 'GOOG', 'date': '2024-07-15'}, 'id': 'call_P8CQnLJFElsW6ETE9D6gBTbu'}], usage_metadata={'input_tokens': 677, 'output_tokens': 71, 'total_tokens': 748}),\n",
      "                                 ToolMessage(content='185.07', tool_call_id='call_rMIpsJiDvisLpNa6KT3qyWhJ'),\n",
      "                                 ToolMessage(content='186.78', tool_call_id='call_P8CQnLJFElsW6ETE9D6gBTbu'),\n",
      "                                 AIMessage(content='As of July 15, 2024, the stock prices for Alphabet Inc. are as follows:\\n- Alphabet Inc. Class A (GOOGL): $185.07\\n- Alphabet Inc. Class C (GOOG): $186.78\\n\\nComparing these to Apple Inc. (AAPL) and Webtoon Entertainment Inc. (WBTN):\\n- Apple Inc. (AAPL): $230.54\\n- Webtoon Entertainment Inc. (WBTN): $20.14\\n\\nApple Inc. has the highest stock price among the three companies, followed by Alphabet Inc. Class C, Alphabet Inc. Class A, and then Webtoon Entertainment Inc.', response_metadata={'token_usage': {'completion_tokens': 136, 'prompt_tokens': 768, 'total_tokens': 904}, 'model_name': 'gpt-4o-2024-05-13', 'system_fingerprint': 'fp_dd932ca5d1', 'finish_reason': 'stop', 'logprobs': None}, id='run-a7b593c0-617c-402f-9e2a-66a2957e3f3b-0', usage_metadata={'input_tokens': 768, 'output_tokens': 136, 'total_tokens': 904})]},\n",
      " 'channel_versions': {'__start__': 9,\n",
      "                      'agent': 16,\n",
      "                      'branch:agent:condition:tool_executor': 15,\n",
      "                      'messages': 16,\n",
      "                      'start:agent': 10,\n",
      "                      'tool_executor': 16},\n",
      " 'id': '1ef42a4a-ae57-632e-800e-635c1958e554',\n",
      " 'pending_sends': [],\n",
      " 'ts': '2024-07-15T12:20:48.100836+00:00',\n",
      " 'v': 1,\n",
      " 'versions_seen': {'__start__': {'__start__': 8},\n",
      "                   'agent': {'start:agent': 10, 'tool_executor': 15},\n",
      "                   'tool_executor': {'branch:agent:condition:tool_executor': 14}}}\n"
     ]
    }
   ],
   "source": [
    "pprint(checkpointer.get(config))"
   ]
  },
  {
   "cell_type": "markdown",
   "metadata": {},
   "source": [
    "## Example using LangGraph's prebuilt support to make simple tooling agents."
   ]
  },
  {
   "cell_type": "code",
   "execution_count": 11,
   "metadata": {},
   "outputs": [
    {
     "data": {
      "text/plain": [
       "{'messages': [HumanMessage(content=\"How much has Apple's stock price changed in the last year?\", id='712034b7-e5e7-47a6-84af-93593e6ca1b4'),\n",
       "  AIMessage(content='', additional_kwargs={'tool_calls': [{'id': 'call_ISynfIgvoXLhfEt2z3cGVQSB', 'function': {'arguments': '{\"company_name\":\"Apple\"}', 'name': 'search_for_symbol'}, 'type': 'function'}]}, response_metadata={'token_usage': {'completion_tokens': 16, 'prompt_tokens': 266, 'total_tokens': 282}, 'model_name': 'gpt-4o-2024-05-13', 'system_fingerprint': 'fp_d33f7b429e', 'finish_reason': 'tool_calls', 'logprobs': None}, id='run-c7ee1fe4-cf5a-4d19-b55c-35b877a9c253-0', tool_calls=[{'name': 'search_for_symbol', 'args': {'company_name': 'Apple'}, 'id': 'call_ISynfIgvoXLhfEt2z3cGVQSB'}], usage_metadata={'input_tokens': 266, 'output_tokens': 16, 'total_tokens': 282}),\n",
       "  ToolMessage(content='[\\n  {\\n    \"symbol\": \"APLE\",\\n    \"name\": \"Apple Hospitality REIT Inc\"\\n  },\\n  {\\n    \"symbol\": \"AAPL\",\\n    \"name\": \"Apple Inc\"\\n  },\\n  {\\n    \"symbol\": \"AGPL\",\\n    \"name\": \"Apple Green Holding Inc\"\\n  }\\n]', name='search_for_symbol', id='c61c2bd8-18d2-4611-8ce9-16e8584d9b4c', tool_call_id='call_ISynfIgvoXLhfEt2z3cGVQSB'),\n",
       "  AIMessage(content='', additional_kwargs={'tool_calls': [{'id': 'call_zIeaHeyPud3UtZNRl46APrYp', 'function': {'arguments': '{\"symbol\": \"AAPL\", \"date\": \"2023-07-15\"}', 'name': 'get_share_price_on_date'}, 'type': 'function'}, {'id': 'call_9gkzasCj4q5yjcuEa22uHuJq', 'function': {'arguments': '{\"symbol\": \"AAPL\", \"date\": \"2024-07-15\"}', 'name': 'get_share_price_on_date'}, 'type': 'function'}]}, response_metadata={'token_usage': {'completion_tokens': 70, 'prompt_tokens': 358, 'total_tokens': 428}, 'model_name': 'gpt-4o-2024-05-13', 'system_fingerprint': 'fp_d33f7b429e', 'finish_reason': 'tool_calls', 'logprobs': None}, id='run-4a99b316-a0b2-4517-9e15-ba58a53c501c-0', tool_calls=[{'name': 'get_share_price_on_date', 'args': {'symbol': 'AAPL', 'date': '2023-07-15'}, 'id': 'call_zIeaHeyPud3UtZNRl46APrYp'}, {'name': 'get_share_price_on_date', 'args': {'symbol': 'AAPL', 'date': '2024-07-15'}, 'id': 'call_9gkzasCj4q5yjcuEa22uHuJq'}], usage_metadata={'input_tokens': 358, 'output_tokens': 70, 'total_tokens': 428}),\n",
       "  ToolMessage(content='189.687596916806', name='get_share_price_on_date', id='3946a185-ee1d-426e-ac8e-b7bf991b223c', tool_call_id='call_zIeaHeyPud3UtZNRl46APrYp'),\n",
       "  ToolMessage(content='230.54', name='get_share_price_on_date', id='d4a97f6e-ff66-4b86-9301-72d4923c7b33', tool_call_id='call_9gkzasCj4q5yjcuEa22uHuJq'),\n",
       "  AIMessage(content=\"On July 15, 2023, Apple's stock price was approximately $189.69. As of today, July 15, 2024, the stock price is $230.54. \\n\\nThis represents an increase of $40.85 over the past year.\", response_metadata={'token_usage': {'completion_tokens': 56, 'prompt_tokens': 451, 'total_tokens': 507}, 'model_name': 'gpt-4o-2024-05-13', 'system_fingerprint': 'fp_d33f7b429e', 'finish_reason': 'stop', 'logprobs': None}, id='run-5fecc4ea-3184-4f0d-abe3-b906912de0e4-0', usage_metadata={'input_tokens': 451, 'output_tokens': 56, 'total_tokens': 507})]}"
      ]
     },
     "execution_count": 11,
     "metadata": {},
     "output_type": "execute_result"
    }
   ],
   "source": [
    "from langgraph.prebuilt import ToolNode, tools_condition\n",
    "from langgraph.graph import MessagesState\n",
    "from langchain_core.runnables import RunnablePassthrough\n",
    "\n",
    "simple_tools_graph = StateGraph(MessagesState)\n",
    "\n",
    "simple_tools_graph.add_node(\"agent\", agent_chain | { \"messages\": RunnablePassthrough() })\n",
    "simple_tools_graph.add_node(ToolNode(tools))\n",
    "\n",
    "simple_tools_graph.set_entry_point(\"agent\")\n",
    "simple_tools_graph.add_conditional_edges(\"agent\", tools_condition)\n",
    "simple_tools_graph.add_edge(\"tools\", \"agent\")\n",
    "\n",
    "simple_agent_app = simple_tools_graph.compile()\n",
    "\n",
    "simple_agent_app.invoke({\n",
    "    \"messages\": HumanMessage(content=\"How much has Apple's stock price changed in the last year?\"),\n",
    "})"
   ]
  },
  {
   "cell_type": "markdown",
   "metadata": {},
   "source": [
    "## Completely prebuilt agent."
   ]
  },
  {
   "cell_type": "code",
   "execution_count": 12,
   "metadata": {},
   "outputs": [
    {
     "name": "stdout",
     "output_type": "stream",
     "text": [
      "{'agent': {'messages': [AIMessage(content='', additional_kwargs={'tool_calls': [{'id': 'call_EA2oDkzDzNTwoYwJhxf6Mm40', 'function': {'arguments': '{\"company_name\":\"Apple\"}', 'name': 'search_for_symbol'}, 'type': 'function'}]}, response_metadata={'token_usage': {'completion_tokens': 16, 'prompt_tokens': 249, 'total_tokens': 265}, 'model_name': 'gpt-4o-2024-05-13', 'system_fingerprint': 'fp_298125635f', 'finish_reason': 'tool_calls', 'logprobs': None}, id='run-aaa88559-d7a6-4c43-8066-af075cba15bf-0', tool_calls=[{'name': 'search_for_symbol', 'args': {'company_name': 'Apple'}, 'id': 'call_EA2oDkzDzNTwoYwJhxf6Mm40'}], usage_metadata={'input_tokens': 249, 'output_tokens': 16, 'total_tokens': 265})]}}\n",
      "{'tools': {'messages': [ToolMessage(content='[\\n  {\\n    \"symbol\": \"APLE\",\\n    \"name\": \"Apple Hospitality REIT Inc\"\\n  },\\n  {\\n    \"symbol\": \"AAPL\",\\n    \"name\": \"Apple Inc\"\\n  },\\n  {\\n    \"symbol\": \"AGPL\",\\n    \"name\": \"Apple Green Holding Inc\"\\n  }\\n]', name='search_for_symbol', tool_call_id='call_EA2oDkzDzNTwoYwJhxf6Mm40')]}}\n",
      "{'agent': {'messages': [AIMessage(content='', additional_kwargs={'tool_calls': [{'id': 'call_k7H06ij7nIqYhrUOm1c2Fee2', 'function': {'arguments': '{\"symbol\":\"AAPL\",\"date\":\"2023-10-04\"}', 'name': 'get_share_price_on_date'}, 'type': 'function'}]}, response_metadata={'token_usage': {'completion_tokens': 27, 'prompt_tokens': 341, 'total_tokens': 368}, 'model_name': 'gpt-4o-2024-05-13', 'system_fingerprint': 'fp_d33f7b429e', 'finish_reason': 'tool_calls', 'logprobs': None}, id='run-ea427bd8-cdd3-477b-a325-38a044989789-0', tool_calls=[{'name': 'get_share_price_on_date', 'args': {'symbol': 'AAPL', 'date': '2023-10-04'}, 'id': 'call_k7H06ij7nIqYhrUOm1c2Fee2'}], usage_metadata={'input_tokens': 341, 'output_tokens': 27, 'total_tokens': 368})]}}\n",
      "{'tools': {'messages': [ToolMessage(content='172.980311360539', name='get_share_price_on_date', tool_call_id='call_k7H06ij7nIqYhrUOm1c2Fee2')]}}\n",
      "{'agent': {'messages': [AIMessage(content='The stock price of Apple Inc (AAPL) on October 4, 2023, is $172.98.', response_metadata={'token_usage': {'completion_tokens': 26, 'prompt_tokens': 385, 'total_tokens': 411}, 'model_name': 'gpt-4o-2024-05-13', 'system_fingerprint': 'fp_298125635f', 'finish_reason': 'stop', 'logprobs': None}, id='run-14562700-38fa-4d1c-a3eb-283ac5a0dbf7-0', usage_metadata={'input_tokens': 385, 'output_tokens': 26, 'total_tokens': 411})]}}\n"
     ]
    }
   ],
   "source": [
    "from langgraph.prebuilt import create_react_agent\n",
    "\n",
    "full_agent = create_react_agent(\n",
    "    model=ChatOpenAI(\n",
    "        model=\"gpt-4o\",\n",
    "        temperature=0,\n",
    "    ),\n",
    "    tools=tools,\n",
    "    messages_modifier=\"Use the provided tools to answer questions about the stock market.\",\n",
    ")\n",
    "\n",
    "for update in full_agent.stream({ \"messages\": [HumanMessage(\"What is the stock price of Apple?\")]}):\n",
    "    pprint(update)\n"
   ]
  }
 ],
 "metadata": {
  "kernelspec": {
   "display_name": ".venv",
   "language": "python",
   "name": "python3"
  },
  "language_info": {
   "codemirror_mode": {
    "name": "ipython",
    "version": 3
   },
   "file_extension": ".py",
   "mimetype": "text/x-python",
   "name": "python",
   "nbconvert_exporter": "python",
   "pygments_lexer": "ipython3",
   "version": "3.12.4"
  }
 },
 "nbformat": 4,
 "nbformat_minor": 2
}
